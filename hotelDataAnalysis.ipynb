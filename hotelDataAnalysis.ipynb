{
 "cells": [
  {
   "cell_type": "code",
   "execution_count": 1,
   "id": "95beebae-6644-4172-be32-5c93fbfffb90",
   "metadata": {},
   "outputs": [
    {
     "data": {
      "text/html": [
       "        <script type=\"text/javascript\">\n",
       "        window.PlotlyConfig = {MathJaxConfig: 'local'};\n",
       "        if (window.MathJax && window.MathJax.Hub && window.MathJax.Hub.Config) {window.MathJax.Hub.Config({SVG: {font: \"STIX-Web\"}});}\n",
       "        </script>\n",
       "        <script type=\"module\">import \"https://cdn.plot.ly/plotly-3.0.0.min\"</script>\n",
       "        "
      ]
     },
     "metadata": {},
     "output_type": "display_data"
    }
   ],
   "source": [
    "import pandas as pd\n",
    "import numpy as np\n",
    "import matplotlib.pyplot as plt\n",
    "import seaborn as sns\n",
    "import chart_studio.plotly as py\n",
    "import plotly.graph_objs as go\n",
    "import plotly.express as px\n",
    "\n",
    "from plotly.offline import download_plotlyjs, init_notebook_mode, iplot\n",
    "\n",
    "init_notebook_mode(connected=True)"
   ]
  },
  {
   "cell_type": "code",
   "execution_count": 2,
   "id": "a30edd70-e3ce-49cb-844f-cadcf4c9b256",
   "metadata": {},
   "outputs": [],
   "source": [
    "hotel_df = pd.read_csv(r\"C:\\Users\\ruben\\Desktop\\DataPortfolio\\Datasets\\Hotel\\hotel_bookings.csv\")"
   ]
  },
  {
   "cell_type": "code",
   "execution_count": 4,
   "id": "795f865c-1ecd-4cf3-898c-11128168ed4e",
   "metadata": {},
   "outputs": [
    {
     "data": {
      "text/html": [
       "<div>\n",
       "<style scoped>\n",
       "    .dataframe tbody tr th:only-of-type {\n",
       "        vertical-align: middle;\n",
       "    }\n",
       "\n",
       "    .dataframe tbody tr th {\n",
       "        vertical-align: top;\n",
       "    }\n",
       "\n",
       "    .dataframe thead th {\n",
       "        text-align: right;\n",
       "    }\n",
       "</style>\n",
       "<table border=\"1\" class=\"dataframe\">\n",
       "  <thead>\n",
       "    <tr style=\"text-align: right;\">\n",
       "      <th></th>\n",
       "      <th>hotel</th>\n",
       "      <th>is_canceled</th>\n",
       "      <th>lead_time</th>\n",
       "      <th>arrival_date_year</th>\n",
       "      <th>arrival_date_month</th>\n",
       "      <th>arrival_date_week_number</th>\n",
       "      <th>arrival_date_day_of_month</th>\n",
       "      <th>stays_in_weekend_nights</th>\n",
       "      <th>stays_in_week_nights</th>\n",
       "      <th>adults</th>\n",
       "      <th>...</th>\n",
       "      <th>deposit_type</th>\n",
       "      <th>agent</th>\n",
       "      <th>company</th>\n",
       "      <th>days_in_waiting_list</th>\n",
       "      <th>customer_type</th>\n",
       "      <th>adr</th>\n",
       "      <th>required_car_parking_spaces</th>\n",
       "      <th>total_of_special_requests</th>\n",
       "      <th>reservation_status</th>\n",
       "      <th>reservation_status_date</th>\n",
       "    </tr>\n",
       "  </thead>\n",
       "  <tbody>\n",
       "    <tr>\n",
       "      <th>0</th>\n",
       "      <td>Resort Hotel</td>\n",
       "      <td>0</td>\n",
       "      <td>342</td>\n",
       "      <td>2015</td>\n",
       "      <td>July</td>\n",
       "      <td>27</td>\n",
       "      <td>1</td>\n",
       "      <td>0</td>\n",
       "      <td>0</td>\n",
       "      <td>2</td>\n",
       "      <td>...</td>\n",
       "      <td>No Deposit</td>\n",
       "      <td>NaN</td>\n",
       "      <td>NaN</td>\n",
       "      <td>0</td>\n",
       "      <td>Transient</td>\n",
       "      <td>0.0</td>\n",
       "      <td>0</td>\n",
       "      <td>0</td>\n",
       "      <td>Check-Out</td>\n",
       "      <td>7/1/2015</td>\n",
       "    </tr>\n",
       "    <tr>\n",
       "      <th>1</th>\n",
       "      <td>Resort Hotel</td>\n",
       "      <td>0</td>\n",
       "      <td>737</td>\n",
       "      <td>2015</td>\n",
       "      <td>July</td>\n",
       "      <td>27</td>\n",
       "      <td>1</td>\n",
       "      <td>0</td>\n",
       "      <td>0</td>\n",
       "      <td>2</td>\n",
       "      <td>...</td>\n",
       "      <td>No Deposit</td>\n",
       "      <td>NaN</td>\n",
       "      <td>NaN</td>\n",
       "      <td>0</td>\n",
       "      <td>Transient</td>\n",
       "      <td>0.0</td>\n",
       "      <td>0</td>\n",
       "      <td>0</td>\n",
       "      <td>Check-Out</td>\n",
       "      <td>7/1/2015</td>\n",
       "    </tr>\n",
       "    <tr>\n",
       "      <th>2</th>\n",
       "      <td>Resort Hotel</td>\n",
       "      <td>0</td>\n",
       "      <td>7</td>\n",
       "      <td>2015</td>\n",
       "      <td>July</td>\n",
       "      <td>27</td>\n",
       "      <td>1</td>\n",
       "      <td>0</td>\n",
       "      <td>1</td>\n",
       "      <td>1</td>\n",
       "      <td>...</td>\n",
       "      <td>No Deposit</td>\n",
       "      <td>NaN</td>\n",
       "      <td>NaN</td>\n",
       "      <td>0</td>\n",
       "      <td>Transient</td>\n",
       "      <td>75.0</td>\n",
       "      <td>0</td>\n",
       "      <td>0</td>\n",
       "      <td>Check-Out</td>\n",
       "      <td>7/2/2015</td>\n",
       "    </tr>\n",
       "  </tbody>\n",
       "</table>\n",
       "<p>3 rows × 32 columns</p>\n",
       "</div>"
      ],
      "text/plain": [
       "          hotel  is_canceled  lead_time  arrival_date_year arrival_date_month  \\\n",
       "0  Resort Hotel            0        342               2015               July   \n",
       "1  Resort Hotel            0        737               2015               July   \n",
       "2  Resort Hotel            0          7               2015               July   \n",
       "\n",
       "   arrival_date_week_number  arrival_date_day_of_month  \\\n",
       "0                        27                          1   \n",
       "1                        27                          1   \n",
       "2                        27                          1   \n",
       "\n",
       "   stays_in_weekend_nights  stays_in_week_nights  adults  ...  deposit_type  \\\n",
       "0                        0                     0       2  ...    No Deposit   \n",
       "1                        0                     0       2  ...    No Deposit   \n",
       "2                        0                     1       1  ...    No Deposit   \n",
       "\n",
       "   agent company days_in_waiting_list customer_type   adr  \\\n",
       "0    NaN     NaN                    0     Transient   0.0   \n",
       "1    NaN     NaN                    0     Transient   0.0   \n",
       "2    NaN     NaN                    0     Transient  75.0   \n",
       "\n",
       "   required_car_parking_spaces  total_of_special_requests  reservation_status  \\\n",
       "0                            0                          0           Check-Out   \n",
       "1                            0                          0           Check-Out   \n",
       "2                            0                          0           Check-Out   \n",
       "\n",
       "  reservation_status_date  \n",
       "0                7/1/2015  \n",
       "1                7/1/2015  \n",
       "2                7/2/2015  \n",
       "\n",
       "[3 rows x 32 columns]"
      ]
     },
     "execution_count": 4,
     "metadata": {},
     "output_type": "execute_result"
    }
   ],
   "source": [
    "hotel_df.head(3)"
   ]
  },
  {
   "cell_type": "code",
   "execution_count": 33,
   "id": "d35cb43b-2364-47e8-b5ca-81d27cd99d16",
   "metadata": {},
   "outputs": [
    {
     "data": {
      "text/plain": [
       "(119390, 32)"
      ]
     },
     "execution_count": 33,
     "metadata": {},
     "output_type": "execute_result"
    }
   ],
   "source": [
    "hotel_df.shape"
   ]
  },
  {
   "cell_type": "code",
   "execution_count": 7,
   "id": "a0675e37-09e2-4cc2-b316-6d353f08b345",
   "metadata": {},
   "outputs": [
    {
     "data": {
      "text/plain": [
       "hotel                              object\n",
       "is_canceled                         int64\n",
       "lead_time                           int64\n",
       "arrival_date_year                   int64\n",
       "arrival_date_month                 object\n",
       "arrival_date_week_number            int64\n",
       "arrival_date_day_of_month           int64\n",
       "stays_in_weekend_nights             int64\n",
       "stays_in_week_nights                int64\n",
       "adults                              int64\n",
       "children                          float64\n",
       "babies                              int64\n",
       "meal                               object\n",
       "country                            object\n",
       "market_segment                     object\n",
       "distribution_channel               object\n",
       "is_repeated_guest                   int64\n",
       "previous_cancellations              int64\n",
       "previous_bookings_not_canceled      int64\n",
       "reserved_room_type                 object\n",
       "assigned_room_type                 object\n",
       "booking_changes                     int64\n",
       "deposit_type                       object\n",
       "agent                             float64\n",
       "company                           float64\n",
       "days_in_waiting_list                int64\n",
       "customer_type                      object\n",
       "adr                               float64\n",
       "required_car_parking_spaces         int64\n",
       "total_of_special_requests           int64\n",
       "reservation_status                 object\n",
       "reservation_status_date            object\n",
       "dtype: object"
      ]
     },
     "execution_count": 7,
     "metadata": {},
     "output_type": "execute_result"
    }
   ],
   "source": [
    "hotel_df.dtypes"
   ]
  },
  {
   "cell_type": "code",
   "execution_count": 8,
   "id": "4320022d-5a4d-4eb8-b0ed-095ba4ec73cf",
   "metadata": {},
   "outputs": [],
   "source": [
    "# irrelevant lines: if a reservation has the columns adults, children and babies simultaneously = 0\n",
    "\n",
    "# .all(axis=1) --> checks if all values across rows are True for the subset filter\n",
    "# ~ --> bitwise NOT operator, which inverts the boolean value"
   ]
  },
  {
   "cell_type": "code",
   "execution_count": 3,
   "id": "8a017f19-2f8e-49fc-b1d6-46417f2cc6e4",
   "metadata": {},
   "outputs": [],
   "source": [
    "subset = ['adults', 'children', 'babies']\n",
    "hotel_df = hotel_df[~(hotel_df[subset] == 0).all(axis=1)]"
   ]
  },
  {
   "cell_type": "code",
   "execution_count": 4,
   "id": "1dab3c27-745e-4871-b058-b024d365bdf3",
   "metadata": {},
   "outputs": [
    {
     "data": {
      "text/plain": [
       "(119210, 32)"
      ]
     },
     "execution_count": 4,
     "metadata": {},
     "output_type": "execute_result"
    }
   ],
   "source": [
    "hotel_df.shape"
   ]
  },
  {
   "cell_type": "code",
   "execution_count": 41,
   "id": "e927ddab-09f9-4332-a3f4-dc7293321089",
   "metadata": {},
   "outputs": [],
   "source": [
    "# removing duplicated rows"
   ]
  },
  {
   "cell_type": "code",
   "execution_count": 5,
   "id": "256b8442-d953-421f-aeb5-05c7b2eb48fc",
   "metadata": {},
   "outputs": [],
   "source": [
    "hotel_df = hotel_df.drop_duplicates()"
   ]
  },
  {
   "cell_type": "code",
   "execution_count": 6,
   "id": "c6789a36-ebe6-49b7-850c-2075057d06ac",
   "metadata": {},
   "outputs": [
    {
     "data": {
      "text/plain": [
       "(87230, 32)"
      ]
     },
     "execution_count": 6,
     "metadata": {},
     "output_type": "execute_result"
    }
   ],
   "source": [
    "hotel_df.shape"
   ]
  },
  {
   "cell_type": "code",
   "execution_count": 47,
   "id": "a3142c86-d2e6-4758-a9d0-112d06747b22",
   "metadata": {},
   "outputs": [],
   "source": [
    "# BUSINESS rules: \n",
    "# lead_time = the number of days between when a booking is made and the actual arrival \n",
    "# adr = average daily rate"
   ]
  },
  {
   "cell_type": "code",
   "execution_count": 7,
   "id": "030aadaa-a9c8-4453-8367-429029bfea16",
   "metadata": {},
   "outputs": [],
   "source": [
    "subset2 = ['lead_time', 'total_of_special_requests', 'adr']"
   ]
  },
  {
   "cell_type": "code",
   "execution_count": 49,
   "id": "5c3f1719-7194-4f3f-83a1-f611007c903e",
   "metadata": {},
   "outputs": [],
   "source": [
    "# getting a descriptive analysis of the subset"
   ]
  },
  {
   "cell_type": "code",
   "execution_count": 50,
   "id": "c713bd3d-5e66-48e8-82a8-cbc07d43b4e6",
   "metadata": {},
   "outputs": [
    {
     "data": {
      "text/html": [
       "<div>\n",
       "<style scoped>\n",
       "    .dataframe tbody tr th:only-of-type {\n",
       "        vertical-align: middle;\n",
       "    }\n",
       "\n",
       "    .dataframe tbody tr th {\n",
       "        vertical-align: top;\n",
       "    }\n",
       "\n",
       "    .dataframe thead th {\n",
       "        text-align: right;\n",
       "    }\n",
       "</style>\n",
       "<table border=\"1\" class=\"dataframe\">\n",
       "  <thead>\n",
       "    <tr style=\"text-align: right;\">\n",
       "      <th></th>\n",
       "      <th>lead_time</th>\n",
       "      <th>total_of_special_requests</th>\n",
       "      <th>adr</th>\n",
       "    </tr>\n",
       "  </thead>\n",
       "  <tbody>\n",
       "    <tr>\n",
       "      <th>count</th>\n",
       "      <td>87230.000000</td>\n",
       "      <td>87230.000000</td>\n",
       "      <td>87230.000000</td>\n",
       "    </tr>\n",
       "    <tr>\n",
       "      <th>mean</th>\n",
       "      <td>79.971019</td>\n",
       "      <td>0.698934</td>\n",
       "      <td>106.518031</td>\n",
       "    </tr>\n",
       "    <tr>\n",
       "      <th>std</th>\n",
       "      <td>86.058683</td>\n",
       "      <td>0.832051</td>\n",
       "      <td>54.891227</td>\n",
       "    </tr>\n",
       "    <tr>\n",
       "      <th>min</th>\n",
       "      <td>0.000000</td>\n",
       "      <td>0.000000</td>\n",
       "      <td>-6.380000</td>\n",
       "    </tr>\n",
       "    <tr>\n",
       "      <th>25%</th>\n",
       "      <td>11.000000</td>\n",
       "      <td>0.000000</td>\n",
       "      <td>72.250000</td>\n",
       "    </tr>\n",
       "    <tr>\n",
       "      <th>50%</th>\n",
       "      <td>49.000000</td>\n",
       "      <td>0.000000</td>\n",
       "      <td>98.200000</td>\n",
       "    </tr>\n",
       "    <tr>\n",
       "      <th>75%</th>\n",
       "      <td>125.000000</td>\n",
       "      <td>1.000000</td>\n",
       "      <td>134.100000</td>\n",
       "    </tr>\n",
       "    <tr>\n",
       "      <th>max</th>\n",
       "      <td>737.000000</td>\n",
       "      <td>5.000000</td>\n",
       "      <td>5400.000000</td>\n",
       "    </tr>\n",
       "  </tbody>\n",
       "</table>\n",
       "</div>"
      ],
      "text/plain": [
       "          lead_time  total_of_special_requests           adr\n",
       "count  87230.000000               87230.000000  87230.000000\n",
       "mean      79.971019                   0.698934    106.518031\n",
       "std       86.058683                   0.832051     54.891227\n",
       "min        0.000000                   0.000000     -6.380000\n",
       "25%       11.000000                   0.000000     72.250000\n",
       "50%       49.000000                   0.000000     98.200000\n",
       "75%      125.000000                   1.000000    134.100000\n",
       "max      737.000000                   5.000000   5400.000000"
      ]
     },
     "execution_count": 50,
     "metadata": {},
     "output_type": "execute_result"
    }
   ],
   "source": [
    "hotel_df[subset2].describe()"
   ]
  },
  {
   "cell_type": "code",
   "execution_count": 51,
   "id": "c73794c0-8e77-4c56-bbea-ee263f14f5df",
   "metadata": {},
   "outputs": [],
   "source": [
    "# for clarity, we transpose the output"
   ]
  },
  {
   "cell_type": "code",
   "execution_count": 52,
   "id": "9ae5c7cc-96d1-424c-b302-5e193af32d94",
   "metadata": {},
   "outputs": [
    {
     "data": {
      "text/html": [
       "<div>\n",
       "<style scoped>\n",
       "    .dataframe tbody tr th:only-of-type {\n",
       "        vertical-align: middle;\n",
       "    }\n",
       "\n",
       "    .dataframe tbody tr th {\n",
       "        vertical-align: top;\n",
       "    }\n",
       "\n",
       "    .dataframe thead th {\n",
       "        text-align: right;\n",
       "    }\n",
       "</style>\n",
       "<table border=\"1\" class=\"dataframe\">\n",
       "  <thead>\n",
       "    <tr style=\"text-align: right;\">\n",
       "      <th></th>\n",
       "      <th>count</th>\n",
       "      <th>mean</th>\n",
       "      <th>std</th>\n",
       "      <th>min</th>\n",
       "      <th>25%</th>\n",
       "      <th>50%</th>\n",
       "      <th>75%</th>\n",
       "      <th>max</th>\n",
       "    </tr>\n",
       "  </thead>\n",
       "  <tbody>\n",
       "    <tr>\n",
       "      <th>lead_time</th>\n",
       "      <td>87230.0</td>\n",
       "      <td>79.971019</td>\n",
       "      <td>86.058683</td>\n",
       "      <td>0.00</td>\n",
       "      <td>11.00</td>\n",
       "      <td>49.0</td>\n",
       "      <td>125.0</td>\n",
       "      <td>737.0</td>\n",
       "    </tr>\n",
       "    <tr>\n",
       "      <th>total_of_special_requests</th>\n",
       "      <td>87230.0</td>\n",
       "      <td>0.698934</td>\n",
       "      <td>0.832051</td>\n",
       "      <td>0.00</td>\n",
       "      <td>0.00</td>\n",
       "      <td>0.0</td>\n",
       "      <td>1.0</td>\n",
       "      <td>5.0</td>\n",
       "    </tr>\n",
       "    <tr>\n",
       "      <th>adr</th>\n",
       "      <td>87230.0</td>\n",
       "      <td>106.518031</td>\n",
       "      <td>54.891227</td>\n",
       "      <td>-6.38</td>\n",
       "      <td>72.25</td>\n",
       "      <td>98.2</td>\n",
       "      <td>134.1</td>\n",
       "      <td>5400.0</td>\n",
       "    </tr>\n",
       "  </tbody>\n",
       "</table>\n",
       "</div>"
      ],
      "text/plain": [
       "                             count        mean        std   min    25%   50%  \\\n",
       "lead_time                  87230.0   79.971019  86.058683  0.00  11.00  49.0   \n",
       "total_of_special_requests  87230.0    0.698934   0.832051  0.00   0.00   0.0   \n",
       "adr                        87230.0  106.518031  54.891227 -6.38  72.25  98.2   \n",
       "\n",
       "                             75%     max  \n",
       "lead_time                  125.0   737.0  \n",
       "total_of_special_requests    1.0     5.0  \n",
       "adr                        134.1  5400.0  "
      ]
     },
     "execution_count": 52,
     "metadata": {},
     "output_type": "execute_result"
    }
   ],
   "source": [
    "hotel_df[subset2].describe().T"
   ]
  },
  {
   "cell_type": "code",
   "execution_count": 55,
   "id": "6e1ba3c6-453d-49aa-9317-e26d152ab6f0",
   "metadata": {},
   "outputs": [],
   "source": [
    "# to get more specific percentile values to identify outliers\n",
    "# we will use a nested for loop, the 1st for all the features and\n",
    "# the 2nd for all the percentiles"
   ]
  },
  {
   "cell_type": "code",
   "execution_count": 8,
   "id": "3436ad12-4e03-4b56-8291-843b27fb831f",
   "metadata": {},
   "outputs": [
    {
     "name": "stdout",
     "output_type": "stream",
     "text": [
      "feature name: lead_time\n",
      "90th quantile value is 204.0\n",
      "91th quantile value is 212.0\n",
      "92th quantile value is 220.0\n",
      "93th quantile value is 230.0\n",
      "94th quantile value is 241.0\n",
      "95th quantile value is 256.0\n",
      "96th quantile value is 272.0\n",
      "97th quantile value is 291.0\n",
      "98th quantile value is 315.0\n",
      "99th quantile value is 347.0\n",
      "\n",
      "\n",
      "feature name: total_of_special_requests\n",
      "90th quantile value is 2.0\n",
      "91th quantile value is 2.0\n",
      "92th quantile value is 2.0\n",
      "93th quantile value is 2.0\n",
      "94th quantile value is 2.0\n",
      "95th quantile value is 2.0\n",
      "96th quantile value is 2.0\n",
      "97th quantile value is 3.0\n",
      "98th quantile value is 3.0\n",
      "99th quantile value is 3.0\n",
      "\n",
      "\n",
      "feature name: adr\n",
      "90th quantile value is 174.0\n",
      "91th quantile value is 179.0\n",
      "92th quantile value is 185.0\n",
      "93th quantile value is 190.0\n",
      "94th quantile value is 197.1\n",
      "95th quantile value is 204.13300000000018\n",
      "96th quantile value is 213.0\n",
      "97th quantile value is 225.0\n",
      "98th quantile value is 239.0\n",
      "99th quantile value is 261.6207000000011\n",
      "\n",
      "\n"
     ]
    }
   ],
   "source": [
    "# loop that iterates the list of columns\n",
    "for col in ['lead_time', 'total_of_special_requests', 'adr']:\n",
    "    # prints the name of the current column being processed\n",
    "    print('feature name: {}'.format(col))\n",
    "    # loop that iterates the percentile range from 90 to 99 (inclusive)\n",
    "    for i in range (90,100,1):\n",
    "        # calculates the quantile value for the processed col and i \n",
    "        quantile_value = np.quantile(hotel_df[col], q = i/100)\n",
    "        # prints the quantile value for the processed col and i\n",
    "        print('{}th quantile value is {}'.format(i, quantile_value))\n",
    "    # prints a new line after all quantiles for a col are printed\n",
    "    print('\\n')"
   ]
  },
  {
   "cell_type": "code",
   "execution_count": 61,
   "id": "7901021a-64db-45b0-98ce-30f0b881f7e7",
   "metadata": {},
   "outputs": [],
   "source": [
    "# QUESTION: where do the guests come from?"
   ]
  },
  {
   "cell_type": "code",
   "execution_count": 62,
   "id": "22b89afe-a20e-4bcc-9498-c317588a96df",
   "metadata": {},
   "outputs": [],
   "source": [
    "# remove the rows where the booking is cancelled"
   ]
  },
  {
   "cell_type": "code",
   "execution_count": 9,
   "id": "6687ce37-4ba2-4bed-b08c-a457b891ecf1",
   "metadata": {},
   "outputs": [],
   "source": [
    "not_cancelled_df = hotel_df[hotel_df['is_canceled'] == 0]"
   ]
  },
  {
   "cell_type": "code",
   "execution_count": 65,
   "id": "6c242848-200b-47b8-86ab-04980ed5efbb",
   "metadata": {},
   "outputs": [
    {
     "data": {
      "text/plain": [
       "(63221, 32)"
      ]
     },
     "execution_count": 65,
     "metadata": {},
     "output_type": "execute_result"
    }
   ],
   "source": [
    "not_cancelled_df.shape"
   ]
  },
  {
   "cell_type": "code",
   "execution_count": 66,
   "id": "20b89c87-c9cf-40bc-ae32-aa0852d56a15",
   "metadata": {},
   "outputs": [],
   "source": [
    "# counting the values by country"
   ]
  },
  {
   "cell_type": "code",
   "execution_count": 10,
   "id": "fc9cc771-b170-4794-a029-ff61666b37ae",
   "metadata": {},
   "outputs": [
    {
     "data": {
      "text/plain": [
       "country\n",
       "PRT    17573\n",
       "GBR     8440\n",
       "FRA     7091\n",
       "ESP     5382\n",
       "DEU     4332\n",
       "       ...  \n",
       "ZMB        1\n",
       "SYC        1\n",
       "MDG        1\n",
       "SMR        1\n",
       "FRO        1\n",
       "Name: count, Length: 165, dtype: int64"
      ]
     },
     "execution_count": 10,
     "metadata": {},
     "output_type": "execute_result"
    }
   ],
   "source": [
    "not_cancelled_df['country'].value_counts()"
   ]
  },
  {
   "cell_type": "code",
   "execution_count": 68,
   "id": "ce09849c-adb0-456d-9c10-16b9c72780c3",
   "metadata": {},
   "outputs": [],
   "source": [
    "# converting this series into a df for index preservation and data consistency"
   ]
  },
  {
   "cell_type": "code",
   "execution_count": 11,
   "id": "e034e13f-9155-495e-b84f-25c042c6c45b",
   "metadata": {},
   "outputs": [
    {
     "data": {
      "text/html": [
       "<div>\n",
       "<style scoped>\n",
       "    .dataframe tbody tr th:only-of-type {\n",
       "        vertical-align: middle;\n",
       "    }\n",
       "\n",
       "    .dataframe tbody tr th {\n",
       "        vertical-align: top;\n",
       "    }\n",
       "\n",
       "    .dataframe thead th {\n",
       "        text-align: right;\n",
       "    }\n",
       "</style>\n",
       "<table border=\"1\" class=\"dataframe\">\n",
       "  <thead>\n",
       "    <tr style=\"text-align: right;\">\n",
       "      <th></th>\n",
       "      <th>country</th>\n",
       "      <th>count</th>\n",
       "    </tr>\n",
       "  </thead>\n",
       "  <tbody>\n",
       "    <tr>\n",
       "      <th>0</th>\n",
       "      <td>PRT</td>\n",
       "      <td>17573</td>\n",
       "    </tr>\n",
       "    <tr>\n",
       "      <th>1</th>\n",
       "      <td>GBR</td>\n",
       "      <td>8440</td>\n",
       "    </tr>\n",
       "    <tr>\n",
       "      <th>2</th>\n",
       "      <td>FRA</td>\n",
       "      <td>7091</td>\n",
       "    </tr>\n",
       "    <tr>\n",
       "      <th>3</th>\n",
       "      <td>ESP</td>\n",
       "      <td>5382</td>\n",
       "    </tr>\n",
       "    <tr>\n",
       "      <th>4</th>\n",
       "      <td>DEU</td>\n",
       "      <td>4332</td>\n",
       "    </tr>\n",
       "    <tr>\n",
       "      <th>...</th>\n",
       "      <td>...</td>\n",
       "      <td>...</td>\n",
       "    </tr>\n",
       "    <tr>\n",
       "      <th>160</th>\n",
       "      <td>ZMB</td>\n",
       "      <td>1</td>\n",
       "    </tr>\n",
       "    <tr>\n",
       "      <th>161</th>\n",
       "      <td>SYC</td>\n",
       "      <td>1</td>\n",
       "    </tr>\n",
       "    <tr>\n",
       "      <th>162</th>\n",
       "      <td>MDG</td>\n",
       "      <td>1</td>\n",
       "    </tr>\n",
       "    <tr>\n",
       "      <th>163</th>\n",
       "      <td>SMR</td>\n",
       "      <td>1</td>\n",
       "    </tr>\n",
       "    <tr>\n",
       "      <th>164</th>\n",
       "      <td>FRO</td>\n",
       "      <td>1</td>\n",
       "    </tr>\n",
       "  </tbody>\n",
       "</table>\n",
       "<p>165 rows × 2 columns</p>\n",
       "</div>"
      ],
      "text/plain": [
       "    country  count\n",
       "0       PRT  17573\n",
       "1       GBR   8440\n",
       "2       FRA   7091\n",
       "3       ESP   5382\n",
       "4       DEU   4332\n",
       "..      ...    ...\n",
       "160     ZMB      1\n",
       "161     SYC      1\n",
       "162     MDG      1\n",
       "163     SMR      1\n",
       "164     FRO      1\n",
       "\n",
       "[165 rows x 2 columns]"
      ]
     },
     "execution_count": 11,
     "metadata": {},
     "output_type": "execute_result"
    }
   ],
   "source": [
    "not_cancelled_df['country'].value_counts().reset_index()"
   ]
  },
  {
   "cell_type": "code",
   "execution_count": 13,
   "id": "2208a73b-c10f-4b6f-a07d-b684876459d6",
   "metadata": {},
   "outputs": [],
   "source": [
    "country_df = not_cancelled_df['country'].value_counts().reset_index()"
   ]
  },
  {
   "cell_type": "code",
   "execution_count": 71,
   "id": "d7dd5a11-c3b4-4a25-9397-303cd101c404",
   "metadata": {},
   "outputs": [],
   "source": [
    "# making columns more readability"
   ]
  },
  {
   "cell_type": "code",
   "execution_count": 14,
   "id": "79cddd4f-0dc7-47be-93d5-2af98b3b5d0f",
   "metadata": {},
   "outputs": [],
   "source": [
    "country_df.columns = ['country', 'No of guests']"
   ]
  },
  {
   "cell_type": "code",
   "execution_count": 75,
   "id": "82737295-eb4c-4257-aa34-bae2e477b731",
   "metadata": {},
   "outputs": [],
   "source": [
    "# building a map to analyse the ratio of guests per country"
   ]
  },
  {
   "cell_type": "code",
   "execution_count": 15,
   "id": "80afd028-ff02-49fb-919a-0118820d654c",
   "metadata": {},
   "outputs": [
    {
     "data": {
      "application/vnd.plotly.v1+json": {
       "config": {
        "plotlyServerURL": "https://plot.ly"
       },
       "data": [
        {
         "coloraxis": "coloraxis",
         "geo": "geo",
         "hovertemplate": "<b>%{hovertext}</b><br><br>country=%{location}<br>No of guests=%{z}<extra></extra>",
         "hovertext": [
          "PRT",
          "GBR",
          "FRA",
          "ESP",
          "DEU",
          "IRL",
          "ITA",
          "BEL",
          "NLD",
          "USA",
          "BRA",
          "CHE",
          "CN",
          "AUT",
          "SWE",
          "POL",
          "CHN",
          "NOR",
          "FIN",
          "ROU",
          "RUS",
          "DNK",
          "AUS",
          "ISR",
          "JPN",
          "LUX",
          "ARG",
          "AGO",
          "HUN",
          "MAR",
          "TUR",
          "IND",
          "CZE",
          "GRC",
          "KOR",
          "HRV",
          "LTU",
          "MEX",
          "DZA",
          "EST",
          "NZL",
          "BGR",
          "IRN",
          "SRB",
          "ZAF",
          "CHL",
          "COL",
          "LVA",
          "UKR",
          "MOZ",
          "SVK",
          "CYP",
          "SVN",
          "TWN",
          "THA",
          "ISL",
          "LBN",
          "SGP",
          "EGY",
          "URY",
          "MYS",
          "PER",
          "TUN",
          "ECU",
          "CRI",
          "JOR",
          "BLR",
          "SAU",
          "KAZ",
          "OMN",
          "PHL",
          "NGA",
          "VEN",
          "MLT",
          "IDN",
          "IRQ",
          "CPV",
          "CMR",
          "PRI",
          "KWT",
          "ALB",
          "BIH",
          "PAN",
          "LBY",
          "GNB",
          "AZE",
          "CUB",
          "MKD",
          "ARE",
          "VNM",
          "JAM",
          "LKA",
          "ARM",
          "MUS",
          "DOM",
          "CAF",
          "PAK",
          "GEO",
          "SUR",
          "KEN",
          "PRY",
          "QAT",
          "CIV",
          "GIB",
          "MDV",
          "MNE",
          "SEN",
          "SYR",
          "MCO",
          "GTM",
          "BGD",
          "BOL",
          "ATA",
          "TZA",
          "ABW",
          "TMP",
          "GAB",
          "SLV",
          "GHA",
          "LAO",
          "BRB",
          "LIE",
          "RWA",
          "STP",
          "ETH",
          "UGA",
          "COM",
          "HKG",
          "KNA",
          "ZWE",
          "TGO",
          "MWI",
          "AND",
          "UZB",
          "LCA",
          "BWA",
          "BDI",
          "MRT",
          "ASM",
          "PYF",
          "NCL",
          "KIR",
          "SDN",
          "ATF",
          "TJK",
          "SLE",
          "GUY",
          "AIA",
          "PLW",
          "NPL",
          "MMR",
          "DJI",
          "BFA",
          "CYM",
          "MAC",
          "BHS",
          "MLI",
          "DMA",
          "BHR",
          "NAM",
          "ZMB",
          "SYC",
          "MDG",
          "SMR",
          "FRO"
         ],
         "locations": [
          "PRT",
          "GBR",
          "FRA",
          "ESP",
          "DEU",
          "IRL",
          "ITA",
          "BEL",
          "NLD",
          "USA",
          "BRA",
          "CHE",
          "CN",
          "AUT",
          "SWE",
          "POL",
          "CHN",
          "NOR",
          "FIN",
          "ROU",
          "RUS",
          "DNK",
          "AUS",
          "ISR",
          "JPN",
          "LUX",
          "ARG",
          "AGO",
          "HUN",
          "MAR",
          "TUR",
          "IND",
          "CZE",
          "GRC",
          "KOR",
          "HRV",
          "LTU",
          "MEX",
          "DZA",
          "EST",
          "NZL",
          "BGR",
          "IRN",
          "SRB",
          "ZAF",
          "CHL",
          "COL",
          "LVA",
          "UKR",
          "MOZ",
          "SVK",
          "CYP",
          "SVN",
          "TWN",
          "THA",
          "ISL",
          "LBN",
          "SGP",
          "EGY",
          "URY",
          "MYS",
          "PER",
          "TUN",
          "ECU",
          "CRI",
          "JOR",
          "BLR",
          "SAU",
          "KAZ",
          "OMN",
          "PHL",
          "NGA",
          "VEN",
          "MLT",
          "IDN",
          "IRQ",
          "CPV",
          "CMR",
          "PRI",
          "KWT",
          "ALB",
          "BIH",
          "PAN",
          "LBY",
          "GNB",
          "AZE",
          "CUB",
          "MKD",
          "ARE",
          "VNM",
          "JAM",
          "LKA",
          "ARM",
          "MUS",
          "DOM",
          "CAF",
          "PAK",
          "GEO",
          "SUR",
          "KEN",
          "PRY",
          "QAT",
          "CIV",
          "GIB",
          "MDV",
          "MNE",
          "SEN",
          "SYR",
          "MCO",
          "GTM",
          "BGD",
          "BOL",
          "ATA",
          "TZA",
          "ABW",
          "TMP",
          "GAB",
          "SLV",
          "GHA",
          "LAO",
          "BRB",
          "LIE",
          "RWA",
          "STP",
          "ETH",
          "UGA",
          "COM",
          "HKG",
          "KNA",
          "ZWE",
          "TGO",
          "MWI",
          "AND",
          "UZB",
          "LCA",
          "BWA",
          "BDI",
          "MRT",
          "ASM",
          "PYF",
          "NCL",
          "KIR",
          "SDN",
          "ATF",
          "TJK",
          "SLE",
          "GUY",
          "AIA",
          "PLW",
          "NPL",
          "MMR",
          "DJI",
          "BFA",
          "CYM",
          "MAC",
          "BHS",
          "MLI",
          "DMA",
          "BHR",
          "NAM",
          "ZMB",
          "SYC",
          "MDG",
          "SMR",
          "FRO"
         ],
         "name": "",
         "type": "choropleth",
         "z": {
          "bdata": "pUT4ILMbBhXsECsJwgeGBhgGhAXyBJ4EZAMJA5ACWAKoAXIBZQFUAVEBJQEeAQ4BngCeAJgAlQCJAIAAdABsAGcAVABMAEQAQgBBAD0APQA7ADsAOQAzADEAMQAuACsAKgAnACYAJAAiAB4AGAAWABYAFQAVABUAFQAUABMAEgARABAAEAAPAA4ADgANAA0ADQAMAAsACwALAAoACgAKAAkACQAIAAgACAAIAAgABwAHAAYABgAGAAYABgAGAAUABQAFAAUABAAEAAQABAAEAAMAAwADAAMAAwADAAMAAwACAAIAAgACAAIAAgACAAIAAgACAAIAAgACAAIAAgACAAIAAgACAAIAAgACAAEAAQABAAEAAQABAAEAAQABAAEAAQABAAEAAQABAAEAAQABAAEAAQABAAEAAQABAAEAAQABAAEAAQABAAEA",
          "dtype": "i2"
         }
        }
       ],
       "layout": {
        "coloraxis": {
         "colorbar": {
          "title": {
           "text": "No of guests"
          }
         },
         "colorscale": [
          [
           0,
           "#0d0887"
          ],
          [
           0.1111111111111111,
           "#46039f"
          ],
          [
           0.2222222222222222,
           "#7201a8"
          ],
          [
           0.3333333333333333,
           "#9c179e"
          ],
          [
           0.4444444444444444,
           "#bd3786"
          ],
          [
           0.5555555555555556,
           "#d8576b"
          ],
          [
           0.6666666666666666,
           "#ed7953"
          ],
          [
           0.7777777777777778,
           "#fb9f3a"
          ],
          [
           0.8888888888888888,
           "#fdca26"
          ],
          [
           1,
           "#f0f921"
          ]
         ]
        },
        "geo": {
         "center": {},
         "domain": {
          "x": [
           0,
           1
          ],
          "y": [
           0,
           1
          ]
         }
        },
        "legend": {
         "tracegroupgap": 0
        },
        "template": {
         "data": {
          "bar": [
           {
            "error_x": {
             "color": "#2a3f5f"
            },
            "error_y": {
             "color": "#2a3f5f"
            },
            "marker": {
             "line": {
              "color": "#E5ECF6",
              "width": 0.5
             },
             "pattern": {
              "fillmode": "overlay",
              "size": 10,
              "solidity": 0.2
             }
            },
            "type": "bar"
           }
          ],
          "barpolar": [
           {
            "marker": {
             "line": {
              "color": "#E5ECF6",
              "width": 0.5
             },
             "pattern": {
              "fillmode": "overlay",
              "size": 10,
              "solidity": 0.2
             }
            },
            "type": "barpolar"
           }
          ],
          "carpet": [
           {
            "aaxis": {
             "endlinecolor": "#2a3f5f",
             "gridcolor": "white",
             "linecolor": "white",
             "minorgridcolor": "white",
             "startlinecolor": "#2a3f5f"
            },
            "baxis": {
             "endlinecolor": "#2a3f5f",
             "gridcolor": "white",
             "linecolor": "white",
             "minorgridcolor": "white",
             "startlinecolor": "#2a3f5f"
            },
            "type": "carpet"
           }
          ],
          "choropleth": [
           {
            "colorbar": {
             "outlinewidth": 0,
             "ticks": ""
            },
            "type": "choropleth"
           }
          ],
          "contour": [
           {
            "colorbar": {
             "outlinewidth": 0,
             "ticks": ""
            },
            "colorscale": [
             [
              0,
              "#0d0887"
             ],
             [
              0.1111111111111111,
              "#46039f"
             ],
             [
              0.2222222222222222,
              "#7201a8"
             ],
             [
              0.3333333333333333,
              "#9c179e"
             ],
             [
              0.4444444444444444,
              "#bd3786"
             ],
             [
              0.5555555555555556,
              "#d8576b"
             ],
             [
              0.6666666666666666,
              "#ed7953"
             ],
             [
              0.7777777777777778,
              "#fb9f3a"
             ],
             [
              0.8888888888888888,
              "#fdca26"
             ],
             [
              1,
              "#f0f921"
             ]
            ],
            "type": "contour"
           }
          ],
          "contourcarpet": [
           {
            "colorbar": {
             "outlinewidth": 0,
             "ticks": ""
            },
            "type": "contourcarpet"
           }
          ],
          "heatmap": [
           {
            "colorbar": {
             "outlinewidth": 0,
             "ticks": ""
            },
            "colorscale": [
             [
              0,
              "#0d0887"
             ],
             [
              0.1111111111111111,
              "#46039f"
             ],
             [
              0.2222222222222222,
              "#7201a8"
             ],
             [
              0.3333333333333333,
              "#9c179e"
             ],
             [
              0.4444444444444444,
              "#bd3786"
             ],
             [
              0.5555555555555556,
              "#d8576b"
             ],
             [
              0.6666666666666666,
              "#ed7953"
             ],
             [
              0.7777777777777778,
              "#fb9f3a"
             ],
             [
              0.8888888888888888,
              "#fdca26"
             ],
             [
              1,
              "#f0f921"
             ]
            ],
            "type": "heatmap"
           }
          ],
          "histogram": [
           {
            "marker": {
             "pattern": {
              "fillmode": "overlay",
              "size": 10,
              "solidity": 0.2
             }
            },
            "type": "histogram"
           }
          ],
          "histogram2d": [
           {
            "colorbar": {
             "outlinewidth": 0,
             "ticks": ""
            },
            "colorscale": [
             [
              0,
              "#0d0887"
             ],
             [
              0.1111111111111111,
              "#46039f"
             ],
             [
              0.2222222222222222,
              "#7201a8"
             ],
             [
              0.3333333333333333,
              "#9c179e"
             ],
             [
              0.4444444444444444,
              "#bd3786"
             ],
             [
              0.5555555555555556,
              "#d8576b"
             ],
             [
              0.6666666666666666,
              "#ed7953"
             ],
             [
              0.7777777777777778,
              "#fb9f3a"
             ],
             [
              0.8888888888888888,
              "#fdca26"
             ],
             [
              1,
              "#f0f921"
             ]
            ],
            "type": "histogram2d"
           }
          ],
          "histogram2dcontour": [
           {
            "colorbar": {
             "outlinewidth": 0,
             "ticks": ""
            },
            "colorscale": [
             [
              0,
              "#0d0887"
             ],
             [
              0.1111111111111111,
              "#46039f"
             ],
             [
              0.2222222222222222,
              "#7201a8"
             ],
             [
              0.3333333333333333,
              "#9c179e"
             ],
             [
              0.4444444444444444,
              "#bd3786"
             ],
             [
              0.5555555555555556,
              "#d8576b"
             ],
             [
              0.6666666666666666,
              "#ed7953"
             ],
             [
              0.7777777777777778,
              "#fb9f3a"
             ],
             [
              0.8888888888888888,
              "#fdca26"
             ],
             [
              1,
              "#f0f921"
             ]
            ],
            "type": "histogram2dcontour"
           }
          ],
          "mesh3d": [
           {
            "colorbar": {
             "outlinewidth": 0,
             "ticks": ""
            },
            "type": "mesh3d"
           }
          ],
          "parcoords": [
           {
            "line": {
             "colorbar": {
              "outlinewidth": 0,
              "ticks": ""
             }
            },
            "type": "parcoords"
           }
          ],
          "pie": [
           {
            "automargin": true,
            "type": "pie"
           }
          ],
          "scatter": [
           {
            "fillpattern": {
             "fillmode": "overlay",
             "size": 10,
             "solidity": 0.2
            },
            "type": "scatter"
           }
          ],
          "scatter3d": [
           {
            "line": {
             "colorbar": {
              "outlinewidth": 0,
              "ticks": ""
             }
            },
            "marker": {
             "colorbar": {
              "outlinewidth": 0,
              "ticks": ""
             }
            },
            "type": "scatter3d"
           }
          ],
          "scattercarpet": [
           {
            "marker": {
             "colorbar": {
              "outlinewidth": 0,
              "ticks": ""
             }
            },
            "type": "scattercarpet"
           }
          ],
          "scattergeo": [
           {
            "marker": {
             "colorbar": {
              "outlinewidth": 0,
              "ticks": ""
             }
            },
            "type": "scattergeo"
           }
          ],
          "scattergl": [
           {
            "marker": {
             "colorbar": {
              "outlinewidth": 0,
              "ticks": ""
             }
            },
            "type": "scattergl"
           }
          ],
          "scattermap": [
           {
            "marker": {
             "colorbar": {
              "outlinewidth": 0,
              "ticks": ""
             }
            },
            "type": "scattermap"
           }
          ],
          "scattermapbox": [
           {
            "marker": {
             "colorbar": {
              "outlinewidth": 0,
              "ticks": ""
             }
            },
            "type": "scattermapbox"
           }
          ],
          "scatterpolar": [
           {
            "marker": {
             "colorbar": {
              "outlinewidth": 0,
              "ticks": ""
             }
            },
            "type": "scatterpolar"
           }
          ],
          "scatterpolargl": [
           {
            "marker": {
             "colorbar": {
              "outlinewidth": 0,
              "ticks": ""
             }
            },
            "type": "scatterpolargl"
           }
          ],
          "scatterternary": [
           {
            "marker": {
             "colorbar": {
              "outlinewidth": 0,
              "ticks": ""
             }
            },
            "type": "scatterternary"
           }
          ],
          "surface": [
           {
            "colorbar": {
             "outlinewidth": 0,
             "ticks": ""
            },
            "colorscale": [
             [
              0,
              "#0d0887"
             ],
             [
              0.1111111111111111,
              "#46039f"
             ],
             [
              0.2222222222222222,
              "#7201a8"
             ],
             [
              0.3333333333333333,
              "#9c179e"
             ],
             [
              0.4444444444444444,
              "#bd3786"
             ],
             [
              0.5555555555555556,
              "#d8576b"
             ],
             [
              0.6666666666666666,
              "#ed7953"
             ],
             [
              0.7777777777777778,
              "#fb9f3a"
             ],
             [
              0.8888888888888888,
              "#fdca26"
             ],
             [
              1,
              "#f0f921"
             ]
            ],
            "type": "surface"
           }
          ],
          "table": [
           {
            "cells": {
             "fill": {
              "color": "#EBF0F8"
             },
             "line": {
              "color": "white"
             }
            },
            "header": {
             "fill": {
              "color": "#C8D4E3"
             },
             "line": {
              "color": "white"
             }
            },
            "type": "table"
           }
          ]
         },
         "layout": {
          "annotationdefaults": {
           "arrowcolor": "#2a3f5f",
           "arrowhead": 0,
           "arrowwidth": 1
          },
          "autotypenumbers": "strict",
          "coloraxis": {
           "colorbar": {
            "outlinewidth": 0,
            "ticks": ""
           }
          },
          "colorscale": {
           "diverging": [
            [
             0,
             "#8e0152"
            ],
            [
             0.1,
             "#c51b7d"
            ],
            [
             0.2,
             "#de77ae"
            ],
            [
             0.3,
             "#f1b6da"
            ],
            [
             0.4,
             "#fde0ef"
            ],
            [
             0.5,
             "#f7f7f7"
            ],
            [
             0.6,
             "#e6f5d0"
            ],
            [
             0.7,
             "#b8e186"
            ],
            [
             0.8,
             "#7fbc41"
            ],
            [
             0.9,
             "#4d9221"
            ],
            [
             1,
             "#276419"
            ]
           ],
           "sequential": [
            [
             0,
             "#0d0887"
            ],
            [
             0.1111111111111111,
             "#46039f"
            ],
            [
             0.2222222222222222,
             "#7201a8"
            ],
            [
             0.3333333333333333,
             "#9c179e"
            ],
            [
             0.4444444444444444,
             "#bd3786"
            ],
            [
             0.5555555555555556,
             "#d8576b"
            ],
            [
             0.6666666666666666,
             "#ed7953"
            ],
            [
             0.7777777777777778,
             "#fb9f3a"
            ],
            [
             0.8888888888888888,
             "#fdca26"
            ],
            [
             1,
             "#f0f921"
            ]
           ],
           "sequentialminus": [
            [
             0,
             "#0d0887"
            ],
            [
             0.1111111111111111,
             "#46039f"
            ],
            [
             0.2222222222222222,
             "#7201a8"
            ],
            [
             0.3333333333333333,
             "#9c179e"
            ],
            [
             0.4444444444444444,
             "#bd3786"
            ],
            [
             0.5555555555555556,
             "#d8576b"
            ],
            [
             0.6666666666666666,
             "#ed7953"
            ],
            [
             0.7777777777777778,
             "#fb9f3a"
            ],
            [
             0.8888888888888888,
             "#fdca26"
            ],
            [
             1,
             "#f0f921"
            ]
           ]
          },
          "colorway": [
           "#636efa",
           "#EF553B",
           "#00cc96",
           "#ab63fa",
           "#FFA15A",
           "#19d3f3",
           "#FF6692",
           "#B6E880",
           "#FF97FF",
           "#FECB52"
          ],
          "font": {
           "color": "#2a3f5f"
          },
          "geo": {
           "bgcolor": "white",
           "lakecolor": "white",
           "landcolor": "#E5ECF6",
           "showlakes": true,
           "showland": true,
           "subunitcolor": "white"
          },
          "hoverlabel": {
           "align": "left"
          },
          "hovermode": "closest",
          "mapbox": {
           "style": "light"
          },
          "paper_bgcolor": "white",
          "plot_bgcolor": "#E5ECF6",
          "polar": {
           "angularaxis": {
            "gridcolor": "white",
            "linecolor": "white",
            "ticks": ""
           },
           "bgcolor": "#E5ECF6",
           "radialaxis": {
            "gridcolor": "white",
            "linecolor": "white",
            "ticks": ""
           }
          },
          "scene": {
           "xaxis": {
            "backgroundcolor": "#E5ECF6",
            "gridcolor": "white",
            "gridwidth": 2,
            "linecolor": "white",
            "showbackground": true,
            "ticks": "",
            "zerolinecolor": "white"
           },
           "yaxis": {
            "backgroundcolor": "#E5ECF6",
            "gridcolor": "white",
            "gridwidth": 2,
            "linecolor": "white",
            "showbackground": true,
            "ticks": "",
            "zerolinecolor": "white"
           },
           "zaxis": {
            "backgroundcolor": "#E5ECF6",
            "gridcolor": "white",
            "gridwidth": 2,
            "linecolor": "white",
            "showbackground": true,
            "ticks": "",
            "zerolinecolor": "white"
           }
          },
          "shapedefaults": {
           "line": {
            "color": "#2a3f5f"
           }
          },
          "ternary": {
           "aaxis": {
            "gridcolor": "white",
            "linecolor": "white",
            "ticks": ""
           },
           "baxis": {
            "gridcolor": "white",
            "linecolor": "white",
            "ticks": ""
           },
           "bgcolor": "#E5ECF6",
           "caxis": {
            "gridcolor": "white",
            "linecolor": "white",
            "ticks": ""
           }
          },
          "title": {
           "x": 0.05
          },
          "xaxis": {
           "automargin": true,
           "gridcolor": "white",
           "linecolor": "white",
           "ticks": "",
           "title": {
            "standoff": 15
           },
           "zerolinecolor": "white",
           "zerolinewidth": 2
          },
          "yaxis": {
           "automargin": true,
           "gridcolor": "white",
           "linecolor": "white",
           "ticks": "",
           "title": {
            "standoff": 15
           },
           "zerolinecolor": "white",
           "zerolinewidth": 2
          }
         }
        },
        "title": {
         "text": "Home Country of Guests"
        }
       }
      },
      "text/html": [
       "<div>            <script src=\"https://cdnjs.cloudflare.com/ajax/libs/mathjax/2.7.5/MathJax.js?config=TeX-AMS-MML_SVG\"></script><script type=\"text/javascript\">if (window.MathJax && window.MathJax.Hub && window.MathJax.Hub.Config) {window.MathJax.Hub.Config({SVG: {font: \"STIX-Web\"}});}</script>                <script type=\"text/javascript\">window.PlotlyConfig = {MathJaxConfig: 'local'};</script>\n",
       "        <script charset=\"utf-8\" src=\"https://cdn.plot.ly/plotly-3.0.0.min.js\"></script>                <div id=\"3a6d518f-aad5-4b72-900a-de72e3a0d99a\" class=\"plotly-graph-div\" style=\"height:525px; width:100%;\"></div>            <script type=\"text/javascript\">                window.PLOTLYENV=window.PLOTLYENV || {};                                if (document.getElementById(\"3a6d518f-aad5-4b72-900a-de72e3a0d99a\")) {                    Plotly.newPlot(                        \"3a6d518f-aad5-4b72-900a-de72e3a0d99a\",                        [{\"coloraxis\":\"coloraxis\",\"geo\":\"geo\",\"hovertemplate\":\"\\u003cb\\u003e%{hovertext}\\u003c\\u002fb\\u003e\\u003cbr\\u003e\\u003cbr\\u003ecountry=%{location}\\u003cbr\\u003eNo of guests=%{z}\\u003cextra\\u003e\\u003c\\u002fextra\\u003e\",\"hovertext\":[\"PRT\",\"GBR\",\"FRA\",\"ESP\",\"DEU\",\"IRL\",\"ITA\",\"BEL\",\"NLD\",\"USA\",\"BRA\",\"CHE\",\"CN\",\"AUT\",\"SWE\",\"POL\",\"CHN\",\"NOR\",\"FIN\",\"ROU\",\"RUS\",\"DNK\",\"AUS\",\"ISR\",\"JPN\",\"LUX\",\"ARG\",\"AGO\",\"HUN\",\"MAR\",\"TUR\",\"IND\",\"CZE\",\"GRC\",\"KOR\",\"HRV\",\"LTU\",\"MEX\",\"DZA\",\"EST\",\"NZL\",\"BGR\",\"IRN\",\"SRB\",\"ZAF\",\"CHL\",\"COL\",\"LVA\",\"UKR\",\"MOZ\",\"SVK\",\"CYP\",\"SVN\",\"TWN\",\"THA\",\"ISL\",\"LBN\",\"SGP\",\"EGY\",\"URY\",\"MYS\",\"PER\",\"TUN\",\"ECU\",\"CRI\",\"JOR\",\"BLR\",\"SAU\",\"KAZ\",\"OMN\",\"PHL\",\"NGA\",\"VEN\",\"MLT\",\"IDN\",\"IRQ\",\"CPV\",\"CMR\",\"PRI\",\"KWT\",\"ALB\",\"BIH\",\"PAN\",\"LBY\",\"GNB\",\"AZE\",\"CUB\",\"MKD\",\"ARE\",\"VNM\",\"JAM\",\"LKA\",\"ARM\",\"MUS\",\"DOM\",\"CAF\",\"PAK\",\"GEO\",\"SUR\",\"KEN\",\"PRY\",\"QAT\",\"CIV\",\"GIB\",\"MDV\",\"MNE\",\"SEN\",\"SYR\",\"MCO\",\"GTM\",\"BGD\",\"BOL\",\"ATA\",\"TZA\",\"ABW\",\"TMP\",\"GAB\",\"SLV\",\"GHA\",\"LAO\",\"BRB\",\"LIE\",\"RWA\",\"STP\",\"ETH\",\"UGA\",\"COM\",\"HKG\",\"KNA\",\"ZWE\",\"TGO\",\"MWI\",\"AND\",\"UZB\",\"LCA\",\"BWA\",\"BDI\",\"MRT\",\"ASM\",\"PYF\",\"NCL\",\"KIR\",\"SDN\",\"ATF\",\"TJK\",\"SLE\",\"GUY\",\"AIA\",\"PLW\",\"NPL\",\"MMR\",\"DJI\",\"BFA\",\"CYM\",\"MAC\",\"BHS\",\"MLI\",\"DMA\",\"BHR\",\"NAM\",\"ZMB\",\"SYC\",\"MDG\",\"SMR\",\"FRO\"],\"locations\":[\"PRT\",\"GBR\",\"FRA\",\"ESP\",\"DEU\",\"IRL\",\"ITA\",\"BEL\",\"NLD\",\"USA\",\"BRA\",\"CHE\",\"CN\",\"AUT\",\"SWE\",\"POL\",\"CHN\",\"NOR\",\"FIN\",\"ROU\",\"RUS\",\"DNK\",\"AUS\",\"ISR\",\"JPN\",\"LUX\",\"ARG\",\"AGO\",\"HUN\",\"MAR\",\"TUR\",\"IND\",\"CZE\",\"GRC\",\"KOR\",\"HRV\",\"LTU\",\"MEX\",\"DZA\",\"EST\",\"NZL\",\"BGR\",\"IRN\",\"SRB\",\"ZAF\",\"CHL\",\"COL\",\"LVA\",\"UKR\",\"MOZ\",\"SVK\",\"CYP\",\"SVN\",\"TWN\",\"THA\",\"ISL\",\"LBN\",\"SGP\",\"EGY\",\"URY\",\"MYS\",\"PER\",\"TUN\",\"ECU\",\"CRI\",\"JOR\",\"BLR\",\"SAU\",\"KAZ\",\"OMN\",\"PHL\",\"NGA\",\"VEN\",\"MLT\",\"IDN\",\"IRQ\",\"CPV\",\"CMR\",\"PRI\",\"KWT\",\"ALB\",\"BIH\",\"PAN\",\"LBY\",\"GNB\",\"AZE\",\"CUB\",\"MKD\",\"ARE\",\"VNM\",\"JAM\",\"LKA\",\"ARM\",\"MUS\",\"DOM\",\"CAF\",\"PAK\",\"GEO\",\"SUR\",\"KEN\",\"PRY\",\"QAT\",\"CIV\",\"GIB\",\"MDV\",\"MNE\",\"SEN\",\"SYR\",\"MCO\",\"GTM\",\"BGD\",\"BOL\",\"ATA\",\"TZA\",\"ABW\",\"TMP\",\"GAB\",\"SLV\",\"GHA\",\"LAO\",\"BRB\",\"LIE\",\"RWA\",\"STP\",\"ETH\",\"UGA\",\"COM\",\"HKG\",\"KNA\",\"ZWE\",\"TGO\",\"MWI\",\"AND\",\"UZB\",\"LCA\",\"BWA\",\"BDI\",\"MRT\",\"ASM\",\"PYF\",\"NCL\",\"KIR\",\"SDN\",\"ATF\",\"TJK\",\"SLE\",\"GUY\",\"AIA\",\"PLW\",\"NPL\",\"MMR\",\"DJI\",\"BFA\",\"CYM\",\"MAC\",\"BHS\",\"MLI\",\"DMA\",\"BHR\",\"NAM\",\"ZMB\",\"SYC\",\"MDG\",\"SMR\",\"FRO\"],\"name\":\"\",\"z\":{\"dtype\":\"i2\",\"bdata\":\"pUT4ILMbBhXsECsJwgeGBhgGhAXyBJ4EZAMJA5ACWAKoAXIBZQFUAVEBJQEeAQ4BngCeAJgAlQCJAIAAdABsAGcAVABMAEQAQgBBAD0APQA7ADsAOQAzADEAMQAuACsAKgAnACYAJAAiAB4AGAAWABYAFQAVABUAFQAUABMAEgARABAAEAAPAA4ADgANAA0ADQAMAAsACwALAAoACgAKAAkACQAIAAgACAAIAAgABwAHAAYABgAGAAYABgAGAAUABQAFAAUABAAEAAQABAAEAAMAAwADAAMAAwADAAMAAwACAAIAAgACAAIAAgACAAIAAgACAAIAAgACAAIAAgACAAIAAgACAAIAAgACAAEAAQABAAEAAQABAAEAAQABAAEAAQABAAEAAQABAAEAAQABAAEAAQABAAEAAQABAAEAAQABAAEAAQABAAEA\"},\"type\":\"choropleth\"}],                        {\"template\":{\"data\":{\"histogram2dcontour\":[{\"type\":\"histogram2dcontour\",\"colorbar\":{\"outlinewidth\":0,\"ticks\":\"\"},\"colorscale\":[[0.0,\"#0d0887\"],[0.1111111111111111,\"#46039f\"],[0.2222222222222222,\"#7201a8\"],[0.3333333333333333,\"#9c179e\"],[0.4444444444444444,\"#bd3786\"],[0.5555555555555556,\"#d8576b\"],[0.6666666666666666,\"#ed7953\"],[0.7777777777777778,\"#fb9f3a\"],[0.8888888888888888,\"#fdca26\"],[1.0,\"#f0f921\"]]}],\"choropleth\":[{\"type\":\"choropleth\",\"colorbar\":{\"outlinewidth\":0,\"ticks\":\"\"}}],\"histogram2d\":[{\"type\":\"histogram2d\",\"colorbar\":{\"outlinewidth\":0,\"ticks\":\"\"},\"colorscale\":[[0.0,\"#0d0887\"],[0.1111111111111111,\"#46039f\"],[0.2222222222222222,\"#7201a8\"],[0.3333333333333333,\"#9c179e\"],[0.4444444444444444,\"#bd3786\"],[0.5555555555555556,\"#d8576b\"],[0.6666666666666666,\"#ed7953\"],[0.7777777777777778,\"#fb9f3a\"],[0.8888888888888888,\"#fdca26\"],[1.0,\"#f0f921\"]]}],\"heatmap\":[{\"type\":\"heatmap\",\"colorbar\":{\"outlinewidth\":0,\"ticks\":\"\"},\"colorscale\":[[0.0,\"#0d0887\"],[0.1111111111111111,\"#46039f\"],[0.2222222222222222,\"#7201a8\"],[0.3333333333333333,\"#9c179e\"],[0.4444444444444444,\"#bd3786\"],[0.5555555555555556,\"#d8576b\"],[0.6666666666666666,\"#ed7953\"],[0.7777777777777778,\"#fb9f3a\"],[0.8888888888888888,\"#fdca26\"],[1.0,\"#f0f921\"]]}],\"contourcarpet\":[{\"type\":\"contourcarpet\",\"colorbar\":{\"outlinewidth\":0,\"ticks\":\"\"}}],\"contour\":[{\"type\":\"contour\",\"colorbar\":{\"outlinewidth\":0,\"ticks\":\"\"},\"colorscale\":[[0.0,\"#0d0887\"],[0.1111111111111111,\"#46039f\"],[0.2222222222222222,\"#7201a8\"],[0.3333333333333333,\"#9c179e\"],[0.4444444444444444,\"#bd3786\"],[0.5555555555555556,\"#d8576b\"],[0.6666666666666666,\"#ed7953\"],[0.7777777777777778,\"#fb9f3a\"],[0.8888888888888888,\"#fdca26\"],[1.0,\"#f0f921\"]]}],\"surface\":[{\"type\":\"surface\",\"colorbar\":{\"outlinewidth\":0,\"ticks\":\"\"},\"colorscale\":[[0.0,\"#0d0887\"],[0.1111111111111111,\"#46039f\"],[0.2222222222222222,\"#7201a8\"],[0.3333333333333333,\"#9c179e\"],[0.4444444444444444,\"#bd3786\"],[0.5555555555555556,\"#d8576b\"],[0.6666666666666666,\"#ed7953\"],[0.7777777777777778,\"#fb9f3a\"],[0.8888888888888888,\"#fdca26\"],[1.0,\"#f0f921\"]]}],\"mesh3d\":[{\"type\":\"mesh3d\",\"colorbar\":{\"outlinewidth\":0,\"ticks\":\"\"}}],\"scatter\":[{\"fillpattern\":{\"fillmode\":\"overlay\",\"size\":10,\"solidity\":0.2},\"type\":\"scatter\"}],\"parcoords\":[{\"type\":\"parcoords\",\"line\":{\"colorbar\":{\"outlinewidth\":0,\"ticks\":\"\"}}}],\"scatterpolargl\":[{\"type\":\"scatterpolargl\",\"marker\":{\"colorbar\":{\"outlinewidth\":0,\"ticks\":\"\"}}}],\"bar\":[{\"error_x\":{\"color\":\"#2a3f5f\"},\"error_y\":{\"color\":\"#2a3f5f\"},\"marker\":{\"line\":{\"color\":\"#E5ECF6\",\"width\":0.5},\"pattern\":{\"fillmode\":\"overlay\",\"size\":10,\"solidity\":0.2}},\"type\":\"bar\"}],\"scattergeo\":[{\"type\":\"scattergeo\",\"marker\":{\"colorbar\":{\"outlinewidth\":0,\"ticks\":\"\"}}}],\"scatterpolar\":[{\"type\":\"scatterpolar\",\"marker\":{\"colorbar\":{\"outlinewidth\":0,\"ticks\":\"\"}}}],\"histogram\":[{\"marker\":{\"pattern\":{\"fillmode\":\"overlay\",\"size\":10,\"solidity\":0.2}},\"type\":\"histogram\"}],\"scattergl\":[{\"type\":\"scattergl\",\"marker\":{\"colorbar\":{\"outlinewidth\":0,\"ticks\":\"\"}}}],\"scatter3d\":[{\"type\":\"scatter3d\",\"line\":{\"colorbar\":{\"outlinewidth\":0,\"ticks\":\"\"}},\"marker\":{\"colorbar\":{\"outlinewidth\":0,\"ticks\":\"\"}}}],\"scattermap\":[{\"type\":\"scattermap\",\"marker\":{\"colorbar\":{\"outlinewidth\":0,\"ticks\":\"\"}}}],\"scattermapbox\":[{\"type\":\"scattermapbox\",\"marker\":{\"colorbar\":{\"outlinewidth\":0,\"ticks\":\"\"}}}],\"scatterternary\":[{\"type\":\"scatterternary\",\"marker\":{\"colorbar\":{\"outlinewidth\":0,\"ticks\":\"\"}}}],\"scattercarpet\":[{\"type\":\"scattercarpet\",\"marker\":{\"colorbar\":{\"outlinewidth\":0,\"ticks\":\"\"}}}],\"carpet\":[{\"aaxis\":{\"endlinecolor\":\"#2a3f5f\",\"gridcolor\":\"white\",\"linecolor\":\"white\",\"minorgridcolor\":\"white\",\"startlinecolor\":\"#2a3f5f\"},\"baxis\":{\"endlinecolor\":\"#2a3f5f\",\"gridcolor\":\"white\",\"linecolor\":\"white\",\"minorgridcolor\":\"white\",\"startlinecolor\":\"#2a3f5f\"},\"type\":\"carpet\"}],\"table\":[{\"cells\":{\"fill\":{\"color\":\"#EBF0F8\"},\"line\":{\"color\":\"white\"}},\"header\":{\"fill\":{\"color\":\"#C8D4E3\"},\"line\":{\"color\":\"white\"}},\"type\":\"table\"}],\"barpolar\":[{\"marker\":{\"line\":{\"color\":\"#E5ECF6\",\"width\":0.5},\"pattern\":{\"fillmode\":\"overlay\",\"size\":10,\"solidity\":0.2}},\"type\":\"barpolar\"}],\"pie\":[{\"automargin\":true,\"type\":\"pie\"}]},\"layout\":{\"autotypenumbers\":\"strict\",\"colorway\":[\"#636efa\",\"#EF553B\",\"#00cc96\",\"#ab63fa\",\"#FFA15A\",\"#19d3f3\",\"#FF6692\",\"#B6E880\",\"#FF97FF\",\"#FECB52\"],\"font\":{\"color\":\"#2a3f5f\"},\"hovermode\":\"closest\",\"hoverlabel\":{\"align\":\"left\"},\"paper_bgcolor\":\"white\",\"plot_bgcolor\":\"#E5ECF6\",\"polar\":{\"bgcolor\":\"#E5ECF6\",\"angularaxis\":{\"gridcolor\":\"white\",\"linecolor\":\"white\",\"ticks\":\"\"},\"radialaxis\":{\"gridcolor\":\"white\",\"linecolor\":\"white\",\"ticks\":\"\"}},\"ternary\":{\"bgcolor\":\"#E5ECF6\",\"aaxis\":{\"gridcolor\":\"white\",\"linecolor\":\"white\",\"ticks\":\"\"},\"baxis\":{\"gridcolor\":\"white\",\"linecolor\":\"white\",\"ticks\":\"\"},\"caxis\":{\"gridcolor\":\"white\",\"linecolor\":\"white\",\"ticks\":\"\"}},\"coloraxis\":{\"colorbar\":{\"outlinewidth\":0,\"ticks\":\"\"}},\"colorscale\":{\"sequential\":[[0.0,\"#0d0887\"],[0.1111111111111111,\"#46039f\"],[0.2222222222222222,\"#7201a8\"],[0.3333333333333333,\"#9c179e\"],[0.4444444444444444,\"#bd3786\"],[0.5555555555555556,\"#d8576b\"],[0.6666666666666666,\"#ed7953\"],[0.7777777777777778,\"#fb9f3a\"],[0.8888888888888888,\"#fdca26\"],[1.0,\"#f0f921\"]],\"sequentialminus\":[[0.0,\"#0d0887\"],[0.1111111111111111,\"#46039f\"],[0.2222222222222222,\"#7201a8\"],[0.3333333333333333,\"#9c179e\"],[0.4444444444444444,\"#bd3786\"],[0.5555555555555556,\"#d8576b\"],[0.6666666666666666,\"#ed7953\"],[0.7777777777777778,\"#fb9f3a\"],[0.8888888888888888,\"#fdca26\"],[1.0,\"#f0f921\"]],\"diverging\":[[0,\"#8e0152\"],[0.1,\"#c51b7d\"],[0.2,\"#de77ae\"],[0.3,\"#f1b6da\"],[0.4,\"#fde0ef\"],[0.5,\"#f7f7f7\"],[0.6,\"#e6f5d0\"],[0.7,\"#b8e186\"],[0.8,\"#7fbc41\"],[0.9,\"#4d9221\"],[1,\"#276419\"]]},\"xaxis\":{\"gridcolor\":\"white\",\"linecolor\":\"white\",\"ticks\":\"\",\"title\":{\"standoff\":15},\"zerolinecolor\":\"white\",\"automargin\":true,\"zerolinewidth\":2},\"yaxis\":{\"gridcolor\":\"white\",\"linecolor\":\"white\",\"ticks\":\"\",\"title\":{\"standoff\":15},\"zerolinecolor\":\"white\",\"automargin\":true,\"zerolinewidth\":2},\"scene\":{\"xaxis\":{\"backgroundcolor\":\"#E5ECF6\",\"gridcolor\":\"white\",\"linecolor\":\"white\",\"showbackground\":true,\"ticks\":\"\",\"zerolinecolor\":\"white\",\"gridwidth\":2},\"yaxis\":{\"backgroundcolor\":\"#E5ECF6\",\"gridcolor\":\"white\",\"linecolor\":\"white\",\"showbackground\":true,\"ticks\":\"\",\"zerolinecolor\":\"white\",\"gridwidth\":2},\"zaxis\":{\"backgroundcolor\":\"#E5ECF6\",\"gridcolor\":\"white\",\"linecolor\":\"white\",\"showbackground\":true,\"ticks\":\"\",\"zerolinecolor\":\"white\",\"gridwidth\":2}},\"shapedefaults\":{\"line\":{\"color\":\"#2a3f5f\"}},\"annotationdefaults\":{\"arrowcolor\":\"#2a3f5f\",\"arrowhead\":0,\"arrowwidth\":1},\"geo\":{\"bgcolor\":\"white\",\"landcolor\":\"#E5ECF6\",\"subunitcolor\":\"white\",\"showland\":true,\"showlakes\":true,\"lakecolor\":\"white\"},\"title\":{\"x\":0.05},\"mapbox\":{\"style\":\"light\"}}},\"geo\":{\"domain\":{\"x\":[0.0,1.0],\"y\":[0.0,1.0]},\"center\":{}},\"coloraxis\":{\"colorbar\":{\"title\":{\"text\":\"No of guests\"}},\"colorscale\":[[0.0,\"#0d0887\"],[0.1111111111111111,\"#46039f\"],[0.2222222222222222,\"#7201a8\"],[0.3333333333333333,\"#9c179e\"],[0.4444444444444444,\"#bd3786\"],[0.5555555555555556,\"#d8576b\"],[0.6666666666666666,\"#ed7953\"],[0.7777777777777778,\"#fb9f3a\"],[0.8888888888888888,\"#fdca26\"],[1.0,\"#f0f921\"]]},\"legend\":{\"tracegroupgap\":0},\"title\":{\"text\":\"Home Country of Guests\"}},                        {\"responsive\": true}                    ).then(function(){\n",
       "                            \n",
       "var gd = document.getElementById('3a6d518f-aad5-4b72-900a-de72e3a0d99a');\n",
       "var x = new MutationObserver(function (mutations, observer) {{\n",
       "        var display = window.getComputedStyle(gd).display;\n",
       "        if (!display || display === 'none') {{\n",
       "            console.log([gd, 'removed!']);\n",
       "            Plotly.purge(gd);\n",
       "            observer.disconnect();\n",
       "        }}\n",
       "}});\n",
       "\n",
       "// Listen for the removal of the full notebook cells\n",
       "var notebookContainer = gd.closest('#notebook-container');\n",
       "if (notebookContainer) {{\n",
       "    x.observe(notebookContainer, {childList: true});\n",
       "}}\n",
       "\n",
       "// Listen for the clearing of the current output cell\n",
       "var outputEl = gd.closest('.output');\n",
       "if (outputEl) {{\n",
       "    x.observe(outputEl, {childList: true});\n",
       "}}\n",
       "\n",
       "                        })                };            </script>        </div>"
      ]
     },
     "metadata": {},
     "output_type": "display_data"
    }
   ],
   "source": [
    "map_guest = px.choropleth(data_frame=country_df,\n",
    "              locations='country',\n",
    "              color='No of guests',\n",
    "              hover_name='country',\n",
    "              title = 'Home Country of Guests'\n",
    "             )\n",
    "\n",
    "map_guest.show()"
   ]
  },
  {
   "cell_type": "code",
   "execution_count": null,
   "id": "f2b417d3-8667-44d9-9cd4-27e19ce0d0d5",
   "metadata": {},
   "outputs": [],
   "source": [
    "# ANSWER: Portugal is the country with the highest number of guests = 17,573k"
   ]
  },
  {
   "cell_type": "code",
   "execution_count": 88,
   "id": "d03b8c11-3870-4aff-84c0-89996bfdfd0a",
   "metadata": {},
   "outputs": [],
   "source": [
    "# QUESTION: how often do people get their reserved room type?"
   ]
  },
  {
   "cell_type": "code",
   "execution_count": 94,
   "id": "e528e4be-15d9-4b68-8867-ec97e4364b40",
   "metadata": {},
   "outputs": [],
   "source": [
    "# we will use a crosstab table to intersect the values between booked and assigned\n",
    "\n",
    "# margins=True --> outputs the totals (margins) for each row and column\n",
    "# rows = reserved ; columns = assigned"
   ]
  },
  {
   "cell_type": "code",
   "execution_count": 17,
   "id": "14ed789e-9f32-4f10-bd7a-5b6d0034ff67",
   "metadata": {},
   "outputs": [
    {
     "data": {
      "text/html": [
       "<div>\n",
       "<style scoped>\n",
       "    .dataframe tbody tr th:only-of-type {\n",
       "        vertical-align: middle;\n",
       "    }\n",
       "\n",
       "    .dataframe tbody tr th {\n",
       "        vertical-align: top;\n",
       "    }\n",
       "\n",
       "    .dataframe thead th {\n",
       "        text-align: right;\n",
       "    }\n",
       "</style>\n",
       "<table border=\"1\" class=\"dataframe\">\n",
       "  <thead>\n",
       "    <tr style=\"text-align: right;\">\n",
       "      <th>assigned_room_type</th>\n",
       "      <th>A</th>\n",
       "      <th>B</th>\n",
       "      <th>C</th>\n",
       "      <th>D</th>\n",
       "      <th>E</th>\n",
       "      <th>F</th>\n",
       "      <th>G</th>\n",
       "      <th>H</th>\n",
       "      <th>I</th>\n",
       "      <th>K</th>\n",
       "      <th>L</th>\n",
       "      <th>All</th>\n",
       "    </tr>\n",
       "    <tr>\n",
       "      <th>reserved_room_type</th>\n",
       "      <th></th>\n",
       "      <th></th>\n",
       "      <th></th>\n",
       "      <th></th>\n",
       "      <th></th>\n",
       "      <th></th>\n",
       "      <th></th>\n",
       "      <th></th>\n",
       "      <th></th>\n",
       "      <th></th>\n",
       "      <th></th>\n",
       "      <th></th>\n",
       "    </tr>\n",
       "  </thead>\n",
       "  <tbody>\n",
       "    <tr>\n",
       "      <th>A</th>\n",
       "      <td>45850</td>\n",
       "      <td>892</td>\n",
       "      <td>1253</td>\n",
       "      <td>6402</td>\n",
       "      <td>1034</td>\n",
       "      <td>390</td>\n",
       "      <td>176</td>\n",
       "      <td>94</td>\n",
       "      <td>205</td>\n",
       "      <td>140</td>\n",
       "      <td>0</td>\n",
       "      <td>56436</td>\n",
       "    </tr>\n",
       "    <tr>\n",
       "      <th>B</th>\n",
       "      <td>106</td>\n",
       "      <td>872</td>\n",
       "      <td>0</td>\n",
       "      <td>5</td>\n",
       "      <td>2</td>\n",
       "      <td>2</td>\n",
       "      <td>8</td>\n",
       "      <td>0</td>\n",
       "      <td>0</td>\n",
       "      <td>1</td>\n",
       "      <td>0</td>\n",
       "      <td>996</td>\n",
       "    </tr>\n",
       "    <tr>\n",
       "      <th>C</th>\n",
       "      <td>5</td>\n",
       "      <td>2</td>\n",
       "      <td>866</td>\n",
       "      <td>6</td>\n",
       "      <td>4</td>\n",
       "      <td>2</td>\n",
       "      <td>10</td>\n",
       "      <td>9</td>\n",
       "      <td>10</td>\n",
       "      <td>0</td>\n",
       "      <td>0</td>\n",
       "      <td>914</td>\n",
       "    </tr>\n",
       "    <tr>\n",
       "      <th>D</th>\n",
       "      <td>295</td>\n",
       "      <td>27</td>\n",
       "      <td>32</td>\n",
       "      <td>15979</td>\n",
       "      <td>657</td>\n",
       "      <td>199</td>\n",
       "      <td>82</td>\n",
       "      <td>9</td>\n",
       "      <td>67</td>\n",
       "      <td>29</td>\n",
       "      <td>0</td>\n",
       "      <td>17376</td>\n",
       "    </tr>\n",
       "    <tr>\n",
       "      <th>E</th>\n",
       "      <td>15</td>\n",
       "      <td>2</td>\n",
       "      <td>6</td>\n",
       "      <td>22</td>\n",
       "      <td>5458</td>\n",
       "      <td>383</td>\n",
       "      <td>97</td>\n",
       "      <td>4</td>\n",
       "      <td>40</td>\n",
       "      <td>9</td>\n",
       "      <td>0</td>\n",
       "      <td>6036</td>\n",
       "    </tr>\n",
       "    <tr>\n",
       "      <th>F</th>\n",
       "      <td>6</td>\n",
       "      <td>14</td>\n",
       "      <td>0</td>\n",
       "      <td>4</td>\n",
       "      <td>31</td>\n",
       "      <td>2636</td>\n",
       "      <td>113</td>\n",
       "      <td>3</td>\n",
       "      <td>10</td>\n",
       "      <td>3</td>\n",
       "      <td>0</td>\n",
       "      <td>2820</td>\n",
       "    </tr>\n",
       "    <tr>\n",
       "      <th>G</th>\n",
       "      <td>5</td>\n",
       "      <td>1</td>\n",
       "      <td>2</td>\n",
       "      <td>0</td>\n",
       "      <td>4</td>\n",
       "      <td>14</td>\n",
       "      <td>1999</td>\n",
       "      <td>7</td>\n",
       "      <td>15</td>\n",
       "      <td>3</td>\n",
       "      <td>0</td>\n",
       "      <td>2050</td>\n",
       "    </tr>\n",
       "    <tr>\n",
       "      <th>H</th>\n",
       "      <td>0</td>\n",
       "      <td>0</td>\n",
       "      <td>0</td>\n",
       "      <td>1</td>\n",
       "      <td>0</td>\n",
       "      <td>0</td>\n",
       "      <td>10</td>\n",
       "      <td>579</td>\n",
       "      <td>6</td>\n",
       "      <td>0</td>\n",
       "      <td>0</td>\n",
       "      <td>596</td>\n",
       "    </tr>\n",
       "    <tr>\n",
       "      <th>L</th>\n",
       "      <td>1</td>\n",
       "      <td>1</td>\n",
       "      <td>1</td>\n",
       "      <td>0</td>\n",
       "      <td>0</td>\n",
       "      <td>1</td>\n",
       "      <td>0</td>\n",
       "      <td>1</td>\n",
       "      <td>0</td>\n",
       "      <td>0</td>\n",
       "      <td>1</td>\n",
       "      <td>6</td>\n",
       "    </tr>\n",
       "    <tr>\n",
       "      <th>All</th>\n",
       "      <td>46283</td>\n",
       "      <td>1811</td>\n",
       "      <td>2160</td>\n",
       "      <td>22419</td>\n",
       "      <td>7190</td>\n",
       "      <td>3627</td>\n",
       "      <td>2495</td>\n",
       "      <td>706</td>\n",
       "      <td>353</td>\n",
       "      <td>185</td>\n",
       "      <td>1</td>\n",
       "      <td>87230</td>\n",
       "    </tr>\n",
       "  </tbody>\n",
       "</table>\n",
       "</div>"
      ],
      "text/plain": [
       "assigned_room_type      A     B     C      D     E     F     G    H    I    K  \\\n",
       "reserved_room_type                                                              \n",
       "A                   45850   892  1253   6402  1034   390   176   94  205  140   \n",
       "B                     106   872     0      5     2     2     8    0    0    1   \n",
       "C                       5     2   866      6     4     2    10    9   10    0   \n",
       "D                     295    27    32  15979   657   199    82    9   67   29   \n",
       "E                      15     2     6     22  5458   383    97    4   40    9   \n",
       "F                       6    14     0      4    31  2636   113    3   10    3   \n",
       "G                       5     1     2      0     4    14  1999    7   15    3   \n",
       "H                       0     0     0      1     0     0    10  579    6    0   \n",
       "L                       1     1     1      0     0     1     0    1    0    0   \n",
       "All                 46283  1811  2160  22419  7190  3627  2495  706  353  185   \n",
       "\n",
       "assigned_room_type  L    All  \n",
       "reserved_room_type            \n",
       "A                   0  56436  \n",
       "B                   0    996  \n",
       "C                   0    914  \n",
       "D                   0  17376  \n",
       "E                   0   6036  \n",
       "F                   0   2820  \n",
       "G                   0   2050  \n",
       "H                   0    596  \n",
       "L                   1      6  \n",
       "All                 1  87230  "
      ]
     },
     "execution_count": 17,
     "metadata": {},
     "output_type": "execute_result"
    }
   ],
   "source": [
    "pd.crosstab(index=hotel_df['reserved_room_type'], columns=hotel_df['assigned_room_type'], margins=True)"
   ]
  },
  {
   "cell_type": "code",
   "execution_count": 92,
   "id": "28d0a11d-db6e-4213-8cf7-4fe73c7685fa",
   "metadata": {},
   "outputs": [],
   "source": [
    "# to get the % of chance, we have to normalize the parameters"
   ]
  },
  {
   "cell_type": "code",
   "execution_count": 93,
   "id": "abc0ba72-fad1-49f6-b684-37ae7e165e83",
   "metadata": {},
   "outputs": [
    {
     "data": {
      "text/html": [
       "<div>\n",
       "<style scoped>\n",
       "    .dataframe tbody tr th:only-of-type {\n",
       "        vertical-align: middle;\n",
       "    }\n",
       "\n",
       "    .dataframe tbody tr th {\n",
       "        vertical-align: top;\n",
       "    }\n",
       "\n",
       "    .dataframe thead th {\n",
       "        text-align: right;\n",
       "    }\n",
       "</style>\n",
       "<table border=\"1\" class=\"dataframe\">\n",
       "  <thead>\n",
       "    <tr style=\"text-align: right;\">\n",
       "      <th>assigned_room_type</th>\n",
       "      <th>A</th>\n",
       "      <th>B</th>\n",
       "      <th>C</th>\n",
       "      <th>D</th>\n",
       "      <th>E</th>\n",
       "      <th>F</th>\n",
       "      <th>G</th>\n",
       "      <th>H</th>\n",
       "      <th>I</th>\n",
       "      <th>K</th>\n",
       "      <th>L</th>\n",
       "    </tr>\n",
       "    <tr>\n",
       "      <th>reserved_room_type</th>\n",
       "      <th></th>\n",
       "      <th></th>\n",
       "      <th></th>\n",
       "      <th></th>\n",
       "      <th></th>\n",
       "      <th></th>\n",
       "      <th></th>\n",
       "      <th></th>\n",
       "      <th></th>\n",
       "      <th></th>\n",
       "      <th></th>\n",
       "    </tr>\n",
       "  </thead>\n",
       "  <tbody>\n",
       "    <tr>\n",
       "      <th>A</th>\n",
       "      <td>81.0</td>\n",
       "      <td>2.0</td>\n",
       "      <td>2.0</td>\n",
       "      <td>11.0</td>\n",
       "      <td>2.0</td>\n",
       "      <td>1.0</td>\n",
       "      <td>0.0</td>\n",
       "      <td>0.0</td>\n",
       "      <td>0.0</td>\n",
       "      <td>0.0</td>\n",
       "      <td>0.0</td>\n",
       "    </tr>\n",
       "    <tr>\n",
       "      <th>B</th>\n",
       "      <td>11.0</td>\n",
       "      <td>88.0</td>\n",
       "      <td>0.0</td>\n",
       "      <td>1.0</td>\n",
       "      <td>0.0</td>\n",
       "      <td>0.0</td>\n",
       "      <td>1.0</td>\n",
       "      <td>0.0</td>\n",
       "      <td>0.0</td>\n",
       "      <td>0.0</td>\n",
       "      <td>0.0</td>\n",
       "    </tr>\n",
       "    <tr>\n",
       "      <th>C</th>\n",
       "      <td>1.0</td>\n",
       "      <td>0.0</td>\n",
       "      <td>95.0</td>\n",
       "      <td>1.0</td>\n",
       "      <td>0.0</td>\n",
       "      <td>0.0</td>\n",
       "      <td>1.0</td>\n",
       "      <td>1.0</td>\n",
       "      <td>1.0</td>\n",
       "      <td>0.0</td>\n",
       "      <td>0.0</td>\n",
       "    </tr>\n",
       "    <tr>\n",
       "      <th>D</th>\n",
       "      <td>2.0</td>\n",
       "      <td>0.0</td>\n",
       "      <td>0.0</td>\n",
       "      <td>92.0</td>\n",
       "      <td>4.0</td>\n",
       "      <td>1.0</td>\n",
       "      <td>0.0</td>\n",
       "      <td>0.0</td>\n",
       "      <td>0.0</td>\n",
       "      <td>0.0</td>\n",
       "      <td>0.0</td>\n",
       "    </tr>\n",
       "    <tr>\n",
       "      <th>E</th>\n",
       "      <td>0.0</td>\n",
       "      <td>0.0</td>\n",
       "      <td>0.0</td>\n",
       "      <td>0.0</td>\n",
       "      <td>90.0</td>\n",
       "      <td>6.0</td>\n",
       "      <td>2.0</td>\n",
       "      <td>0.0</td>\n",
       "      <td>1.0</td>\n",
       "      <td>0.0</td>\n",
       "      <td>0.0</td>\n",
       "    </tr>\n",
       "    <tr>\n",
       "      <th>F</th>\n",
       "      <td>0.0</td>\n",
       "      <td>0.0</td>\n",
       "      <td>0.0</td>\n",
       "      <td>0.0</td>\n",
       "      <td>1.0</td>\n",
       "      <td>93.0</td>\n",
       "      <td>4.0</td>\n",
       "      <td>0.0</td>\n",
       "      <td>0.0</td>\n",
       "      <td>0.0</td>\n",
       "      <td>0.0</td>\n",
       "    </tr>\n",
       "    <tr>\n",
       "      <th>G</th>\n",
       "      <td>0.0</td>\n",
       "      <td>0.0</td>\n",
       "      <td>0.0</td>\n",
       "      <td>0.0</td>\n",
       "      <td>0.0</td>\n",
       "      <td>1.0</td>\n",
       "      <td>98.0</td>\n",
       "      <td>0.0</td>\n",
       "      <td>1.0</td>\n",
       "      <td>0.0</td>\n",
       "      <td>0.0</td>\n",
       "    </tr>\n",
       "    <tr>\n",
       "      <th>H</th>\n",
       "      <td>0.0</td>\n",
       "      <td>0.0</td>\n",
       "      <td>0.0</td>\n",
       "      <td>0.0</td>\n",
       "      <td>0.0</td>\n",
       "      <td>0.0</td>\n",
       "      <td>2.0</td>\n",
       "      <td>97.0</td>\n",
       "      <td>1.0</td>\n",
       "      <td>0.0</td>\n",
       "      <td>0.0</td>\n",
       "    </tr>\n",
       "    <tr>\n",
       "      <th>L</th>\n",
       "      <td>17.0</td>\n",
       "      <td>17.0</td>\n",
       "      <td>17.0</td>\n",
       "      <td>0.0</td>\n",
       "      <td>0.0</td>\n",
       "      <td>17.0</td>\n",
       "      <td>0.0</td>\n",
       "      <td>17.0</td>\n",
       "      <td>0.0</td>\n",
       "      <td>0.0</td>\n",
       "      <td>17.0</td>\n",
       "    </tr>\n",
       "    <tr>\n",
       "      <th>All</th>\n",
       "      <td>53.0</td>\n",
       "      <td>2.0</td>\n",
       "      <td>2.0</td>\n",
       "      <td>26.0</td>\n",
       "      <td>8.0</td>\n",
       "      <td>4.0</td>\n",
       "      <td>3.0</td>\n",
       "      <td>1.0</td>\n",
       "      <td>0.0</td>\n",
       "      <td>0.0</td>\n",
       "      <td>0.0</td>\n",
       "    </tr>\n",
       "  </tbody>\n",
       "</table>\n",
       "</div>"
      ],
      "text/plain": [
       "assigned_room_type     A     B     C     D     E     F     G     H    I    K  \\\n",
       "reserved_room_type                                                             \n",
       "A                   81.0   2.0   2.0  11.0   2.0   1.0   0.0   0.0  0.0  0.0   \n",
       "B                   11.0  88.0   0.0   1.0   0.0   0.0   1.0   0.0  0.0  0.0   \n",
       "C                    1.0   0.0  95.0   1.0   0.0   0.0   1.0   1.0  1.0  0.0   \n",
       "D                    2.0   0.0   0.0  92.0   4.0   1.0   0.0   0.0  0.0  0.0   \n",
       "E                    0.0   0.0   0.0   0.0  90.0   6.0   2.0   0.0  1.0  0.0   \n",
       "F                    0.0   0.0   0.0   0.0   1.0  93.0   4.0   0.0  0.0  0.0   \n",
       "G                    0.0   0.0   0.0   0.0   0.0   1.0  98.0   0.0  1.0  0.0   \n",
       "H                    0.0   0.0   0.0   0.0   0.0   0.0   2.0  97.0  1.0  0.0   \n",
       "L                   17.0  17.0  17.0   0.0   0.0  17.0   0.0  17.0  0.0  0.0   \n",
       "All                 53.0   2.0   2.0  26.0   8.0   4.0   3.0   1.0  0.0  0.0   \n",
       "\n",
       "assigned_room_type     L  \n",
       "reserved_room_type        \n",
       "A                    0.0  \n",
       "B                    0.0  \n",
       "C                    0.0  \n",
       "D                    0.0  \n",
       "E                    0.0  \n",
       "F                    0.0  \n",
       "G                    0.0  \n",
       "H                    0.0  \n",
       "L                   17.0  \n",
       "All                  0.0  "
      ]
     },
     "execution_count": 93,
     "metadata": {},
     "output_type": "execute_result"
    }
   ],
   "source": [
    "pd.crosstab(index=hotel_df['reserved_room_type'], columns=hotel_df['assigned_room_type'], margins=True, normalize='index').round(2)*100 "
   ]
  },
  {
   "cell_type": "code",
   "execution_count": 96,
   "id": "faa3825c-5fa1-401b-888d-280d5521d231",
   "metadata": {},
   "outputs": [],
   "source": [
    "#ANSWERS: \n",
    "# 81% of guests that reserved type A got type A\n",
    "# 1% of guests that reserved type G got type F"
   ]
  },
  {
   "cell_type": "code",
   "execution_count": 18,
   "id": "45d95b7b-1fe4-4176-bdb8-91611122c4c4",
   "metadata": {},
   "outputs": [],
   "source": [
    "# QUESTION: which market segment has the highest bookings?"
   ]
  },
  {
   "cell_type": "code",
   "execution_count": 19,
   "id": "7f0da286-88be-470e-b9f4-eec45198236b",
   "metadata": {},
   "outputs": [
    {
     "data": {
      "text/plain": [
       "Index(['hotel', 'is_canceled', 'lead_time', 'arrival_date_year',\n",
       "       'arrival_date_month', 'arrival_date_week_number',\n",
       "       'arrival_date_day_of_month', 'stays_in_weekend_nights',\n",
       "       'stays_in_week_nights', 'adults', 'children', 'babies', 'meal',\n",
       "       'country', 'market_segment', 'distribution_channel',\n",
       "       'is_repeated_guest', 'previous_cancellations',\n",
       "       'previous_bookings_not_canceled', 'reserved_room_type',\n",
       "       'assigned_room_type', 'booking_changes', 'deposit_type', 'agent',\n",
       "       'company', 'days_in_waiting_list', 'customer_type', 'adr',\n",
       "       'required_car_parking_spaces', 'total_of_special_requests',\n",
       "       'reservation_status', 'reservation_status_date'],\n",
       "      dtype='object')"
      ]
     },
     "execution_count": 19,
     "metadata": {},
     "output_type": "execute_result"
    }
   ],
   "source": [
    "hotel_df.columns"
   ]
  },
  {
   "cell_type": "code",
   "execution_count": 25,
   "id": "00d3be9e-3a45-4999-aabe-ba5bf031c4c5",
   "metadata": {},
   "outputs": [],
   "source": [
    "# we create arrays to later input into the values, names parameters of the px.pie"
   ]
  },
  {
   "cell_type": "code",
   "execution_count": 27,
   "id": "da5da6d2-75c9-4401-91bc-1564476a138b",
   "metadata": {},
   "outputs": [],
   "source": [
    "not_cancelled_df['market_segment'].value_counts()\n",
    "market_seg_values = not_cancelled_df['market_segment'].value_counts().values\n",
    "market_seg_names = not_cancelled_df['market_segment'].value_counts().index"
   ]
  },
  {
   "cell_type": "code",
   "execution_count": 29,
   "id": "e5b549f7-e686-4305-ad7a-de03dc359002",
   "metadata": {},
   "outputs": [
    {
     "data": {
      "text/plain": [
       "array([33311, 11798, 10043,  3691,  3590,   607,   181], dtype=int64)"
      ]
     },
     "execution_count": 29,
     "metadata": {},
     "output_type": "execute_result"
    }
   ],
   "source": [
    "market_seg_values"
   ]
  },
  {
   "cell_type": "code",
   "execution_count": 30,
   "id": "24ceab69-fdb5-4694-b29d-e7d7b0744b43",
   "metadata": {},
   "outputs": [
    {
     "data": {
      "text/plain": [
       "Index(['Online TA', 'Offline TA/TO', 'Direct', 'Corporate', 'Groups',\n",
       "       'Complementary', 'Aviation'],\n",
       "      dtype='object', name='market_segment')"
      ]
     },
     "execution_count": 30,
     "metadata": {},
     "output_type": "execute_result"
    }
   ],
   "source": [
    "market_seg_names"
   ]
  },
  {
   "cell_type": "code",
   "execution_count": 21,
   "id": "c817b169-d061-4057-99c5-2c4be23c8393",
   "metadata": {},
   "outputs": [],
   "source": [
    "# building a pie chart to visualize %s by market segment"
   ]
  },
  {
   "cell_type": "code",
   "execution_count": 37,
   "id": "d40a2f2a-f1b4-4f84-a44b-db67ca973c9a",
   "metadata": {},
   "outputs": [
    {
     "data": {
      "application/vnd.plotly.v1+json": {
       "config": {
        "plotlyServerURL": "https://plot.ly"
       },
       "data": [
        {
         "domain": {
          "x": [
           0,
           1
          ],
          "y": [
           0,
           1
          ]
         },
         "hovertemplate": "label=%{label}<br>value=%{value}<extra></extra>",
         "labels": [
          "Online TA",
          "Offline TA/TO",
          "Direct",
          "Corporate",
          "Groups",
          "Complementary",
          "Aviation"
         ],
         "legendgroup": "",
         "name": "",
         "showlegend": true,
         "type": "pie",
         "values": {
          "bdata": "H4IAABYuAAA7JwAAaw4AAAYOAABfAgAAtQAAAA==",
          "dtype": "i4"
         }
        }
       ],
       "layout": {
        "legend": {
         "tracegroupgap": 0
        },
        "template": {
         "data": {
          "bar": [
           {
            "error_x": {
             "color": "#2a3f5f"
            },
            "error_y": {
             "color": "#2a3f5f"
            },
            "marker": {
             "line": {
              "color": "#E5ECF6",
              "width": 0.5
             },
             "pattern": {
              "fillmode": "overlay",
              "size": 10,
              "solidity": 0.2
             }
            },
            "type": "bar"
           }
          ],
          "barpolar": [
           {
            "marker": {
             "line": {
              "color": "#E5ECF6",
              "width": 0.5
             },
             "pattern": {
              "fillmode": "overlay",
              "size": 10,
              "solidity": 0.2
             }
            },
            "type": "barpolar"
           }
          ],
          "carpet": [
           {
            "aaxis": {
             "endlinecolor": "#2a3f5f",
             "gridcolor": "white",
             "linecolor": "white",
             "minorgridcolor": "white",
             "startlinecolor": "#2a3f5f"
            },
            "baxis": {
             "endlinecolor": "#2a3f5f",
             "gridcolor": "white",
             "linecolor": "white",
             "minorgridcolor": "white",
             "startlinecolor": "#2a3f5f"
            },
            "type": "carpet"
           }
          ],
          "choropleth": [
           {
            "colorbar": {
             "outlinewidth": 0,
             "ticks": ""
            },
            "type": "choropleth"
           }
          ],
          "contour": [
           {
            "colorbar": {
             "outlinewidth": 0,
             "ticks": ""
            },
            "colorscale": [
             [
              0,
              "#0d0887"
             ],
             [
              0.1111111111111111,
              "#46039f"
             ],
             [
              0.2222222222222222,
              "#7201a8"
             ],
             [
              0.3333333333333333,
              "#9c179e"
             ],
             [
              0.4444444444444444,
              "#bd3786"
             ],
             [
              0.5555555555555556,
              "#d8576b"
             ],
             [
              0.6666666666666666,
              "#ed7953"
             ],
             [
              0.7777777777777778,
              "#fb9f3a"
             ],
             [
              0.8888888888888888,
              "#fdca26"
             ],
             [
              1,
              "#f0f921"
             ]
            ],
            "type": "contour"
           }
          ],
          "contourcarpet": [
           {
            "colorbar": {
             "outlinewidth": 0,
             "ticks": ""
            },
            "type": "contourcarpet"
           }
          ],
          "heatmap": [
           {
            "colorbar": {
             "outlinewidth": 0,
             "ticks": ""
            },
            "colorscale": [
             [
              0,
              "#0d0887"
             ],
             [
              0.1111111111111111,
              "#46039f"
             ],
             [
              0.2222222222222222,
              "#7201a8"
             ],
             [
              0.3333333333333333,
              "#9c179e"
             ],
             [
              0.4444444444444444,
              "#bd3786"
             ],
             [
              0.5555555555555556,
              "#d8576b"
             ],
             [
              0.6666666666666666,
              "#ed7953"
             ],
             [
              0.7777777777777778,
              "#fb9f3a"
             ],
             [
              0.8888888888888888,
              "#fdca26"
             ],
             [
              1,
              "#f0f921"
             ]
            ],
            "type": "heatmap"
           }
          ],
          "histogram": [
           {
            "marker": {
             "pattern": {
              "fillmode": "overlay",
              "size": 10,
              "solidity": 0.2
             }
            },
            "type": "histogram"
           }
          ],
          "histogram2d": [
           {
            "colorbar": {
             "outlinewidth": 0,
             "ticks": ""
            },
            "colorscale": [
             [
              0,
              "#0d0887"
             ],
             [
              0.1111111111111111,
              "#46039f"
             ],
             [
              0.2222222222222222,
              "#7201a8"
             ],
             [
              0.3333333333333333,
              "#9c179e"
             ],
             [
              0.4444444444444444,
              "#bd3786"
             ],
             [
              0.5555555555555556,
              "#d8576b"
             ],
             [
              0.6666666666666666,
              "#ed7953"
             ],
             [
              0.7777777777777778,
              "#fb9f3a"
             ],
             [
              0.8888888888888888,
              "#fdca26"
             ],
             [
              1,
              "#f0f921"
             ]
            ],
            "type": "histogram2d"
           }
          ],
          "histogram2dcontour": [
           {
            "colorbar": {
             "outlinewidth": 0,
             "ticks": ""
            },
            "colorscale": [
             [
              0,
              "#0d0887"
             ],
             [
              0.1111111111111111,
              "#46039f"
             ],
             [
              0.2222222222222222,
              "#7201a8"
             ],
             [
              0.3333333333333333,
              "#9c179e"
             ],
             [
              0.4444444444444444,
              "#bd3786"
             ],
             [
              0.5555555555555556,
              "#d8576b"
             ],
             [
              0.6666666666666666,
              "#ed7953"
             ],
             [
              0.7777777777777778,
              "#fb9f3a"
             ],
             [
              0.8888888888888888,
              "#fdca26"
             ],
             [
              1,
              "#f0f921"
             ]
            ],
            "type": "histogram2dcontour"
           }
          ],
          "mesh3d": [
           {
            "colorbar": {
             "outlinewidth": 0,
             "ticks": ""
            },
            "type": "mesh3d"
           }
          ],
          "parcoords": [
           {
            "line": {
             "colorbar": {
              "outlinewidth": 0,
              "ticks": ""
             }
            },
            "type": "parcoords"
           }
          ],
          "pie": [
           {
            "automargin": true,
            "type": "pie"
           }
          ],
          "scatter": [
           {
            "fillpattern": {
             "fillmode": "overlay",
             "size": 10,
             "solidity": 0.2
            },
            "type": "scatter"
           }
          ],
          "scatter3d": [
           {
            "line": {
             "colorbar": {
              "outlinewidth": 0,
              "ticks": ""
             }
            },
            "marker": {
             "colorbar": {
              "outlinewidth": 0,
              "ticks": ""
             }
            },
            "type": "scatter3d"
           }
          ],
          "scattercarpet": [
           {
            "marker": {
             "colorbar": {
              "outlinewidth": 0,
              "ticks": ""
             }
            },
            "type": "scattercarpet"
           }
          ],
          "scattergeo": [
           {
            "marker": {
             "colorbar": {
              "outlinewidth": 0,
              "ticks": ""
             }
            },
            "type": "scattergeo"
           }
          ],
          "scattergl": [
           {
            "marker": {
             "colorbar": {
              "outlinewidth": 0,
              "ticks": ""
             }
            },
            "type": "scattergl"
           }
          ],
          "scattermap": [
           {
            "marker": {
             "colorbar": {
              "outlinewidth": 0,
              "ticks": ""
             }
            },
            "type": "scattermap"
           }
          ],
          "scattermapbox": [
           {
            "marker": {
             "colorbar": {
              "outlinewidth": 0,
              "ticks": ""
             }
            },
            "type": "scattermapbox"
           }
          ],
          "scatterpolar": [
           {
            "marker": {
             "colorbar": {
              "outlinewidth": 0,
              "ticks": ""
             }
            },
            "type": "scatterpolar"
           }
          ],
          "scatterpolargl": [
           {
            "marker": {
             "colorbar": {
              "outlinewidth": 0,
              "ticks": ""
             }
            },
            "type": "scatterpolargl"
           }
          ],
          "scatterternary": [
           {
            "marker": {
             "colorbar": {
              "outlinewidth": 0,
              "ticks": ""
             }
            },
            "type": "scatterternary"
           }
          ],
          "surface": [
           {
            "colorbar": {
             "outlinewidth": 0,
             "ticks": ""
            },
            "colorscale": [
             [
              0,
              "#0d0887"
             ],
             [
              0.1111111111111111,
              "#46039f"
             ],
             [
              0.2222222222222222,
              "#7201a8"
             ],
             [
              0.3333333333333333,
              "#9c179e"
             ],
             [
              0.4444444444444444,
              "#bd3786"
             ],
             [
              0.5555555555555556,
              "#d8576b"
             ],
             [
              0.6666666666666666,
              "#ed7953"
             ],
             [
              0.7777777777777778,
              "#fb9f3a"
             ],
             [
              0.8888888888888888,
              "#fdca26"
             ],
             [
              1,
              "#f0f921"
             ]
            ],
            "type": "surface"
           }
          ],
          "table": [
           {
            "cells": {
             "fill": {
              "color": "#EBF0F8"
             },
             "line": {
              "color": "white"
             }
            },
            "header": {
             "fill": {
              "color": "#C8D4E3"
             },
             "line": {
              "color": "white"
             }
            },
            "type": "table"
           }
          ]
         },
         "layout": {
          "annotationdefaults": {
           "arrowcolor": "#2a3f5f",
           "arrowhead": 0,
           "arrowwidth": 1
          },
          "autotypenumbers": "strict",
          "coloraxis": {
           "colorbar": {
            "outlinewidth": 0,
            "ticks": ""
           }
          },
          "colorscale": {
           "diverging": [
            [
             0,
             "#8e0152"
            ],
            [
             0.1,
             "#c51b7d"
            ],
            [
             0.2,
             "#de77ae"
            ],
            [
             0.3,
             "#f1b6da"
            ],
            [
             0.4,
             "#fde0ef"
            ],
            [
             0.5,
             "#f7f7f7"
            ],
            [
             0.6,
             "#e6f5d0"
            ],
            [
             0.7,
             "#b8e186"
            ],
            [
             0.8,
             "#7fbc41"
            ],
            [
             0.9,
             "#4d9221"
            ],
            [
             1,
             "#276419"
            ]
           ],
           "sequential": [
            [
             0,
             "#0d0887"
            ],
            [
             0.1111111111111111,
             "#46039f"
            ],
            [
             0.2222222222222222,
             "#7201a8"
            ],
            [
             0.3333333333333333,
             "#9c179e"
            ],
            [
             0.4444444444444444,
             "#bd3786"
            ],
            [
             0.5555555555555556,
             "#d8576b"
            ],
            [
             0.6666666666666666,
             "#ed7953"
            ],
            [
             0.7777777777777778,
             "#fb9f3a"
            ],
            [
             0.8888888888888888,
             "#fdca26"
            ],
            [
             1,
             "#f0f921"
            ]
           ],
           "sequentialminus": [
            [
             0,
             "#0d0887"
            ],
            [
             0.1111111111111111,
             "#46039f"
            ],
            [
             0.2222222222222222,
             "#7201a8"
            ],
            [
             0.3333333333333333,
             "#9c179e"
            ],
            [
             0.4444444444444444,
             "#bd3786"
            ],
            [
             0.5555555555555556,
             "#d8576b"
            ],
            [
             0.6666666666666666,
             "#ed7953"
            ],
            [
             0.7777777777777778,
             "#fb9f3a"
            ],
            [
             0.8888888888888888,
             "#fdca26"
            ],
            [
             1,
             "#f0f921"
            ]
           ]
          },
          "colorway": [
           "#636efa",
           "#EF553B",
           "#00cc96",
           "#ab63fa",
           "#FFA15A",
           "#19d3f3",
           "#FF6692",
           "#B6E880",
           "#FF97FF",
           "#FECB52"
          ],
          "font": {
           "color": "#2a3f5f"
          },
          "geo": {
           "bgcolor": "white",
           "lakecolor": "white",
           "landcolor": "#E5ECF6",
           "showlakes": true,
           "showland": true,
           "subunitcolor": "white"
          },
          "hoverlabel": {
           "align": "left"
          },
          "hovermode": "closest",
          "mapbox": {
           "style": "light"
          },
          "paper_bgcolor": "white",
          "plot_bgcolor": "#E5ECF6",
          "polar": {
           "angularaxis": {
            "gridcolor": "white",
            "linecolor": "white",
            "ticks": ""
           },
           "bgcolor": "#E5ECF6",
           "radialaxis": {
            "gridcolor": "white",
            "linecolor": "white",
            "ticks": ""
           }
          },
          "scene": {
           "xaxis": {
            "backgroundcolor": "#E5ECF6",
            "gridcolor": "white",
            "gridwidth": 2,
            "linecolor": "white",
            "showbackground": true,
            "ticks": "",
            "zerolinecolor": "white"
           },
           "yaxis": {
            "backgroundcolor": "#E5ECF6",
            "gridcolor": "white",
            "gridwidth": 2,
            "linecolor": "white",
            "showbackground": true,
            "ticks": "",
            "zerolinecolor": "white"
           },
           "zaxis": {
            "backgroundcolor": "#E5ECF6",
            "gridcolor": "white",
            "gridwidth": 2,
            "linecolor": "white",
            "showbackground": true,
            "ticks": "",
            "zerolinecolor": "white"
           }
          },
          "shapedefaults": {
           "line": {
            "color": "#2a3f5f"
           }
          },
          "ternary": {
           "aaxis": {
            "gridcolor": "white",
            "linecolor": "white",
            "ticks": ""
           },
           "baxis": {
            "gridcolor": "white",
            "linecolor": "white",
            "ticks": ""
           },
           "bgcolor": "#E5ECF6",
           "caxis": {
            "gridcolor": "white",
            "linecolor": "white",
            "ticks": ""
           }
          },
          "title": {
           "x": 0.05
          },
          "xaxis": {
           "automargin": true,
           "gridcolor": "white",
           "linecolor": "white",
           "ticks": "",
           "title": {
            "standoff": 15
           },
           "zerolinecolor": "white",
           "zerolinewidth": 2
          },
          "yaxis": {
           "automargin": true,
           "gridcolor": "white",
           "linecolor": "white",
           "ticks": "",
           "title": {
            "standoff": 15
           },
           "zerolinecolor": "white",
           "zerolinewidth": 2
          }
         }
        },
        "title": {
         "text": "Bookings by Market Segment"
        }
       }
      },
      "text/html": [
       "<div>            <script src=\"https://cdnjs.cloudflare.com/ajax/libs/mathjax/2.7.5/MathJax.js?config=TeX-AMS-MML_SVG\"></script><script type=\"text/javascript\">if (window.MathJax && window.MathJax.Hub && window.MathJax.Hub.Config) {window.MathJax.Hub.Config({SVG: {font: \"STIX-Web\"}});}</script>                <script type=\"text/javascript\">window.PlotlyConfig = {MathJaxConfig: 'local'};</script>\n",
       "        <script charset=\"utf-8\" src=\"https://cdn.plot.ly/plotly-3.0.0.min.js\"></script>                <div id=\"730b0915-f87a-4e03-bcf4-47487441b975\" class=\"plotly-graph-div\" style=\"height:525px; width:100%;\"></div>            <script type=\"text/javascript\">                window.PLOTLYENV=window.PLOTLYENV || {};                                if (document.getElementById(\"730b0915-f87a-4e03-bcf4-47487441b975\")) {                    Plotly.newPlot(                        \"730b0915-f87a-4e03-bcf4-47487441b975\",                        [{\"domain\":{\"x\":[0.0,1.0],\"y\":[0.0,1.0]},\"hovertemplate\":\"label=%{label}\\u003cbr\\u003evalue=%{value}\\u003cextra\\u003e\\u003c\\u002fextra\\u003e\",\"labels\":[\"Online TA\",\"Offline TA\\u002fTO\",\"Direct\",\"Corporate\",\"Groups\",\"Complementary\",\"Aviation\"],\"legendgroup\":\"\",\"name\":\"\",\"showlegend\":true,\"values\":{\"dtype\":\"i4\",\"bdata\":\"H4IAABYuAAA7JwAAaw4AAAYOAABfAgAAtQAAAA==\"},\"type\":\"pie\"}],                        {\"template\":{\"data\":{\"histogram2dcontour\":[{\"type\":\"histogram2dcontour\",\"colorbar\":{\"outlinewidth\":0,\"ticks\":\"\"},\"colorscale\":[[0.0,\"#0d0887\"],[0.1111111111111111,\"#46039f\"],[0.2222222222222222,\"#7201a8\"],[0.3333333333333333,\"#9c179e\"],[0.4444444444444444,\"#bd3786\"],[0.5555555555555556,\"#d8576b\"],[0.6666666666666666,\"#ed7953\"],[0.7777777777777778,\"#fb9f3a\"],[0.8888888888888888,\"#fdca26\"],[1.0,\"#f0f921\"]]}],\"choropleth\":[{\"type\":\"choropleth\",\"colorbar\":{\"outlinewidth\":0,\"ticks\":\"\"}}],\"histogram2d\":[{\"type\":\"histogram2d\",\"colorbar\":{\"outlinewidth\":0,\"ticks\":\"\"},\"colorscale\":[[0.0,\"#0d0887\"],[0.1111111111111111,\"#46039f\"],[0.2222222222222222,\"#7201a8\"],[0.3333333333333333,\"#9c179e\"],[0.4444444444444444,\"#bd3786\"],[0.5555555555555556,\"#d8576b\"],[0.6666666666666666,\"#ed7953\"],[0.7777777777777778,\"#fb9f3a\"],[0.8888888888888888,\"#fdca26\"],[1.0,\"#f0f921\"]]}],\"heatmap\":[{\"type\":\"heatmap\",\"colorbar\":{\"outlinewidth\":0,\"ticks\":\"\"},\"colorscale\":[[0.0,\"#0d0887\"],[0.1111111111111111,\"#46039f\"],[0.2222222222222222,\"#7201a8\"],[0.3333333333333333,\"#9c179e\"],[0.4444444444444444,\"#bd3786\"],[0.5555555555555556,\"#d8576b\"],[0.6666666666666666,\"#ed7953\"],[0.7777777777777778,\"#fb9f3a\"],[0.8888888888888888,\"#fdca26\"],[1.0,\"#f0f921\"]]}],\"contourcarpet\":[{\"type\":\"contourcarpet\",\"colorbar\":{\"outlinewidth\":0,\"ticks\":\"\"}}],\"contour\":[{\"type\":\"contour\",\"colorbar\":{\"outlinewidth\":0,\"ticks\":\"\"},\"colorscale\":[[0.0,\"#0d0887\"],[0.1111111111111111,\"#46039f\"],[0.2222222222222222,\"#7201a8\"],[0.3333333333333333,\"#9c179e\"],[0.4444444444444444,\"#bd3786\"],[0.5555555555555556,\"#d8576b\"],[0.6666666666666666,\"#ed7953\"],[0.7777777777777778,\"#fb9f3a\"],[0.8888888888888888,\"#fdca26\"],[1.0,\"#f0f921\"]]}],\"surface\":[{\"type\":\"surface\",\"colorbar\":{\"outlinewidth\":0,\"ticks\":\"\"},\"colorscale\":[[0.0,\"#0d0887\"],[0.1111111111111111,\"#46039f\"],[0.2222222222222222,\"#7201a8\"],[0.3333333333333333,\"#9c179e\"],[0.4444444444444444,\"#bd3786\"],[0.5555555555555556,\"#d8576b\"],[0.6666666666666666,\"#ed7953\"],[0.7777777777777778,\"#fb9f3a\"],[0.8888888888888888,\"#fdca26\"],[1.0,\"#f0f921\"]]}],\"mesh3d\":[{\"type\":\"mesh3d\",\"colorbar\":{\"outlinewidth\":0,\"ticks\":\"\"}}],\"scatter\":[{\"fillpattern\":{\"fillmode\":\"overlay\",\"size\":10,\"solidity\":0.2},\"type\":\"scatter\"}],\"parcoords\":[{\"type\":\"parcoords\",\"line\":{\"colorbar\":{\"outlinewidth\":0,\"ticks\":\"\"}}}],\"scatterpolargl\":[{\"type\":\"scatterpolargl\",\"marker\":{\"colorbar\":{\"outlinewidth\":0,\"ticks\":\"\"}}}],\"bar\":[{\"error_x\":{\"color\":\"#2a3f5f\"},\"error_y\":{\"color\":\"#2a3f5f\"},\"marker\":{\"line\":{\"color\":\"#E5ECF6\",\"width\":0.5},\"pattern\":{\"fillmode\":\"overlay\",\"size\":10,\"solidity\":0.2}},\"type\":\"bar\"}],\"scattergeo\":[{\"type\":\"scattergeo\",\"marker\":{\"colorbar\":{\"outlinewidth\":0,\"ticks\":\"\"}}}],\"scatterpolar\":[{\"type\":\"scatterpolar\",\"marker\":{\"colorbar\":{\"outlinewidth\":0,\"ticks\":\"\"}}}],\"histogram\":[{\"marker\":{\"pattern\":{\"fillmode\":\"overlay\",\"size\":10,\"solidity\":0.2}},\"type\":\"histogram\"}],\"scattergl\":[{\"type\":\"scattergl\",\"marker\":{\"colorbar\":{\"outlinewidth\":0,\"ticks\":\"\"}}}],\"scatter3d\":[{\"type\":\"scatter3d\",\"line\":{\"colorbar\":{\"outlinewidth\":0,\"ticks\":\"\"}},\"marker\":{\"colorbar\":{\"outlinewidth\":0,\"ticks\":\"\"}}}],\"scattermap\":[{\"type\":\"scattermap\",\"marker\":{\"colorbar\":{\"outlinewidth\":0,\"ticks\":\"\"}}}],\"scattermapbox\":[{\"type\":\"scattermapbox\",\"marker\":{\"colorbar\":{\"outlinewidth\":0,\"ticks\":\"\"}}}],\"scatterternary\":[{\"type\":\"scatterternary\",\"marker\":{\"colorbar\":{\"outlinewidth\":0,\"ticks\":\"\"}}}],\"scattercarpet\":[{\"type\":\"scattercarpet\",\"marker\":{\"colorbar\":{\"outlinewidth\":0,\"ticks\":\"\"}}}],\"carpet\":[{\"aaxis\":{\"endlinecolor\":\"#2a3f5f\",\"gridcolor\":\"white\",\"linecolor\":\"white\",\"minorgridcolor\":\"white\",\"startlinecolor\":\"#2a3f5f\"},\"baxis\":{\"endlinecolor\":\"#2a3f5f\",\"gridcolor\":\"white\",\"linecolor\":\"white\",\"minorgridcolor\":\"white\",\"startlinecolor\":\"#2a3f5f\"},\"type\":\"carpet\"}],\"table\":[{\"cells\":{\"fill\":{\"color\":\"#EBF0F8\"},\"line\":{\"color\":\"white\"}},\"header\":{\"fill\":{\"color\":\"#C8D4E3\"},\"line\":{\"color\":\"white\"}},\"type\":\"table\"}],\"barpolar\":[{\"marker\":{\"line\":{\"color\":\"#E5ECF6\",\"width\":0.5},\"pattern\":{\"fillmode\":\"overlay\",\"size\":10,\"solidity\":0.2}},\"type\":\"barpolar\"}],\"pie\":[{\"automargin\":true,\"type\":\"pie\"}]},\"layout\":{\"autotypenumbers\":\"strict\",\"colorway\":[\"#636efa\",\"#EF553B\",\"#00cc96\",\"#ab63fa\",\"#FFA15A\",\"#19d3f3\",\"#FF6692\",\"#B6E880\",\"#FF97FF\",\"#FECB52\"],\"font\":{\"color\":\"#2a3f5f\"},\"hovermode\":\"closest\",\"hoverlabel\":{\"align\":\"left\"},\"paper_bgcolor\":\"white\",\"plot_bgcolor\":\"#E5ECF6\",\"polar\":{\"bgcolor\":\"#E5ECF6\",\"angularaxis\":{\"gridcolor\":\"white\",\"linecolor\":\"white\",\"ticks\":\"\"},\"radialaxis\":{\"gridcolor\":\"white\",\"linecolor\":\"white\",\"ticks\":\"\"}},\"ternary\":{\"bgcolor\":\"#E5ECF6\",\"aaxis\":{\"gridcolor\":\"white\",\"linecolor\":\"white\",\"ticks\":\"\"},\"baxis\":{\"gridcolor\":\"white\",\"linecolor\":\"white\",\"ticks\":\"\"},\"caxis\":{\"gridcolor\":\"white\",\"linecolor\":\"white\",\"ticks\":\"\"}},\"coloraxis\":{\"colorbar\":{\"outlinewidth\":0,\"ticks\":\"\"}},\"colorscale\":{\"sequential\":[[0.0,\"#0d0887\"],[0.1111111111111111,\"#46039f\"],[0.2222222222222222,\"#7201a8\"],[0.3333333333333333,\"#9c179e\"],[0.4444444444444444,\"#bd3786\"],[0.5555555555555556,\"#d8576b\"],[0.6666666666666666,\"#ed7953\"],[0.7777777777777778,\"#fb9f3a\"],[0.8888888888888888,\"#fdca26\"],[1.0,\"#f0f921\"]],\"sequentialminus\":[[0.0,\"#0d0887\"],[0.1111111111111111,\"#46039f\"],[0.2222222222222222,\"#7201a8\"],[0.3333333333333333,\"#9c179e\"],[0.4444444444444444,\"#bd3786\"],[0.5555555555555556,\"#d8576b\"],[0.6666666666666666,\"#ed7953\"],[0.7777777777777778,\"#fb9f3a\"],[0.8888888888888888,\"#fdca26\"],[1.0,\"#f0f921\"]],\"diverging\":[[0,\"#8e0152\"],[0.1,\"#c51b7d\"],[0.2,\"#de77ae\"],[0.3,\"#f1b6da\"],[0.4,\"#fde0ef\"],[0.5,\"#f7f7f7\"],[0.6,\"#e6f5d0\"],[0.7,\"#b8e186\"],[0.8,\"#7fbc41\"],[0.9,\"#4d9221\"],[1,\"#276419\"]]},\"xaxis\":{\"gridcolor\":\"white\",\"linecolor\":\"white\",\"ticks\":\"\",\"title\":{\"standoff\":15},\"zerolinecolor\":\"white\",\"automargin\":true,\"zerolinewidth\":2},\"yaxis\":{\"gridcolor\":\"white\",\"linecolor\":\"white\",\"ticks\":\"\",\"title\":{\"standoff\":15},\"zerolinecolor\":\"white\",\"automargin\":true,\"zerolinewidth\":2},\"scene\":{\"xaxis\":{\"backgroundcolor\":\"#E5ECF6\",\"gridcolor\":\"white\",\"linecolor\":\"white\",\"showbackground\":true,\"ticks\":\"\",\"zerolinecolor\":\"white\",\"gridwidth\":2},\"yaxis\":{\"backgroundcolor\":\"#E5ECF6\",\"gridcolor\":\"white\",\"linecolor\":\"white\",\"showbackground\":true,\"ticks\":\"\",\"zerolinecolor\":\"white\",\"gridwidth\":2},\"zaxis\":{\"backgroundcolor\":\"#E5ECF6\",\"gridcolor\":\"white\",\"linecolor\":\"white\",\"showbackground\":true,\"ticks\":\"\",\"zerolinecolor\":\"white\",\"gridwidth\":2}},\"shapedefaults\":{\"line\":{\"color\":\"#2a3f5f\"}},\"annotationdefaults\":{\"arrowcolor\":\"#2a3f5f\",\"arrowhead\":0,\"arrowwidth\":1},\"geo\":{\"bgcolor\":\"white\",\"landcolor\":\"#E5ECF6\",\"subunitcolor\":\"white\",\"showland\":true,\"showlakes\":true,\"lakecolor\":\"white\"},\"title\":{\"x\":0.05},\"mapbox\":{\"style\":\"light\"}}},\"legend\":{\"tracegroupgap\":0},\"title\":{\"text\":\"Bookings by Market Segment\"}},                        {\"responsive\": true}                    ).then(function(){\n",
       "                            \n",
       "var gd = document.getElementById('730b0915-f87a-4e03-bcf4-47487441b975');\n",
       "var x = new MutationObserver(function (mutations, observer) {{\n",
       "        var display = window.getComputedStyle(gd).display;\n",
       "        if (!display || display === 'none') {{\n",
       "            console.log([gd, 'removed!']);\n",
       "            Plotly.purge(gd);\n",
       "            observer.disconnect();\n",
       "        }}\n",
       "}});\n",
       "\n",
       "// Listen for the removal of the full notebook cells\n",
       "var notebookContainer = gd.closest('#notebook-container');\n",
       "if (notebookContainer) {{\n",
       "    x.observe(notebookContainer, {childList: true});\n",
       "}}\n",
       "\n",
       "// Listen for the clearing of the current output cell\n",
       "var outputEl = gd.closest('.output');\n",
       "if (outputEl) {{\n",
       "    x.observe(outputEl, {childList: true});\n",
       "}}\n",
       "\n",
       "                        })                };            </script>        </div>"
      ]
     },
     "metadata": {},
     "output_type": "display_data"
    },
    {
     "data": {
      "text/plain": [
       "<Figure size 2000x1000 with 0 Axes>"
      ]
     },
     "metadata": {},
     "output_type": "display_data"
    }
   ],
   "source": [
    "plt.figure(figsize=(20,10))\n",
    "px.pie(data_frame = None,\n",
    "      names=market_seg_names,\n",
    "      values=market_seg_values,\n",
    "      title='Bookings by Market Segment')"
   ]
  },
  {
   "cell_type": "code",
   "execution_count": 35,
   "id": "1f6e727e-6308-409b-a401-73c5671644f9",
   "metadata": {},
   "outputs": [],
   "source": [
    "# QUESTION: Avg Daily Rate (ADR) by room type for all the market segments"
   ]
  },
  {
   "cell_type": "code",
   "execution_count": 40,
   "id": "837f7bf2-8295-4254-8287-b0174a991f43",
   "metadata": {},
   "outputs": [
    {
     "data": {
      "text/plain": [
       "<Axes: xlabel='market_segment', ylabel='adr'>"
      ]
     },
     "execution_count": 40,
     "metadata": {},
     "output_type": "execute_result"
    },
    {
     "data": {
      "image/png": "[encoded data removed]",
      "text/plain": [
       "<Figure size 2000x1000 with 1 Axes>"
      ]
     },
     "metadata": {},
     "output_type": "display_data"
    }
   ],
   "source": [
    "plt.figure(figsize=(20,10))\n",
    "sns.barplot(data=not_cancelled_df, \n",
    "            x='market_segment',\n",
    "            y='adr',\n",
    "            hue='reserved_room_type',\n",
    "            # to remove the confidence intervale line\n",
    "            errorbar=None)"
   ]
  },
  {
   "cell_type": "code",
   "execution_count": 41,
   "id": "94dfb7b3-a63f-42b2-b07d-d0f1a13154a9",
   "metadata": {},
   "outputs": [],
   "source": [
    "#QUESTION: Total guests arrival per day"
   ]
  },
  {
   "cell_type": "code",
   "execution_count": 42,
   "id": "b3868e77-5bc0-4bb8-88e8-639d32ab7132",
   "metadata": {},
   "outputs": [],
   "source": [
    "#transforming the months names into values (eg: Jan = 1, Feb = 2, etc)"
   ]
  },
  {
   "cell_type": "code",
   "execution_count": 44,
   "id": "f25a5c1f-d3b1-46cc-8d45-0136ded52370",
   "metadata": {},
   "outputs": [],
   "source": [
    "dict_month = {\n",
    "    \"January\": 1,\n",
    "    \"February\": 2,\n",
    "    \"March\": 3,\n",
    "    \"April\": 4,\n",
    "    \"May\": 5,\n",
    "    \"June\": 6,\n",
    "    \"July\": 7,\n",
    "    \"August\": 8,\n",
    "    \"September\": 9,\n",
    "    \"October\": 10,\n",
    "    \"November\": 11,\n",
    "    \"December\": 12\n",
    "}"
   ]
  },
  {
   "cell_type": "code",
   "execution_count": 46,
   "id": "17cfb345-15e7-4e6a-b62d-3f00a20f9be8",
   "metadata": {},
   "outputs": [
    {
     "name": "stderr",
     "output_type": "stream",
     "text": [
      "C:\\Users\\ruben\\AppData\\Local\\Temp\\ipykernel_18948\\2650402882.py:1: SettingWithCopyWarning:\n",
      "\n",
      "\n",
      "A value is trying to be set on a copy of a slice from a DataFrame.\n",
      "Try using .loc[row_indexer,col_indexer] = value instead\n",
      "\n",
      "See the caveats in the documentation: https://pandas.pydata.org/pandas-docs/stable/user_guide/indexing.html#returning-a-view-versus-a-copy\n",
      "\n"
     ]
    }
   ],
   "source": [
    "not_cancelled_df['arrival_date_month_index'] = not_cancelled_df['arrival_date_month'].map(dict_month)"
   ]
  },
  {
   "cell_type": "code",
   "execution_count": 47,
   "id": "26642b72-fcbd-48c4-80c5-06cd1ab78b55",
   "metadata": {},
   "outputs": [],
   "source": [
    "# concatenating year, month, day to get eg: 2017-7-01"
   ]
  },
  {
   "cell_type": "code",
   "execution_count": 48,
   "id": "13256230-2f49-4c8e-8f17-b13870a040f7",
   "metadata": {},
   "outputs": [
    {
     "name": "stderr",
     "output_type": "stream",
     "text": [
      "C:\\Users\\ruben\\AppData\\Local\\Temp\\ipykernel_18948\\3908324938.py:1: SettingWithCopyWarning:\n",
      "\n",
      "\n",
      "A value is trying to be set on a copy of a slice from a DataFrame.\n",
      "Try using .loc[row_indexer,col_indexer] = value instead\n",
      "\n",
      "See the caveats in the documentation: https://pandas.pydata.org/pandas-docs/stable/user_guide/indexing.html#returning-a-view-versus-a-copy\n",
      "\n"
     ]
    }
   ],
   "source": [
    "not_cancelled_df['arrival_date'] = not_cancelled_df['arrival_date_year'].astype(str) + '-' + not_cancelled_df['arrival_date_month_index'].astype(str) + '-' + not_cancelled_df['arrival_date_day_of_month'].astype(str)"
   ]
  },
  {
   "cell_type": "code",
   "execution_count": 50,
   "id": "b05115a5-7aab-4c13-999f-41cc25b71075",
   "metadata": {},
   "outputs": [
    {
     "data": {
      "text/html": [
       "<div>\n",
       "<style scoped>\n",
       "    .dataframe tbody tr th:only-of-type {\n",
       "        vertical-align: middle;\n",
       "    }\n",
       "\n",
       "    .dataframe tbody tr th {\n",
       "        vertical-align: top;\n",
       "    }\n",
       "\n",
       "    .dataframe thead th {\n",
       "        text-align: right;\n",
       "    }\n",
       "</style>\n",
       "<table border=\"1\" class=\"dataframe\">\n",
       "  <thead>\n",
       "    <tr style=\"text-align: right;\">\n",
       "      <th></th>\n",
       "      <th>hotel</th>\n",
       "      <th>is_canceled</th>\n",
       "      <th>lead_time</th>\n",
       "      <th>arrival_date_year</th>\n",
       "      <th>arrival_date_month</th>\n",
       "      <th>arrival_date_week_number</th>\n",
       "      <th>arrival_date_day_of_month</th>\n",
       "      <th>stays_in_weekend_nights</th>\n",
       "      <th>stays_in_week_nights</th>\n",
       "      <th>adults</th>\n",
       "      <th>...</th>\n",
       "      <th>company</th>\n",
       "      <th>days_in_waiting_list</th>\n",
       "      <th>customer_type</th>\n",
       "      <th>adr</th>\n",
       "      <th>required_car_parking_spaces</th>\n",
       "      <th>total_of_special_requests</th>\n",
       "      <th>reservation_status</th>\n",
       "      <th>reservation_status_date</th>\n",
       "      <th>arrival_date_month_index</th>\n",
       "      <th>arrival_date</th>\n",
       "    </tr>\n",
       "  </thead>\n",
       "  <tbody>\n",
       "    <tr>\n",
       "      <th>0</th>\n",
       "      <td>Resort Hotel</td>\n",
       "      <td>0</td>\n",
       "      <td>342</td>\n",
       "      <td>2015</td>\n",
       "      <td>July</td>\n",
       "      <td>27</td>\n",
       "      <td>1</td>\n",
       "      <td>0</td>\n",
       "      <td>0</td>\n",
       "      <td>2</td>\n",
       "      <td>...</td>\n",
       "      <td>NaN</td>\n",
       "      <td>0</td>\n",
       "      <td>Transient</td>\n",
       "      <td>0.0</td>\n",
       "      <td>0</td>\n",
       "      <td>0</td>\n",
       "      <td>Check-Out</td>\n",
       "      <td>7/1/2015</td>\n",
       "      <td>7</td>\n",
       "      <td>2015-7-1</td>\n",
       "    </tr>\n",
       "    <tr>\n",
       "      <th>1</th>\n",
       "      <td>Resort Hotel</td>\n",
       "      <td>0</td>\n",
       "      <td>737</td>\n",
       "      <td>2015</td>\n",
       "      <td>July</td>\n",
       "      <td>27</td>\n",
       "      <td>1</td>\n",
       "      <td>0</td>\n",
       "      <td>0</td>\n",
       "      <td>2</td>\n",
       "      <td>...</td>\n",
       "      <td>NaN</td>\n",
       "      <td>0</td>\n",
       "      <td>Transient</td>\n",
       "      <td>0.0</td>\n",
       "      <td>0</td>\n",
       "      <td>0</td>\n",
       "      <td>Check-Out</td>\n",
       "      <td>7/1/2015</td>\n",
       "      <td>7</td>\n",
       "      <td>2015-7-1</td>\n",
       "    </tr>\n",
       "    <tr>\n",
       "      <th>2</th>\n",
       "      <td>Resort Hotel</td>\n",
       "      <td>0</td>\n",
       "      <td>7</td>\n",
       "      <td>2015</td>\n",
       "      <td>July</td>\n",
       "      <td>27</td>\n",
       "      <td>1</td>\n",
       "      <td>0</td>\n",
       "      <td>1</td>\n",
       "      <td>1</td>\n",
       "      <td>...</td>\n",
       "      <td>NaN</td>\n",
       "      <td>0</td>\n",
       "      <td>Transient</td>\n",
       "      <td>75.0</td>\n",
       "      <td>0</td>\n",
       "      <td>0</td>\n",
       "      <td>Check-Out</td>\n",
       "      <td>7/2/2015</td>\n",
       "      <td>7</td>\n",
       "      <td>2015-7-1</td>\n",
       "    </tr>\n",
       "  </tbody>\n",
       "</table>\n",
       "<p>3 rows × 34 columns</p>\n",
       "</div>"
      ],
      "text/plain": [
       "          hotel  is_canceled  lead_time  arrival_date_year arrival_date_month  \\\n",
       "0  Resort Hotel            0        342               2015               July   \n",
       "1  Resort Hotel            0        737               2015               July   \n",
       "2  Resort Hotel            0          7               2015               July   \n",
       "\n",
       "   arrival_date_week_number  arrival_date_day_of_month  \\\n",
       "0                        27                          1   \n",
       "1                        27                          1   \n",
       "2                        27                          1   \n",
       "\n",
       "   stays_in_weekend_nights  stays_in_week_nights  adults  ...  company  \\\n",
       "0                        0                     0       2  ...      NaN   \n",
       "1                        0                     0       2  ...      NaN   \n",
       "2                        0                     1       1  ...      NaN   \n",
       "\n",
       "   days_in_waiting_list customer_type   adr required_car_parking_spaces  \\\n",
       "0                     0     Transient   0.0                           0   \n",
       "1                     0     Transient   0.0                           0   \n",
       "2                     0     Transient  75.0                           0   \n",
       "\n",
       "  total_of_special_requests  reservation_status  reservation_status_date  \\\n",
       "0                         0           Check-Out                 7/1/2015   \n",
       "1                         0           Check-Out                 7/1/2015   \n",
       "2                         0           Check-Out                 7/2/2015   \n",
       "\n",
       "   arrival_date_month_index arrival_date  \n",
       "0                         7     2015-7-1  \n",
       "1                         7     2015-7-1  \n",
       "2                         7     2015-7-1  \n",
       "\n",
       "[3 rows x 34 columns]"
      ]
     },
     "execution_count": 50,
     "metadata": {},
     "output_type": "execute_result"
    }
   ],
   "source": [
    "not_cancelled_df.head(3)"
   ]
  },
  {
   "cell_type": "code",
   "execution_count": 51,
   "id": "0bd10d75-559f-4317-9a8c-c077371162d0",
   "metadata": {},
   "outputs": [],
   "source": [
    "# aggregating adults, children and babies into one single column total_guests"
   ]
  },
  {
   "cell_type": "code",
   "execution_count": 52,
   "id": "0108eed6-94c0-456e-85f4-feda598f30f0",
   "metadata": {},
   "outputs": [
    {
     "name": "stderr",
     "output_type": "stream",
     "text": [
      "C:\\Users\\ruben\\AppData\\Local\\Temp\\ipykernel_18948\\2609917929.py:1: SettingWithCopyWarning:\n",
      "\n",
      "\n",
      "A value is trying to be set on a copy of a slice from a DataFrame.\n",
      "Try using .loc[row_indexer,col_indexer] = value instead\n",
      "\n",
      "See the caveats in the documentation: https://pandas.pydata.org/pandas-docs/stable/user_guide/indexing.html#returning-a-view-versus-a-copy\n",
      "\n"
     ]
    }
   ],
   "source": [
    "not_cancelled_df['total_guest'] = not_cancelled_df['adults'] + not_cancelled_df['children'] + not_cancelled_df['babies']"
   ]
  },
  {
   "cell_type": "code",
   "execution_count": 54,
   "id": "3adb7423-7e54-4d1c-82e8-30791ef68aa9",
   "metadata": {},
   "outputs": [
    {
     "data": {
      "text/html": [
       "<div>\n",
       "<style scoped>\n",
       "    .dataframe tbody tr th:only-of-type {\n",
       "        vertical-align: middle;\n",
       "    }\n",
       "\n",
       "    .dataframe tbody tr th {\n",
       "        vertical-align: top;\n",
       "    }\n",
       "\n",
       "    .dataframe thead th {\n",
       "        text-align: right;\n",
       "    }\n",
       "</style>\n",
       "<table border=\"1\" class=\"dataframe\">\n",
       "  <thead>\n",
       "    <tr style=\"text-align: right;\">\n",
       "      <th></th>\n",
       "      <th>arrival_date</th>\n",
       "      <th>total_guest</th>\n",
       "    </tr>\n",
       "  </thead>\n",
       "  <tbody>\n",
       "    <tr>\n",
       "      <th>0</th>\n",
       "      <td>2015-7-1</td>\n",
       "      <td>2.0</td>\n",
       "    </tr>\n",
       "    <tr>\n",
       "      <th>1</th>\n",
       "      <td>2015-7-1</td>\n",
       "      <td>2.0</td>\n",
       "    </tr>\n",
       "    <tr>\n",
       "      <th>2</th>\n",
       "      <td>2015-7-1</td>\n",
       "      <td>1.0</td>\n",
       "    </tr>\n",
       "    <tr>\n",
       "      <th>3</th>\n",
       "      <td>2015-7-1</td>\n",
       "      <td>1.0</td>\n",
       "    </tr>\n",
       "    <tr>\n",
       "      <th>4</th>\n",
       "      <td>2015-7-1</td>\n",
       "      <td>2.0</td>\n",
       "    </tr>\n",
       "    <tr>\n",
       "      <th>...</th>\n",
       "      <td>...</td>\n",
       "      <td>...</td>\n",
       "    </tr>\n",
       "    <tr>\n",
       "      <th>119385</th>\n",
       "      <td>2017-8-30</td>\n",
       "      <td>2.0</td>\n",
       "    </tr>\n",
       "    <tr>\n",
       "      <th>119386</th>\n",
       "      <td>2017-8-31</td>\n",
       "      <td>3.0</td>\n",
       "    </tr>\n",
       "    <tr>\n",
       "      <th>119387</th>\n",
       "      <td>2017-8-31</td>\n",
       "      <td>2.0</td>\n",
       "    </tr>\n",
       "    <tr>\n",
       "      <th>119388</th>\n",
       "      <td>2017-8-31</td>\n",
       "      <td>2.0</td>\n",
       "    </tr>\n",
       "    <tr>\n",
       "      <th>119389</th>\n",
       "      <td>2017-8-29</td>\n",
       "      <td>2.0</td>\n",
       "    </tr>\n",
       "  </tbody>\n",
       "</table>\n",
       "<p>63221 rows × 2 columns</p>\n",
       "</div>"
      ],
      "text/plain": [
       "       arrival_date  total_guest\n",
       "0          2015-7-1          2.0\n",
       "1          2015-7-1          2.0\n",
       "2          2015-7-1          1.0\n",
       "3          2015-7-1          1.0\n",
       "4          2015-7-1          2.0\n",
       "...             ...          ...\n",
       "119385    2017-8-30          2.0\n",
       "119386    2017-8-31          3.0\n",
       "119387    2017-8-31          2.0\n",
       "119388    2017-8-31          2.0\n",
       "119389    2017-8-29          2.0\n",
       "\n",
       "[63221 rows x 2 columns]"
      ]
     },
     "execution_count": 54,
     "metadata": {},
     "output_type": "execute_result"
    }
   ],
   "source": [
    "not_cancelled_df[['arrival_date', 'total_guest']]"
   ]
  },
  {
   "cell_type": "code",
   "execution_count": 55,
   "id": "bd7f68bf-8d51-4590-aa21-96adf3a2c80f",
   "metadata": {},
   "outputs": [],
   "source": [
    "# sum the total_guest per day"
   ]
  },
  {
   "cell_type": "code",
   "execution_count": 57,
   "id": "dd6a5d5b-61d8-4a01-a297-e5aedee0bf42",
   "metadata": {},
   "outputs": [
    {
     "data": {
      "text/plain": [
       "arrival_date\n",
       "2015-10-1     149.0\n",
       "2015-10-10    167.0\n",
       "2015-10-11    123.0\n",
       "2015-10-12    186.0\n",
       "2015-10-13    115.0\n",
       "              ...  \n",
       "2017-8-5      205.0\n",
       "2017-8-6      199.0\n",
       "2017-8-7      287.0\n",
       "2017-8-8      191.0\n",
       "2017-8-9      185.0\n",
       "Name: total_guest, Length: 793, dtype: float64"
      ]
     },
     "execution_count": 57,
     "metadata": {},
     "output_type": "execute_result"
    }
   ],
   "source": [
    "not_cancelled_df.groupby(['arrival_date'])['total_guest'].sum()"
   ]
  },
  {
   "cell_type": "code",
   "execution_count": 58,
   "id": "f9376f90-ec0d-422a-8b68-bb22c56a7dcc",
   "metadata": {},
   "outputs": [],
   "source": [
    "# converting the series to df"
   ]
  },
  {
   "cell_type": "code",
   "execution_count": 66,
   "id": "3bc1de3f-5101-4455-9885-e6e07c5b0b0d",
   "metadata": {},
   "outputs": [
    {
     "data": {
      "text/plain": [
       "arrival_date\n",
       "2015-10-1     149.0\n",
       "2015-10-10    167.0\n",
       "2015-10-11    123.0\n",
       "2015-10-12    186.0\n",
       "2015-10-13    115.0\n",
       "              ...  \n",
       "2017-8-5      205.0\n",
       "2017-8-6      199.0\n",
       "2017-8-7      287.0\n",
       "2017-8-8      191.0\n",
       "2017-8-9      185.0\n",
       "Name: total_guest, Length: 793, dtype: float64"
      ]
     },
     "execution_count": 66,
     "metadata": {},
     "output_type": "execute_result"
    }
   ],
   "source": [
    "sum_guests_per_day = pd.Series(not_cancelled_df.groupby(['arrival_date'])['total_guest'].sum())\n",
    "sum_guests_per_day"
   ]
  },
  {
   "cell_type": "code",
   "execution_count": 60,
   "id": "caf85dc7-0315-4faa-84e4-44d94edfbb21",
   "metadata": {},
   "outputs": [],
   "source": [
    "# converting the index to datetime type"
   ]
  },
  {
   "cell_type": "code",
   "execution_count": 67,
   "id": "85a406e7-4fb9-4c47-b4a8-a822eba106e2",
   "metadata": {},
   "outputs": [
    {
     "data": {
      "text/plain": [
       "arrival_date\n",
       "2015-10-01    149.0\n",
       "2015-10-10    167.0\n",
       "2015-10-11    123.0\n",
       "2015-10-12    186.0\n",
       "2015-10-13    115.0\n",
       "              ...  \n",
       "2017-08-05    205.0\n",
       "2017-08-06    199.0\n",
       "2017-08-07    287.0\n",
       "2017-08-08    191.0\n",
       "2017-08-09    185.0\n",
       "Name: total_guest, Length: 793, dtype: float64"
      ]
     },
     "execution_count": 67,
     "metadata": {},
     "output_type": "execute_result"
    }
   ],
   "source": [
    "sum_guests_per_day.index = pd.to_datetime(sum_guests_per_day.index)\n",
    "sum_guests_per_day"
   ]
  },
  {
   "cell_type": "code",
   "execution_count": 62,
   "id": "94880ef2-9645-4a0a-a7bf-d422a08b3d78",
   "metadata": {},
   "outputs": [],
   "source": [
    "# reset index to use it as column in the df"
   ]
  },
  {
   "cell_type": "code",
   "execution_count": 68,
   "id": "cc84fb83-ff6c-40bb-a4b8-2c508e4c0b1b",
   "metadata": {},
   "outputs": [
    {
     "data": {
      "text/html": [
       "<div>\n",
       "<style scoped>\n",
       "    .dataframe tbody tr th:only-of-type {\n",
       "        vertical-align: middle;\n",
       "    }\n",
       "\n",
       "    .dataframe tbody tr th {\n",
       "        vertical-align: top;\n",
       "    }\n",
       "\n",
       "    .dataframe thead th {\n",
       "        text-align: right;\n",
       "    }\n",
       "</style>\n",
       "<table border=\"1\" class=\"dataframe\">\n",
       "  <thead>\n",
       "    <tr style=\"text-align: right;\">\n",
       "      <th></th>\n",
       "      <th>arrival_date</th>\n",
       "      <th>guests</th>\n",
       "    </tr>\n",
       "  </thead>\n",
       "  <tbody>\n",
       "    <tr>\n",
       "      <th>0</th>\n",
       "      <td>2015-10-01</td>\n",
       "      <td>149.0</td>\n",
       "    </tr>\n",
       "    <tr>\n",
       "      <th>1</th>\n",
       "      <td>2015-10-10</td>\n",
       "      <td>167.0</td>\n",
       "    </tr>\n",
       "    <tr>\n",
       "      <th>2</th>\n",
       "      <td>2015-10-11</td>\n",
       "      <td>123.0</td>\n",
       "    </tr>\n",
       "    <tr>\n",
       "      <th>3</th>\n",
       "      <td>2015-10-12</td>\n",
       "      <td>186.0</td>\n",
       "    </tr>\n",
       "    <tr>\n",
       "      <th>4</th>\n",
       "      <td>2015-10-13</td>\n",
       "      <td>115.0</td>\n",
       "    </tr>\n",
       "    <tr>\n",
       "      <th>...</th>\n",
       "      <td>...</td>\n",
       "      <td>...</td>\n",
       "    </tr>\n",
       "    <tr>\n",
       "      <th>788</th>\n",
       "      <td>2017-08-05</td>\n",
       "      <td>205.0</td>\n",
       "    </tr>\n",
       "    <tr>\n",
       "      <th>789</th>\n",
       "      <td>2017-08-06</td>\n",
       "      <td>199.0</td>\n",
       "    </tr>\n",
       "    <tr>\n",
       "      <th>790</th>\n",
       "      <td>2017-08-07</td>\n",
       "      <td>287.0</td>\n",
       "    </tr>\n",
       "    <tr>\n",
       "      <th>791</th>\n",
       "      <td>2017-08-08</td>\n",
       "      <td>191.0</td>\n",
       "    </tr>\n",
       "    <tr>\n",
       "      <th>792</th>\n",
       "      <td>2017-08-09</td>\n",
       "      <td>185.0</td>\n",
       "    </tr>\n",
       "  </tbody>\n",
       "</table>\n",
       "<p>793 rows × 2 columns</p>\n",
       "</div>"
      ],
      "text/plain": [
       "    arrival_date  guests\n",
       "0     2015-10-01   149.0\n",
       "1     2015-10-10   167.0\n",
       "2     2015-10-11   123.0\n",
       "3     2015-10-12   186.0\n",
       "4     2015-10-13   115.0\n",
       "..           ...     ...\n",
       "788   2017-08-05   205.0\n",
       "789   2017-08-06   199.0\n",
       "790   2017-08-07   287.0\n",
       "791   2017-08-08   191.0\n",
       "792   2017-08-09   185.0\n",
       "\n",
       "[793 rows x 2 columns]"
      ]
     },
     "execution_count": 68,
     "metadata": {},
     "output_type": "execute_result"
    }
   ],
   "source": [
    "sum_guests_per_day = sum_guests_per_day.reset_index()\n",
    "sum_guests_per_day.columns = ['arrival_date', 'guests']\n",
    "sum_guests_per_day"
   ]
  },
  {
   "cell_type": "code",
   "execution_count": 69,
   "id": "44e3df51-cd06-4e94-b827-e4d4fc6dfefd",
   "metadata": {},
   "outputs": [],
   "source": [
    "# sort the df by arrival_date"
   ]
  },
  {
   "cell_type": "code",
   "execution_count": 70,
   "id": "e909440b-30f5-4ec6-91c4-f29dd8c0af22",
   "metadata": {},
   "outputs": [],
   "source": [
    "sum_guests_per_day = sum_guests_per_day.sort_values(by='arrival_date')"
   ]
  },
  {
   "cell_type": "code",
   "execution_count": 71,
   "id": "b45b8e21-75ee-4044-83c4-524a6c56a0c4",
   "metadata": {},
   "outputs": [
    {
     "data": {
      "application/vnd.plotly.v1+json": {
       "config": {
        "plotlyServerURL": "https://plot.ly"
       },
       "data": [
        {
         "hovertemplate": "arrival_date=%{x}<br>guests=%{y}<extra></extra>",
         "legendgroup": "",
         "line": {
          "color": "#636efa",
          "dash": "solid"
         },
         "marker": {
          "symbol": "circle"
         },
         "mode": "lines",
         "name": "",
         "orientation": "v",
         "showlegend": false,
         "type": "scatter",
         "x": [
          "2015-07-01T00:00:00.000000000",
          "2015-07-02T00:00:00.000000000",
          "2015-07-03T00:00:00.000000000",
          "2015-07-04T00:00:00.000000000",
          "2015-07-05T00:00:00.000000000",
          "2015-07-06T00:00:00.000000000",
          "2015-07-07T00:00:00.000000000",
          "2015-07-08T00:00:00.000000000",
          "2015-07-09T00:00:00.000000000",
          "2015-07-10T00:00:00.000000000",
          "2015-07-11T00:00:00.000000000",
          "2015-07-12T00:00:00.000000000",
          "2015-07-13T00:00:00.000000000",
          "2015-07-14T00:00:00.000000000",
          "2015-07-15T00:00:00.000000000",
          "2015-07-16T00:00:00.000000000",
          "2015-07-17T00:00:00.000000000",
          "2015-07-18T00:00:00.000000000",
          "2015-07-19T00:00:00.000000000",
          "2015-07-20T00:00:00.000000000",
          "2015-07-21T00:00:00.000000000",
          "2015-07-22T00:00:00.000000000",
          "2015-07-23T00:00:00.000000000",
          "2015-07-24T00:00:00.000000000",
          "2015-07-25T00:00:00.000000000",
          "2015-07-26T00:00:00.000000000",
          "2015-07-27T00:00:00.000000000",
          "2015-07-28T00:00:00.000000000",
          "2015-07-29T00:00:00.000000000",
          "2015-07-30T00:00:00.000000000",
          "2015-07-31T00:00:00.000000000",
          "2015-08-01T00:00:00.000000000",
          "2015-08-02T00:00:00.000000000",
          "2015-08-03T00:00:00.000000000",
          "2015-08-04T00:00:00.000000000",
          "2015-08-05T00:00:00.000000000",
          "2015-08-06T00:00:00.000000000",
          "2015-08-07T00:00:00.000000000",
          "2015-08-08T00:00:00.000000000",
          "2015-08-09T00:00:00.000000000",
          "2015-08-10T00:00:00.000000000",
          "2015-08-11T00:00:00.000000000",
          "2015-08-12T00:00:00.000000000",
          "2015-08-13T00:00:00.000000000",
          "2015-08-14T00:00:00.000000000",
          "2015-08-15T00:00:00.000000000",
          "2015-08-16T00:00:00.000000000",
          "2015-08-17T00:00:00.000000000",
          "2015-08-18T00:00:00.000000000",
          "2015-08-19T00:00:00.000000000",
          "2015-08-20T00:00:00.000000000",
          "2015-08-21T00:00:00.000000000",
          "2015-08-22T00:00:00.000000000",
          "2015-08-23T00:00:00.000000000",
          "2015-08-24T00:00:00.000000000",
          "2015-08-25T00:00:00.000000000",
          "2015-08-26T00:00:00.000000000",
          "2015-08-27T00:00:00.000000000",
          "2015-08-28T00:00:00.000000000",
          "2015-08-29T00:00:00.000000000",
          "2015-08-30T00:00:00.000000000",
          "2015-08-31T00:00:00.000000000",
          "2015-09-01T00:00:00.000000000",
          "2015-09-02T00:00:00.000000000",
          "2015-09-03T00:00:00.000000000",
          "2015-09-04T00:00:00.000000000",
          "2015-09-05T00:00:00.000000000",
          "2015-09-06T00:00:00.000000000",
          "2015-09-07T00:00:00.000000000",
          "2015-09-08T00:00:00.000000000",
          "2015-09-09T00:00:00.000000000",
          "2015-09-10T00:00:00.000000000",
          "2015-09-11T00:00:00.000000000",
          "2015-09-12T00:00:00.000000000",
          "2015-09-13T00:00:00.000000000",
          "2015-09-14T00:00:00.000000000",
          "2015-09-15T00:00:00.000000000",
          "2015-09-16T00:00:00.000000000",
          "2015-09-17T00:00:00.000000000",
          "2015-09-18T00:00:00.000000000",
          "2015-09-19T00:00:00.000000000",
          "2015-09-20T00:00:00.000000000",
          "2015-09-21T00:00:00.000000000",
          "2015-09-22T00:00:00.000000000",
          "2015-09-23T00:00:00.000000000",
          "2015-09-24T00:00:00.000000000",
          "2015-09-25T00:00:00.000000000",
          "2015-09-26T00:00:00.000000000",
          "2015-09-27T00:00:00.000000000",
          "2015-09-28T00:00:00.000000000",
          "2015-09-29T00:00:00.000000000",
          "2015-09-30T00:00:00.000000000",
          "2015-10-01T00:00:00.000000000",
          "2015-10-02T00:00:00.000000000",
          "2015-10-03T00:00:00.000000000",
          "2015-10-04T00:00:00.000000000",
          "2015-10-05T00:00:00.000000000",
          "2015-10-06T00:00:00.000000000",
          "2015-10-07T00:00:00.000000000",
          "2015-10-08T00:00:00.000000000",
          "2015-10-09T00:00:00.000000000",
          "2015-10-10T00:00:00.000000000",
          "2015-10-11T00:00:00.000000000",
          "2015-10-12T00:00:00.000000000",
          "2015-10-13T00:00:00.000000000",
          "2015-10-14T00:00:00.000000000",
          "2015-10-15T00:00:00.000000000",
          "2015-10-16T00:00:00.000000000",
          "2015-10-17T00:00:00.000000000",
          "2015-10-18T00:00:00.000000000",
          "2015-10-19T00:00:00.000000000",
          "2015-10-20T00:00:00.000000000",
          "2015-10-21T00:00:00.000000000",
          "2015-10-22T00:00:00.000000000",
          "2015-10-23T00:00:00.000000000",
          "2015-10-24T00:00:00.000000000",
          "2015-10-25T00:00:00.000000000",
          "2015-10-26T00:00:00.000000000",
          "2015-10-27T00:00:00.000000000",
          "2015-10-28T00:00:00.000000000",
          "2015-10-29T00:00:00.000000000",
          "2015-10-30T00:00:00.000000000",
          "2015-10-31T00:00:00.000000000",
          "2015-11-01T00:00:00.000000000",
          "2015-11-02T00:00:00.000000000",
          "2015-11-03T00:00:00.000000000",
          "2015-11-04T00:00:00.000000000",
          "2015-11-05T00:00:00.000000000",
          "2015-11-06T00:00:00.000000000",
          "2015-11-07T00:00:00.000000000",
          "2015-11-08T00:00:00.000000000",
          "2015-11-09T00:00:00.000000000",
          "2015-11-10T00:00:00.000000000",
          "2015-11-11T00:00:00.000000000",
          "2015-11-12T00:00:00.000000000",
          "2015-11-13T00:00:00.000000000",
          "2015-11-14T00:00:00.000000000",
          "2015-11-15T00:00:00.000000000",
          "2015-11-16T00:00:00.000000000",
          "2015-11-17T00:00:00.000000000",
          "2015-11-18T00:00:00.000000000",
          "2015-11-19T00:00:00.000000000",
          "2015-11-20T00:00:00.000000000",
          "2015-11-21T00:00:00.000000000",
          "2015-11-22T00:00:00.000000000",
          "2015-11-23T00:00:00.000000000",
          "2015-11-24T00:00:00.000000000",
          "2015-11-25T00:00:00.000000000",
          "2015-11-26T00:00:00.000000000",
          "2015-11-27T00:00:00.000000000",
          "2015-11-28T00:00:00.000000000",
          "2015-11-29T00:00:00.000000000",
          "2015-11-30T00:00:00.000000000",
          "2015-12-01T00:00:00.000000000",
          "2015-12-02T00:00:00.000000000",
          "2015-12-03T00:00:00.000000000",
          "2015-12-04T00:00:00.000000000",
          "2015-12-05T00:00:00.000000000",
          "2015-12-06T00:00:00.000000000",
          "2015-12-07T00:00:00.000000000",
          "2015-12-08T00:00:00.000000000",
          "2015-12-09T00:00:00.000000000",
          "2015-12-10T00:00:00.000000000",
          "2015-12-11T00:00:00.000000000",
          "2015-12-12T00:00:00.000000000",
          "2015-12-13T00:00:00.000000000",
          "2015-12-14T00:00:00.000000000",
          "2015-12-15T00:00:00.000000000",
          "2015-12-16T00:00:00.000000000",
          "2015-12-17T00:00:00.000000000",
          "2015-12-18T00:00:00.000000000",
          "2015-12-19T00:00:00.000000000",
          "2015-12-20T00:00:00.000000000",
          "2015-12-21T00:00:00.000000000",
          "2015-12-22T00:00:00.000000000",
          "2015-12-23T00:00:00.000000000",
          "2015-12-24T00:00:00.000000000",
          "2015-12-25T00:00:00.000000000",
          "2015-12-26T00:00:00.000000000",
          "2015-12-27T00:00:00.000000000",
          "2015-12-28T00:00:00.000000000",
          "2015-12-29T00:00:00.000000000",
          "2015-12-30T00:00:00.000000000",
          "2015-12-31T00:00:00.000000000",
          "2016-01-01T00:00:00.000000000",
          "2016-01-02T00:00:00.000000000",
          "2016-01-03T00:00:00.000000000",
          "2016-01-04T00:00:00.000000000",
          "2016-01-05T00:00:00.000000000",
          "2016-01-06T00:00:00.000000000",
          "2016-01-07T00:00:00.000000000",
          "2016-01-08T00:00:00.000000000",
          "2016-01-09T00:00:00.000000000",
          "2016-01-10T00:00:00.000000000",
          "2016-01-11T00:00:00.000000000",
          "2016-01-12T00:00:00.000000000",
          "2016-01-13T00:00:00.000000000",
          "2016-01-14T00:00:00.000000000",
          "2016-01-15T00:00:00.000000000",
          "2016-01-16T00:00:00.000000000",
          "2016-01-17T00:00:00.000000000",
          "2016-01-18T00:00:00.000000000",
          "2016-01-19T00:00:00.000000000",
          "2016-01-20T00:00:00.000000000",
          "2016-01-21T00:00:00.000000000",
          "2016-01-22T00:00:00.000000000",
          "2016-01-23T00:00:00.000000000",
          "2016-01-24T00:00:00.000000000",
          "2016-01-25T00:00:00.000000000",
          "2016-01-26T00:00:00.000000000",
          "2016-01-27T00:00:00.000000000",
          "2016-01-28T00:00:00.000000000",
          "2016-01-29T00:00:00.000000000",
          "2016-01-30T00:00:00.000000000",
          "2016-01-31T00:00:00.000000000",
          "2016-02-01T00:00:00.000000000",
          "2016-02-02T00:00:00.000000000",
          "2016-02-03T00:00:00.000000000",
          "2016-02-04T00:00:00.000000000",
          "2016-02-05T00:00:00.000000000",
          "2016-02-06T00:00:00.000000000",
          "2016-02-07T00:00:00.000000000",
          "2016-02-08T00:00:00.000000000",
          "2016-02-09T00:00:00.000000000",
          "2016-02-10T00:00:00.000000000",
          "2016-02-11T00:00:00.000000000",
          "2016-02-12T00:00:00.000000000",
          "2016-02-13T00:00:00.000000000",
          "2016-02-14T00:00:00.000000000",
          "2016-02-15T00:00:00.000000000",
          "2016-02-16T00:00:00.000000000",
          "2016-02-17T00:00:00.000000000",
          "2016-02-18T00:00:00.000000000",
          "2016-02-19T00:00:00.000000000",
          "2016-02-20T00:00:00.000000000",
          "2016-02-21T00:00:00.000000000",
          "2016-02-22T00:00:00.000000000",
          "2016-02-23T00:00:00.000000000",
          "2016-02-24T00:00:00.000000000",
          "2016-02-25T00:00:00.000000000",
          "2016-02-26T00:00:00.000000000",
          "2016-02-27T00:00:00.000000000",
          "2016-02-28T00:00:00.000000000",
          "2016-02-29T00:00:00.000000000",
          "2016-03-01T00:00:00.000000000",
          "2016-03-02T00:00:00.000000000",
          "2016-03-03T00:00:00.000000000",
          "2016-03-04T00:00:00.000000000",
          "2016-03-05T00:00:00.000000000",
          "2016-03-06T00:00:00.000000000",
          "2016-03-07T00:00:00.000000000",
          "2016-03-08T00:00:00.000000000",
          "2016-03-09T00:00:00.000000000",
          "2016-03-10T00:00:00.000000000",
          "2016-03-11T00:00:00.000000000",
          "2016-03-12T00:00:00.000000000",
          "2016-03-13T00:00:00.000000000",
          "2016-03-14T00:00:00.000000000",
          "2016-03-15T00:00:00.000000000",
          "2016-03-16T00:00:00.000000000",
          "2016-03-17T00:00:00.000000000",
          "2016-03-18T00:00:00.000000000",
          "2016-03-19T00:00:00.000000000",
          "2016-03-20T00:00:00.000000000",
          "2016-03-21T00:00:00.000000000",
          "2016-03-22T00:00:00.000000000",
          "2016-03-23T00:00:00.000000000",
          "2016-03-24T00:00:00.000000000",
          "2016-03-25T00:00:00.000000000",
          "2016-03-26T00:00:00.000000000",
          "2016-03-27T00:00:00.000000000",
          "2016-03-28T00:00:00.000000000",
          "2016-03-29T00:00:00.000000000",
          "2016-03-30T00:00:00.000000000",
          "2016-03-31T00:00:00.000000000",
          "2016-04-01T00:00:00.000000000",
          "2016-04-02T00:00:00.000000000",
          "2016-04-03T00:00:00.000000000",
          "2016-04-04T00:00:00.000000000",
          "2016-04-05T00:00:00.000000000",
          "2016-04-06T00:00:00.000000000",
          "2016-04-07T00:00:00.000000000",
          "2016-04-08T00:00:00.000000000",
          "2016-04-09T00:00:00.000000000",
          "2016-04-10T00:00:00.000000000",
          "2016-04-11T00:00:00.000000000",
          "2016-04-12T00:00:00.000000000",
          "2016-04-13T00:00:00.000000000",
          "2016-04-14T00:00:00.000000000",
          "2016-04-15T00:00:00.000000000",
          "2016-04-16T00:00:00.000000000",
          "2016-04-17T00:00:00.000000000",
          "2016-04-18T00:00:00.000000000",
          "2016-04-19T00:00:00.000000000",
          "2016-04-20T00:00:00.000000000",
          "2016-04-21T00:00:00.000000000",
          "2016-04-22T00:00:00.000000000",
          "2016-04-23T00:00:00.000000000",
          "2016-04-24T00:00:00.000000000",
          "2016-04-25T00:00:00.000000000",
          "2016-04-26T00:00:00.000000000",
          "2016-04-27T00:00:00.000000000",
          "2016-04-28T00:00:00.000000000",
          "2016-04-29T00:00:00.000000000",
          "2016-04-30T00:00:00.000000000",
          "2016-05-01T00:00:00.000000000",
          "2016-05-02T00:00:00.000000000",
          "2016-05-03T00:00:00.000000000",
          "2016-05-04T00:00:00.000000000",
          "2016-05-05T00:00:00.000000000",
          "2016-05-06T00:00:00.000000000",
          "2016-05-07T00:00:00.000000000",
          "2016-05-08T00:00:00.000000000",
          "2016-05-09T00:00:00.000000000",
          "2016-05-10T00:00:00.000000000",
          "2016-05-11T00:00:00.000000000",
          "2016-05-12T00:00:00.000000000",
          "2016-05-13T00:00:00.000000000",
          "2016-05-14T00:00:00.000000000",
          "2016-05-15T00:00:00.000000000",
          "2016-05-16T00:00:00.000000000",
          "2016-05-17T00:00:00.000000000",
          "2016-05-18T00:00:00.000000000",
          "2016-05-19T00:00:00.000000000",
          "2016-05-20T00:00:00.000000000",
          "2016-05-21T00:00:00.000000000",
          "2016-05-22T00:00:00.000000000",
          "2016-05-23T00:00:00.000000000",
          "2016-05-24T00:00:00.000000000",
          "2016-05-25T00:00:00.000000000",
          "2016-05-26T00:00:00.000000000",
          "2016-05-27T00:00:00.000000000",
          "2016-05-28T00:00:00.000000000",
          "2016-05-29T00:00:00.000000000",
          "2016-05-30T00:00:00.000000000",
          "2016-05-31T00:00:00.000000000",
          "2016-06-01T00:00:00.000000000",
          "2016-06-02T00:00:00.000000000",
          "2016-06-03T00:00:00.000000000",
          "2016-06-04T00:00:00.000000000",
          "2016-06-05T00:00:00.000000000",
          "2016-06-06T00:00:00.000000000",
          "2016-06-07T00:00:00.000000000",
          "2016-06-08T00:00:00.000000000",
          "2016-06-09T00:00:00.000000000",
          "2016-06-10T00:00:00.000000000",
          "2016-06-11T00:00:00.000000000",
          "2016-06-12T00:00:00.000000000",
          "2016-06-13T00:00:00.000000000",
          "2016-06-14T00:00:00.000000000",
          "2016-06-15T00:00:00.000000000",
          "2016-06-16T00:00:00.000000000",
          "2016-06-17T00:00:00.000000000",
          "2016-06-18T00:00:00.000000000",
          "2016-06-19T00:00:00.000000000",
          "2016-06-20T00:00:00.000000000",
          "2016-06-21T00:00:00.000000000",
          "2016-06-22T00:00:00.000000000",
          "2016-06-23T00:00:00.000000000",
          "2016-06-24T00:00:00.000000000",
          "2016-06-25T00:00:00.000000000",
          "2016-06-26T00:00:00.000000000",
          "2016-06-27T00:00:00.000000000",
          "2016-06-28T00:00:00.000000000",
          "2016-06-29T00:00:00.000000000",
          "2016-06-30T00:00:00.000000000",
          "2016-07-01T00:00:00.000000000",
          "2016-07-02T00:00:00.000000000",
          "2016-07-03T00:00:00.000000000",
          "2016-07-04T00:00:00.000000000",
          "2016-07-05T00:00:00.000000000",
          "2016-07-06T00:00:00.000000000",
          "2016-07-07T00:00:00.000000000",
          "2016-07-08T00:00:00.000000000",
          "2016-07-09T00:00:00.000000000",
          "2016-07-10T00:00:00.000000000",
          "2016-07-11T00:00:00.000000000",
          "2016-07-12T00:00:00.000000000",
          "2016-07-13T00:00:00.000000000",
          "2016-07-14T00:00:00.000000000",
          "2016-07-15T00:00:00.000000000",
          "2016-07-16T00:00:00.000000000",
          "2016-07-17T00:00:00.000000000",
          "2016-07-18T00:00:00.000000000",
          "2016-07-19T00:00:00.000000000",
          "2016-07-20T00:00:00.000000000",
          "2016-07-21T00:00:00.000000000",
          "2016-07-22T00:00:00.000000000",
          "2016-07-23T00:00:00.000000000",
          "2016-07-24T00:00:00.000000000",
          "2016-07-25T00:00:00.000000000",
          "2016-07-26T00:00:00.000000000",
          "2016-07-27T00:00:00.000000000",
          "2016-07-28T00:00:00.000000000",
          "2016-07-29T00:00:00.000000000",
          "2016-07-30T00:00:00.000000000",
          "2016-07-31T00:00:00.000000000",
          "2016-08-01T00:00:00.000000000",
          "2016-08-02T00:00:00.000000000",
          "2016-08-03T00:00:00.000000000",
          "2016-08-04T00:00:00.000000000",
          "2016-08-05T00:00:00.000000000",
          "2016-08-06T00:00:00.000000000",
          "2016-08-07T00:00:00.000000000",
          "2016-08-08T00:00:00.000000000",
          "2016-08-09T00:00:00.000000000",
          "2016-08-10T00:00:00.000000000",
          "2016-08-11T00:00:00.000000000",
          "2016-08-12T00:00:00.000000000",
          "2016-08-13T00:00:00.000000000",
          "2016-08-14T00:00:00.000000000",
          "2016-08-15T00:00:00.000000000",
          "2016-08-16T00:00:00.000000000",
          "2016-08-17T00:00:00.000000000",
          "2016-08-18T00:00:00.000000000",
          "2016-08-19T00:00:00.000000000",
          "2016-08-20T00:00:00.000000000",
          "2016-08-21T00:00:00.000000000",
          "2016-08-22T00:00:00.000000000",
          "2016-08-23T00:00:00.000000000",
          "2016-08-24T00:00:00.000000000",
          "2016-08-25T00:00:00.000000000",
          "2016-08-26T00:00:00.000000000",
          "2016-08-27T00:00:00.000000000",
          "2016-08-28T00:00:00.000000000",
          "2016-08-29T00:00:00.000000000",
          "2016-08-30T00:00:00.000000000",
          "2016-08-31T00:00:00.000000000",
          "2016-09-01T00:00:00.000000000",
          "2016-09-02T00:00:00.000000000",
          "2016-09-03T00:00:00.000000000",
          "2016-09-04T00:00:00.000000000",
          "2016-09-05T00:00:00.000000000",
          "2016-09-06T00:00:00.000000000",
          "2016-09-07T00:00:00.000000000",
          "2016-09-08T00:00:00.000000000",
          "2016-09-09T00:00:00.000000000",
          "2016-09-10T00:00:00.000000000",
          "2016-09-11T00:00:00.000000000",
          "2016-09-12T00:00:00.000000000",
          "2016-09-13T00:00:00.000000000",
          "2016-09-14T00:00:00.000000000",
          "2016-09-15T00:00:00.000000000",
          "2016-09-16T00:00:00.000000000",
          "2016-09-17T00:00:00.000000000",
          "2016-09-18T00:00:00.000000000",
          "2016-09-19T00:00:00.000000000",
          "2016-09-20T00:00:00.000000000",
          "2016-09-21T00:00:00.000000000",
          "2016-09-22T00:00:00.000000000",
          "2016-09-23T00:00:00.000000000",
          "2016-09-24T00:00:00.000000000",
          "2016-09-25T00:00:00.000000000",
          "2016-09-26T00:00:00.000000000",
          "2016-09-27T00:00:00.000000000",
          "2016-09-28T00:00:00.000000000",
          "2016-09-29T00:00:00.000000000",
          "2016-09-30T00:00:00.000000000",
          "2016-10-01T00:00:00.000000000",
          "2016-10-02T00:00:00.000000000",
          "2016-10-03T00:00:00.000000000",
          "2016-10-04T00:00:00.000000000",
          "2016-10-05T00:00:00.000000000",
          "2016-10-06T00:00:00.000000000",
          "2016-10-07T00:00:00.000000000",
          "2016-10-08T00:00:00.000000000",
          "2016-10-09T00:00:00.000000000",
          "2016-10-10T00:00:00.000000000",
          "2016-10-11T00:00:00.000000000",
          "2016-10-12T00:00:00.000000000",
          "2016-10-13T00:00:00.000000000",
          "2016-10-14T00:00:00.000000000",
          "2016-10-15T00:00:00.000000000",
          "2016-10-16T00:00:00.000000000",
          "2016-10-17T00:00:00.000000000",
          "2016-10-18T00:00:00.000000000",
          "2016-10-19T00:00:00.000000000",
          "2016-10-20T00:00:00.000000000",
          "2016-10-21T00:00:00.000000000",
          "2016-10-22T00:00:00.000000000",
          "2016-10-23T00:00:00.000000000",
          "2016-10-24T00:00:00.000000000",
          "2016-10-25T00:00:00.000000000",
          "2016-10-26T00:00:00.000000000",
          "2016-10-27T00:00:00.000000000",
          "2016-10-28T00:00:00.000000000",
          "2016-10-29T00:00:00.000000000",
          "2016-10-30T00:00:00.000000000",
          "2016-10-31T00:00:00.000000000",
          "2016-11-01T00:00:00.000000000",
          "2016-11-02T00:00:00.000000000",
          "2016-11-03T00:00:00.000000000",
          "2016-11-04T00:00:00.000000000",
          "2016-11-05T00:00:00.000000000",
          "2016-11-06T00:00:00.000000000",
          "2016-11-07T00:00:00.000000000",
          "2016-11-08T00:00:00.000000000",
          "2016-11-09T00:00:00.000000000",
          "2016-11-10T00:00:00.000000000",
          "2016-11-11T00:00:00.000000000",
          "2016-11-12T00:00:00.000000000",
          "2016-11-13T00:00:00.000000000",
          "2016-11-14T00:00:00.000000000",
          "2016-11-15T00:00:00.000000000",
          "2016-11-16T00:00:00.000000000",
          "2016-11-17T00:00:00.000000000",
          "2016-11-18T00:00:00.000000000",
          "2016-11-19T00:00:00.000000000",
          "2016-11-20T00:00:00.000000000",
          "2016-11-21T00:00:00.000000000",
          "2016-11-22T00:00:00.000000000",
          "2016-11-23T00:00:00.000000000",
          "2016-11-24T00:00:00.000000000",
          "2016-11-25T00:00:00.000000000",
          "2016-11-26T00:00:00.000000000",
          "2016-11-27T00:00:00.000000000",
          "2016-11-28T00:00:00.000000000",
          "2016-11-29T00:00:00.000000000",
          "2016-11-30T00:00:00.000000000",
          "2016-12-01T00:00:00.000000000",
          "2016-12-02T00:00:00.000000000",
          "2016-12-03T00:00:00.000000000",
          "2016-12-04T00:00:00.000000000",
          "2016-12-05T00:00:00.000000000",
          "2016-12-06T00:00:00.000000000",
          "2016-12-07T00:00:00.000000000",
          "2016-12-08T00:00:00.000000000",
          "2016-12-09T00:00:00.000000000",
          "2016-12-10T00:00:00.000000000",
          "2016-12-11T00:00:00.000000000",
          "2016-12-12T00:00:00.000000000",
          "2016-12-13T00:00:00.000000000",
          "2016-12-14T00:00:00.000000000",
          "2016-12-15T00:00:00.000000000",
          "2016-12-16T00:00:00.000000000",
          "2016-12-17T00:00:00.000000000",
          "2016-12-18T00:00:00.000000000",
          "2016-12-19T00:00:00.000000000",
          "2016-12-20T00:00:00.000000000",
          "2016-12-21T00:00:00.000000000",
          "2016-12-22T00:00:00.000000000",
          "2016-12-23T00:00:00.000000000",
          "2016-12-24T00:00:00.000000000",
          "2016-12-25T00:00:00.000000000",
          "2016-12-26T00:00:00.000000000",
          "2016-12-27T00:00:00.000000000",
          "2016-12-28T00:00:00.000000000",
          "2016-12-29T00:00:00.000000000",
          "2016-12-30T00:00:00.000000000",
          "2016-12-31T00:00:00.000000000",
          "2017-01-01T00:00:00.000000000",
          "2017-01-02T00:00:00.000000000",
          "2017-01-03T00:00:00.000000000",
          "2017-01-04T00:00:00.000000000",
          "2017-01-05T00:00:00.000000000",
          "2017-01-06T00:00:00.000000000",
          "2017-01-07T00:00:00.000000000",
          "2017-01-08T00:00:00.000000000",
          "2017-01-09T00:00:00.000000000",
          "2017-01-10T00:00:00.000000000",
          "2017-01-11T00:00:00.000000000",
          "2017-01-12T00:00:00.000000000",
          "2017-01-13T00:00:00.000000000",
          "2017-01-14T00:00:00.000000000",
          "2017-01-15T00:00:00.000000000",
          "2017-01-16T00:00:00.000000000",
          "2017-01-17T00:00:00.000000000",
          "2017-01-18T00:00:00.000000000",
          "2017-01-19T00:00:00.000000000",
          "2017-01-20T00:00:00.000000000",
          "2017-01-21T00:00:00.000000000",
          "2017-01-22T00:00:00.000000000",
          "2017-01-23T00:00:00.000000000",
          "2017-01-24T00:00:00.000000000",
          "2017-01-25T00:00:00.000000000",
          "2017-01-26T00:00:00.000000000",
          "2017-01-27T00:00:00.000000000",
          "2017-01-28T00:00:00.000000000",
          "2017-01-29T00:00:00.000000000",
          "2017-01-30T00:00:00.000000000",
          "2017-01-31T00:00:00.000000000",
          "2017-02-01T00:00:00.000000000",
          "2017-02-02T00:00:00.000000000",
          "2017-02-03T00:00:00.000000000",
          "2017-02-04T00:00:00.000000000",
          "2017-02-05T00:00:00.000000000",
          "2017-02-06T00:00:00.000000000",
          "2017-02-07T00:00:00.000000000",
          "2017-02-08T00:00:00.000000000",
          "2017-02-09T00:00:00.000000000",
          "2017-02-10T00:00:00.000000000",
          "2017-02-11T00:00:00.000000000",
          "2017-02-12T00:00:00.000000000",
          "2017-02-13T00:00:00.000000000",
          "2017-02-14T00:00:00.000000000",
          "2017-02-15T00:00:00.000000000",
          "2017-02-16T00:00:00.000000000",
          "2017-02-17T00:00:00.000000000",
          "2017-02-18T00:00:00.000000000",
          "2017-02-19T00:00:00.000000000",
          "2017-02-20T00:00:00.000000000",
          "2017-02-21T00:00:00.000000000",
          "2017-02-22T00:00:00.000000000",
          "2017-02-23T00:00:00.000000000",
          "2017-02-24T00:00:00.000000000",
          "2017-02-25T00:00:00.000000000",
          "2017-02-26T00:00:00.000000000",
          "2017-02-27T00:00:00.000000000",
          "2017-02-28T00:00:00.000000000",
          "2017-03-01T00:00:00.000000000",
          "2017-03-02T00:00:00.000000000",
          "2017-03-03T00:00:00.000000000",
          "2017-03-04T00:00:00.000000000",
          "2017-03-05T00:00:00.000000000",
          "2017-03-06T00:00:00.000000000",
          "2017-03-07T00:00:00.000000000",
          "2017-03-08T00:00:00.000000000",
          "2017-03-09T00:00:00.000000000",
          "2017-03-10T00:00:00.000000000",
          "2017-03-11T00:00:00.000000000",
          "2017-03-12T00:00:00.000000000",
          "2017-03-13T00:00:00.000000000",
          "2017-03-14T00:00:00.000000000",
          "2017-03-15T00:00:00.000000000",
          "2017-03-16T00:00:00.000000000",
          "2017-03-17T00:00:00.000000000",
          "2017-03-18T00:00:00.000000000",
          "2017-03-19T00:00:00.000000000",
          "2017-03-20T00:00:00.000000000",
          "2017-03-21T00:00:00.000000000",
          "2017-03-22T00:00:00.000000000",
          "2017-03-23T00:00:00.000000000",
          "2017-03-24T00:00:00.000000000",
          "2017-03-25T00:00:00.000000000",
          "2017-03-26T00:00:00.000000000",
          "2017-03-27T00:00:00.000000000",
          "2017-03-28T00:00:00.000000000",
          "2017-03-29T00:00:00.000000000",
          "2017-03-30T00:00:00.000000000",
          "2017-03-31T00:00:00.000000000",
          "2017-04-01T00:00:00.000000000",
          "2017-04-02T00:00:00.000000000",
          "2017-04-03T00:00:00.000000000",
          "2017-04-04T00:00:00.000000000",
          "2017-04-05T00:00:00.000000000",
          "2017-04-06T00:00:00.000000000",
          "2017-04-07T00:00:00.000000000",
          "2017-04-08T00:00:00.000000000",
          "2017-04-09T00:00:00.000000000",
          "2017-04-10T00:00:00.000000000",
          "2017-04-11T00:00:00.000000000",
          "2017-04-12T00:00:00.000000000",
          "2017-04-13T00:00:00.000000000",
          "2017-04-14T00:00:00.000000000",
          "2017-04-15T00:00:00.000000000",
          "2017-04-16T00:00:00.000000000",
          "2017-04-17T00:00:00.000000000",
          "2017-04-18T00:00:00.000000000",
          "2017-04-19T00:00:00.000000000",
          "2017-04-20T00:00:00.000000000",
          "2017-04-21T00:00:00.000000000",
          "2017-04-22T00:00:00.000000000",
          "2017-04-23T00:00:00.000000000",
          "2017-04-24T00:00:00.000000000",
          "2017-04-25T00:00:00.000000000",
          "2017-04-26T00:00:00.000000000",
          "2017-04-27T00:00:00.000000000",
          "2017-04-28T00:00:00.000000000",
          "2017-04-29T00:00:00.000000000",
          "2017-04-30T00:00:00.000000000",
          "2017-05-01T00:00:00.000000000",
          "2017-05-02T00:00:00.000000000",
          "2017-05-03T00:00:00.000000000",
          "2017-05-04T00:00:00.000000000",
          "2017-05-05T00:00:00.000000000",
          "2017-05-06T00:00:00.000000000",
          "2017-05-07T00:00:00.000000000",
          "2017-05-08T00:00:00.000000000",
          "2017-05-09T00:00:00.000000000",
          "2017-05-10T00:00:00.000000000",
          "2017-05-11T00:00:00.000000000",
          "2017-05-12T00:00:00.000000000",
          "2017-05-13T00:00:00.000000000",
          "2017-05-14T00:00:00.000000000",
          "2017-05-15T00:00:00.000000000",
          "2017-05-16T00:00:00.000000000",
          "2017-05-17T00:00:00.000000000",
          "2017-05-18T00:00:00.000000000",
          "2017-05-19T00:00:00.000000000",
          "2017-05-20T00:00:00.000000000",
          "2017-05-21T00:00:00.000000000",
          "2017-05-22T00:00:00.000000000",
          "2017-05-23T00:00:00.000000000",
          "2017-05-24T00:00:00.000000000",
          "2017-05-25T00:00:00.000000000",
          "2017-05-26T00:00:00.000000000",
          "2017-05-27T00:00:00.000000000",
          "2017-05-28T00:00:00.000000000",
          "2017-05-29T00:00:00.000000000",
          "2017-05-30T00:00:00.000000000",
          "2017-05-31T00:00:00.000000000",
          "2017-06-01T00:00:00.000000000",
          "2017-06-02T00:00:00.000000000",
          "2017-06-03T00:00:00.000000000",
          "2017-06-04T00:00:00.000000000",
          "2017-06-05T00:00:00.000000000",
          "2017-06-06T00:00:00.000000000",
          "2017-06-07T00:00:00.000000000",
          "2017-06-08T00:00:00.000000000",
          "2017-06-09T00:00:00.000000000",
          "2017-06-10T00:00:00.000000000",
          "2017-06-11T00:00:00.000000000",
          "2017-06-12T00:00:00.000000000",
          "2017-06-13T00:00:00.000000000",
          "2017-06-14T00:00:00.000000000",
          "2017-06-15T00:00:00.000000000",
          "2017-06-16T00:00:00.000000000",
          "2017-06-17T00:00:00.000000000",
          "2017-06-18T00:00:00.000000000",
          "2017-06-19T00:00:00.000000000",
          "2017-06-20T00:00:00.000000000",
          "2017-06-21T00:00:00.000000000",
          "2017-06-22T00:00:00.000000000",
          "2017-06-23T00:00:00.000000000",
          "2017-06-24T00:00:00.000000000",
          "2017-06-25T00:00:00.000000000",
          "2017-06-26T00:00:00.000000000",
          "2017-06-27T00:00:00.000000000",
          "2017-06-28T00:00:00.000000000",
          "2017-06-29T00:00:00.000000000",
          "2017-06-30T00:00:00.000000000",
          "2017-07-01T00:00:00.000000000",
          "2017-07-02T00:00:00.000000000",
          "2017-07-03T00:00:00.000000000",
          "2017-07-04T00:00:00.000000000",
          "2017-07-05T00:00:00.000000000",
          "2017-07-06T00:00:00.000000000",
          "2017-07-07T00:00:00.000000000",
          "2017-07-08T00:00:00.000000000",
          "2017-07-09T00:00:00.000000000",
          "2017-07-10T00:00:00.000000000",
          "2017-07-11T00:00:00.000000000",
          "2017-07-12T00:00:00.000000000",
          "2017-07-13T00:00:00.000000000",
          "2017-07-14T00:00:00.000000000",
          "2017-07-15T00:00:00.000000000",
          "2017-07-16T00:00:00.000000000",
          "2017-07-17T00:00:00.000000000",
          "2017-07-18T00:00:00.000000000",
          "2017-07-19T00:00:00.000000000",
          "2017-07-20T00:00:00.000000000",
          "2017-07-21T00:00:00.000000000",
          "2017-07-22T00:00:00.000000000",
          "2017-07-23T00:00:00.000000000",
          "2017-07-24T00:00:00.000000000",
          "2017-07-25T00:00:00.000000000",
          "2017-07-26T00:00:00.000000000",
          "2017-07-27T00:00:00.000000000",
          "2017-07-28T00:00:00.000000000",
          "2017-07-29T00:00:00.000000000",
          "2017-07-30T00:00:00.000000000",
          "2017-07-31T00:00:00.000000000",
          "2017-08-01T00:00:00.000000000",
          "2017-08-02T00:00:00.000000000",
          "2017-08-03T00:00:00.000000000",
          "2017-08-04T00:00:00.000000000",
          "2017-08-05T00:00:00.000000000",
          "2017-08-06T00:00:00.000000000",
          "2017-08-07T00:00:00.000000000",
          "2017-08-08T00:00:00.000000000",
          "2017-08-09T00:00:00.000000000",
          "2017-08-10T00:00:00.000000000",
          "2017-08-11T00:00:00.000000000",
          "2017-08-12T00:00:00.000000000",
          "2017-08-13T00:00:00.000000000",
          "2017-08-14T00:00:00.000000000",
          "2017-08-15T00:00:00.000000000",
          "2017-08-16T00:00:00.000000000",
          "2017-08-17T00:00:00.000000000",
          "2017-08-18T00:00:00.000000000",
          "2017-08-19T00:00:00.000000000",
          "2017-08-20T00:00:00.000000000",
          "2017-08-21T00:00:00.000000000",
          "2017-08-22T00:00:00.000000000",
          "2017-08-23T00:00:00.000000000",
          "2017-08-24T00:00:00.000000000",
          "2017-08-25T00:00:00.000000000",
          "2017-08-26T00:00:00.000000000",
          "2017-08-27T00:00:00.000000000",
          "2017-08-28T00:00:00.000000000",
          "2017-08-29T00:00:00.000000000",
          "2017-08-30T00:00:00.000000000",
          "2017-08-31T00:00:00.000000000"
         ],
         "xaxis": "x",
         "y": {
          "bdata": "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",
          "dtype": "f8"
         },
         "yaxis": "y"
        }
       ],
       "layout": {
        "legend": {
         "tracegroupgap": 0
        },
        "template": {
         "data": {
          "bar": [
           {
            "error_x": {
             "color": "#2a3f5f"
            },
            "error_y": {
             "color": "#2a3f5f"
            },
            "marker": {
             "line": {
              "color": "#E5ECF6",
              "width": 0.5
             },
             "pattern": {
              "fillmode": "overlay",
              "size": 10,
              "solidity": 0.2
             }
            },
            "type": "bar"
           }
          ],
          "barpolar": [
           {
            "marker": {
             "line": {
              "color": "#E5ECF6",
              "width": 0.5
             },
             "pattern": {
              "fillmode": "overlay",
              "size": 10,
              "solidity": 0.2
             }
            },
            "type": "barpolar"
           }
          ],
          "carpet": [
           {
            "aaxis": {
             "endlinecolor": "#2a3f5f",
             "gridcolor": "white",
             "linecolor": "white",
             "minorgridcolor": "white",
             "startlinecolor": "#2a3f5f"
            },
            "baxis": {
             "endlinecolor": "#2a3f5f",
             "gridcolor": "white",
             "linecolor": "white",
             "minorgridcolor": "white",
             "startlinecolor": "#2a3f5f"
            },
            "type": "carpet"
           }
          ],
          "choropleth": [
           {
            "colorbar": {
             "outlinewidth": 0,
             "ticks": ""
            },
            "type": "choropleth"
           }
          ],
          "contour": [
           {
            "colorbar": {
             "outlinewidth": 0,
             "ticks": ""
            },
            "colorscale": [
             [
              0,
              "#0d0887"
             ],
             [
              0.1111111111111111,
              "#46039f"
             ],
             [
              0.2222222222222222,
              "#7201a8"
             ],
             [
              0.3333333333333333,
              "#9c179e"
             ],
             [
              0.4444444444444444,
              "#bd3786"
             ],
             [
              0.5555555555555556,
              "#d8576b"
             ],
             [
              0.6666666666666666,
              "#ed7953"
             ],
             [
              0.7777777777777778,
              "#fb9f3a"
             ],
             [
              0.8888888888888888,
              "#fdca26"
             ],
             [
              1,
              "#f0f921"
             ]
            ],
            "type": "contour"
           }
          ],
          "contourcarpet": [
           {
            "colorbar": {
             "outlinewidth": 0,
             "ticks": ""
            },
            "type": "contourcarpet"
           }
          ],
          "heatmap": [
           {
            "colorbar": {
             "outlinewidth": 0,
             "ticks": ""
            },
            "colorscale": [
             [
              0,
              "#0d0887"
             ],
             [
              0.1111111111111111,
              "#46039f"
             ],
             [
              0.2222222222222222,
              "#7201a8"
             ],
             [
              0.3333333333333333,
              "#9c179e"
             ],
             [
              0.4444444444444444,
              "#bd3786"
             ],
             [
              0.5555555555555556,
              "#d8576b"
             ],
             [
              0.6666666666666666,
              "#ed7953"
             ],
             [
              0.7777777777777778,
              "#fb9f3a"
             ],
             [
              0.8888888888888888,
              "#fdca26"
             ],
             [
              1,
              "#f0f921"
             ]
            ],
            "type": "heatmap"
           }
          ],
          "histogram": [
           {
            "marker": {
             "pattern": {
              "fillmode": "overlay",
              "size": 10,
              "solidity": 0.2
             }
            },
            "type": "histogram"
           }
          ],
          "histogram2d": [
           {
            "colorbar": {
             "outlinewidth": 0,
             "ticks": ""
            },
            "colorscale": [
             [
              0,
              "#0d0887"
             ],
             [
              0.1111111111111111,
              "#46039f"
             ],
             [
              0.2222222222222222,
              "#7201a8"
             ],
             [
              0.3333333333333333,
              "#9c179e"
             ],
             [
              0.4444444444444444,
              "#bd3786"
             ],
             [
              0.5555555555555556,
              "#d8576b"
             ],
             [
              0.6666666666666666,
              "#ed7953"
             ],
             [
              0.7777777777777778,
              "#fb9f3a"
             ],
             [
              0.8888888888888888,
              "#fdca26"
             ],
             [
              1,
              "#f0f921"
             ]
            ],
            "type": "histogram2d"
           }
          ],
          "histogram2dcontour": [
           {
            "colorbar": {
             "outlinewidth": 0,
             "ticks": ""
            },
            "colorscale": [
             [
              0,
              "#0d0887"
             ],
             [
              0.1111111111111111,
              "#46039f"
             ],
             [
              0.2222222222222222,
              "#7201a8"
             ],
             [
              0.3333333333333333,
              "#9c179e"
             ],
             [
              0.4444444444444444,
              "#bd3786"
             ],
             [
              0.5555555555555556,
              "#d8576b"
             ],
             [
              0.6666666666666666,
              "#ed7953"
             ],
             [
              0.7777777777777778,
              "#fb9f3a"
             ],
             [
              0.8888888888888888,
              "#fdca26"
             ],
             [
              1,
              "#f0f921"
             ]
            ],
            "type": "histogram2dcontour"
           }
          ],
          "mesh3d": [
           {
            "colorbar": {
             "outlinewidth": 0,
             "ticks": ""
            },
            "type": "mesh3d"
           }
          ],
          "parcoords": [
           {
            "line": {
             "colorbar": {
              "outlinewidth": 0,
              "ticks": ""
             }
            },
            "type": "parcoords"
           }
          ],
          "pie": [
           {
            "automargin": true,
            "type": "pie"
           }
          ],
          "scatter": [
           {
            "fillpattern": {
             "fillmode": "overlay",
             "size": 10,
             "solidity": 0.2
            },
            "type": "scatter"
           }
          ],
          "scatter3d": [
           {
            "line": {
             "colorbar": {
              "outlinewidth": 0,
              "ticks": ""
             }
            },
            "marker": {
             "colorbar": {
              "outlinewidth": 0,
              "ticks": ""
             }
            },
            "type": "scatter3d"
           }
          ],
          "scattercarpet": [
           {
            "marker": {
             "colorbar": {
              "outlinewidth": 0,
              "ticks": ""
             }
            },
            "type": "scattercarpet"
           }
          ],
          "scattergeo": [
           {
            "marker": {
             "colorbar": {
              "outlinewidth": 0,
              "ticks": ""
             }
            },
            "type": "scattergeo"
           }
          ],
          "scattergl": [
           {
            "marker": {
             "colorbar": {
              "outlinewidth": 0,
              "ticks": ""
             }
            },
            "type": "scattergl"
           }
          ],
          "scattermap": [
           {
            "marker": {
             "colorbar": {
              "outlinewidth": 0,
              "ticks": ""
             }
            },
            "type": "scattermap"
           }
          ],
          "scattermapbox": [
           {
            "marker": {
             "colorbar": {
              "outlinewidth": 0,
              "ticks": ""
             }
            },
            "type": "scattermapbox"
           }
          ],
          "scatterpolar": [
           {
            "marker": {
             "colorbar": {
              "outlinewidth": 0,
              "ticks": ""
             }
            },
            "type": "scatterpolar"
           }
          ],
          "scatterpolargl": [
           {
            "marker": {
             "colorbar": {
              "outlinewidth": 0,
              "ticks": ""
             }
            },
            "type": "scatterpolargl"
           }
          ],
          "scatterternary": [
           {
            "marker": {
             "colorbar": {
              "outlinewidth": 0,
              "ticks": ""
             }
            },
            "type": "scatterternary"
           }
          ],
          "surface": [
           {
            "colorbar": {
             "outlinewidth": 0,
             "ticks": ""
            },
            "colorscale": [
             [
              0,
              "#0d0887"
             ],
             [
              0.1111111111111111,
              "#46039f"
             ],
             [
              0.2222222222222222,
              "#7201a8"
             ],
             [
              0.3333333333333333,
              "#9c179e"
             ],
             [
              0.4444444444444444,
              "#bd3786"
             ],
             [
              0.5555555555555556,
              "#d8576b"
             ],
             [
              0.6666666666666666,
              "#ed7953"
             ],
             [
              0.7777777777777778,
              "#fb9f3a"
             ],
             [
              0.8888888888888888,
              "#fdca26"
             ],
             [
              1,
              "#f0f921"
             ]
            ],
            "type": "surface"
           }
          ],
          "table": [
           {
            "cells": {
             "fill": {
              "color": "#EBF0F8"
             },
             "line": {
              "color": "white"
             }
            },
            "header": {
             "fill": {
              "color": "#C8D4E3"
             },
             "line": {
              "color": "white"
             }
            },
            "type": "table"
           }
          ]
         },
         "layout": {
          "annotationdefaults": {
           "arrowcolor": "#2a3f5f",
           "arrowhead": 0,
           "arrowwidth": 1
          },
          "autotypenumbers": "strict",
          "coloraxis": {
           "colorbar": {
            "outlinewidth": 0,
            "ticks": ""
           }
          },
          "colorscale": {
           "diverging": [
            [
             0,
             "#8e0152"
            ],
            [
             0.1,
             "#c51b7d"
            ],
            [
             0.2,
             "#de77ae"
            ],
            [
             0.3,
             "#f1b6da"
            ],
            [
             0.4,
             "#fde0ef"
            ],
            [
             0.5,
             "#f7f7f7"
            ],
            [
             0.6,
             "#e6f5d0"
            ],
            [
             0.7,
             "#b8e186"
            ],
            [
             0.8,
             "#7fbc41"
            ],
            [
             0.9,
             "#4d9221"
            ],
            [
             1,
             "#276419"
            ]
           ],
           "sequential": [
            [
             0,
             "#0d0887"
            ],
            [
             0.1111111111111111,
             "#46039f"
            ],
            [
             0.2222222222222222,
             "#7201a8"
            ],
            [
             0.3333333333333333,
             "#9c179e"
            ],
            [
             0.4444444444444444,
             "#bd3786"
            ],
            [
             0.5555555555555556,
             "#d8576b"
            ],
            [
             0.6666666666666666,
             "#ed7953"
            ],
            [
             0.7777777777777778,
             "#fb9f3a"
            ],
            [
             0.8888888888888888,
             "#fdca26"
            ],
            [
             1,
             "#f0f921"
            ]
           ],
           "sequentialminus": [
            [
             0,
             "#0d0887"
            ],
            [
             0.1111111111111111,
             "#46039f"
            ],
            [
             0.2222222222222222,
             "#7201a8"
            ],
            [
             0.3333333333333333,
             "#9c179e"
            ],
            [
             0.4444444444444444,
             "#bd3786"
            ],
            [
             0.5555555555555556,
             "#d8576b"
            ],
            [
             0.6666666666666666,
             "#ed7953"
            ],
            [
             0.7777777777777778,
             "#fb9f3a"
            ],
            [
             0.8888888888888888,
             "#fdca26"
            ],
            [
             1,
             "#f0f921"
            ]
           ]
          },
          "colorway": [
           "#636efa",
           "#EF553B",
           "#00cc96",
           "#ab63fa",
           "#FFA15A",
           "#19d3f3",
           "#FF6692",
           "#B6E880",
           "#FF97FF",
           "#FECB52"
          ],
          "font": {
           "color": "#2a3f5f"
          },
          "geo": {
           "bgcolor": "white",
           "lakecolor": "white",
           "landcolor": "#E5ECF6",
           "showlakes": true,
           "showland": true,
           "subunitcolor": "white"
          },
          "hoverlabel": {
           "align": "left"
          },
          "hovermode": "closest",
          "mapbox": {
           "style": "light"
          },
          "paper_bgcolor": "white",
          "plot_bgcolor": "#E5ECF6",
          "polar": {
           "angularaxis": {
            "gridcolor": "white",
            "linecolor": "white",
            "ticks": ""
           },
           "bgcolor": "#E5ECF6",
           "radialaxis": {
            "gridcolor": "white",
            "linecolor": "white",
            "ticks": ""
           }
          },
          "scene": {
           "xaxis": {
            "backgroundcolor": "#E5ECF6",
            "gridcolor": "white",
            "gridwidth": 2,
            "linecolor": "white",
            "showbackground": true,
            "ticks": "",
            "zerolinecolor": "white"
           },
           "yaxis": {
            "backgroundcolor": "#E5ECF6",
            "gridcolor": "white",
            "gridwidth": 2,
            "linecolor": "white",
            "showbackground": true,
            "ticks": "",
            "zerolinecolor": "white"
           },
           "zaxis": {
            "backgroundcolor": "#E5ECF6",
            "gridcolor": "white",
            "gridwidth": 2,
            "linecolor": "white",
            "showbackground": true,
            "ticks": "",
            "zerolinecolor": "white"
           }
          },
          "shapedefaults": {
           "line": {
            "color": "#2a3f5f"
           }
          },
          "ternary": {
           "aaxis": {
            "gridcolor": "white",
            "linecolor": "white",
            "ticks": ""
           },
           "baxis": {
            "gridcolor": "white",
            "linecolor": "white",
            "ticks": ""
           },
           "bgcolor": "#E5ECF6",
           "caxis": {
            "gridcolor": "white",
            "linecolor": "white",
            "ticks": ""
           }
          },
          "title": {
           "x": 0.05
          },
          "xaxis": {
           "automargin": true,
           "gridcolor": "white",
           "linecolor": "white",
           "ticks": "",
           "title": {
            "standoff": 15
           },
           "zerolinecolor": "white",
           "zerolinewidth": 2
          },
          "yaxis": {
           "automargin": true,
           "gridcolor": "white",
           "linecolor": "white",
           "ticks": "",
           "title": {
            "standoff": 15
           },
           "zerolinecolor": "white",
           "zerolinewidth": 2
          }
         }
        },
        "title": {
         "text": "Total Guests Arrival Per Day"
        },
        "xaxis": {
         "anchor": "y",
         "domain": [
          0,
          1
         ],
         "title": {
          "text": "arrival_date"
         }
        },
        "yaxis": {
         "anchor": "x",
         "domain": [
          0,
          1
         ],
         "title": {
          "text": "guests"
         }
        }
       }
      },
      "text/html": [
       "<div>            <script src=\"https://cdnjs.cloudflare.com/ajax/libs/mathjax/2.7.5/MathJax.js?config=TeX-AMS-MML_SVG\"></script><script type=\"text/javascript\">if (window.MathJax && window.MathJax.Hub && window.MathJax.Hub.Config) {window.MathJax.Hub.Config({SVG: {font: \"STIX-Web\"}});}</script>                <script type=\"text/javascript\">window.PlotlyConfig = {MathJaxConfig: 'local'};</script>\n",
       "        <script charset=\"utf-8\" src=\"https://cdn.plot.ly/plotly-3.0.0.min.js\"></script>                <div id=\"6f365b64-1637-4988-8bf5-07dce4b0de25\" class=\"plotly-graph-div\" style=\"height:525px; width:100%;\"></div>            <script type=\"text/javascript\">                window.PLOTLYENV=window.PLOTLYENV || {};                                if (document.getElementById(\"6f365b64-1637-4988-8bf5-07dce4b0de25\")) {                    Plotly.newPlot(                        \"6f365b64-1637-4988-8bf5-07dce4b0de25\",                        [{\"hovertemplate\":\"arrival_date=%{x}\\u003cbr\\u003eguests=%{y}\\u003cextra\\u003e\\u003c\\u002fextra\\u003e\",\"legendgroup\":\"\",\"line\":{\"color\":\"#636efa\",\"dash\":\"solid\"},\"marker\":{\"symbol\":\"circle\"},\"mode\":\"lines\",\"name\":\"\",\"orientation\":\"v\",\"showlegend\":false,\"x\":[\"2015-07-01T00:00:00.000000000\",\"2015-07-02T00:00:00.000000000\",\"2015-07-03T00:00:00.000000000\",\"2015-07-04T00:00:00.000000000\",\"2015-07-05T00:00:00.000000000\",\"2015-07-06T00:00:00.000000000\",\"2015-07-07T00:00:00.000000000\",\"2015-07-08T00:00:00.000000000\",\"2015-07-09T00:00:00.000000000\",\"2015-07-10T00:00:00.000000000\",\"2015-07-11T00:00:00.000000000\",\"2015-07-12T00:00:00.000000000\",\"2015-07-13T00:00:00.000000000\",\"2015-07-14T00:00:00.000000000\",\"2015-07-15T00:00:00.000000000\",\"2015-07-16T00:00:00.000000000\",\"2015-07-17T00:00:00.000000000\",\"2015-07-18T00:00:00.000000000\",\"2015-07-19T00:00:00.000000000\",\"2015-07-20T00:00:00.000000000\",\"2015-07-21T00:00:00.000000000\",\"2015-07-22T00:00:00.000000000\",\"2015-07-23T00:00:00.000000000\",\"2015-07-24T00:00:00.000000000\",\"2015-07-25T00:00:00.000000000\",\"2015-07-26T00:00:00.000000000\",\"2015-07-27T00:00:00.000000000\",\"2015-07-28T00:00:00.000000000\",\"2015-07-29T00:00:00.000000000\",\"2015-07-30T00:00:00.000000000\",\"2015-07-31T00:00:00.000000000\",\"2015-08-01T00:00:00.000000000\",\"2015-08-02T00:00:00.000000000\",\"2015-08-03T00:00:00.000000000\",\"2015-08-04T00:00:00.000000000\",\"2015-08-05T00:00:00.000000000\",\"2015-08-06T00:00:00.000000000\",\"2015-08-07T00:00:00.000000000\",\"2015-08-08T00:00:00.000000000\",\"2015-08-09T00:00:00.000000000\",\"2015-08-10T00:00:00.000000000\",\"2015-08-11T00:00:00.000000000\",\"2015-08-12T00:00:00.000000000\",\"2015-08-13T00:00:00.000000000\",\"2015-08-14T00:00:00.000000000\",\"2015-08-15T00:00:00.000000000\",\"2015-08-16T00:00:00.000000000\",\"2015-08-17T00:00:00.000000000\",\"2015-08-18T00:00:00.000000000\",\"2015-08-19T00:00:00.000000000\",\"2015-08-20T00:00:00.000000000\",\"2015-08-21T00:00:00.000000000\",\"2015-08-22T00:00:00.000000000\",\"2015-08-23T00:00:00.000000000\",\"2015-08-24T00:00:00.000000000\",\"2015-08-25T00:00:00.000000000\",\"2015-08-26T00:00:00.000000000\",\"2015-08-27T00:00:00.000000000\",\"2015-08-28T00:00:00.000000000\",\"2015-08-29T00:00:00.000000000\",\"2015-08-30T00:00:00.000000000\",\"2015-08-31T00:00:00.000000000\",\"2015-09-01T00:00:00.000000000\",\"2015-09-02T00:00:00.000000000\",\"2015-09-03T00:00:00.000000000\",\"2015-09-04T00:00:00.000000000\",\"2015-09-05T00:00:00.000000000\",\"2015-09-06T00:00:00.000000000\",\"2015-09-07T00:00:00.000000000\",\"2015-09-08T00:00:00.000000000\",\"2015-09-09T00:00:00.000000000\",\"2015-09-10T00:00:00.000000000\",\"2015-09-11T00:00:00.000000000\",\"2015-09-12T00:00:00.000000000\",\"2015-09-13T00:00:00.000000000\",\"2015-09-14T00:00:00.000000000\",\"2015-09-15T00:00:00.000000000\",\"2015-09-16T00:00:00.000000000\",\"2015-09-17T00:00:00.000000000\",\"2015-09-18T00:00:00.000000000\",\"2015-09-19T00:00:00.000000000\",\"2015-09-20T00:00:00.000000000\",\"2015-09-21T00:00:00.000000000\",\"2015-09-22T00:00:00.000000000\",\"2015-09-23T00:00:00.000000000\",\"2015-09-24T00:00:00.000000000\",\"2015-09-25T00:00:00.000000000\",\"2015-09-26T00:00:00.000000000\",\"2015-09-27T00:00:00.000000000\",\"2015-09-28T00:00:00.000000000\",\"2015-09-29T00:00:00.000000000\",\"2015-09-30T00:00:00.000000000\",\"2015-10-01T00:00:00.000000000\",\"2015-10-02T00:00:00.000000000\",\"2015-10-03T00:00:00.000000000\",\"2015-10-04T00:00:00.000000000\",\"2015-10-05T00:00:00.000000000\",\"2015-10-06T00:00:00.000000000\",\"2015-10-07T00:00:00.000000000\",\"2015-10-08T00:00:00.000000000\",\"2015-10-09T00:00:00.000000000\",\"2015-10-10T00:00:00.000000000\",\"2015-10-11T00:00:00.000000000\",\"2015-10-12T00:00:00.000000000\",\"2015-10-13T00:00:00.000000000\",\"2015-10-14T00:00:00.000000000\",\"2015-10-15T00:00:00.000000000\",\"2015-10-16T00:00:00.000000000\",\"2015-10-17T00:00:00.000000000\",\"2015-10-18T00:00:00.000000000\",\"2015-10-19T00:00:00.000000000\",\"2015-10-20T00:00:00.000000000\",\"2015-10-21T00:00:00.000000000\",\"2015-10-22T00:00:00.000000000\",\"2015-10-23T00:00:00.000000000\",\"2015-10-24T00:00:00.000000000\",\"2015-10-25T00:00:00.000000000\",\"2015-10-26T00:00:00.000000000\",\"2015-10-27T00:00:00.000000000\",\"2015-10-28T00:00:00.000000000\",\"2015-10-29T00:00:00.000000000\",\"2015-10-30T00:00:00.000000000\",\"2015-10-31T00:00:00.000000000\",\"2015-11-01T00:00:00.000000000\",\"2015-11-02T00:00:00.000000000\",\"2015-11-03T00:00:00.000000000\",\"2015-11-04T00:00:00.000000000\",\"2015-11-05T00:00:00.000000000\",\"2015-11-06T00:00:00.000000000\",\"2015-11-07T00:00:00.000000000\",\"2015-11-08T00:00:00.000000000\",\"2015-11-09T00:00:00.000000000\",\"2015-11-10T00:00:00.000000000\",\"2015-11-11T00:00:00.000000000\",\"2015-11-12T00:00:00.000000000\",\"2015-11-13T00:00:00.000000000\",\"2015-11-14T00:00:00.000000000\",\"2015-11-15T00:00:00.000000000\",\"2015-11-16T00:00:00.000000000\",\"2015-11-17T00:00:00.000000000\",\"2015-11-18T00:00:00.000000000\",\"2015-11-19T00:00:00.000000000\",\"2015-11-20T00:00:00.000000000\",\"2015-11-21T00:00:00.000000000\",\"2015-11-22T00:00:00.000000000\",\"2015-11-23T00:00:00.000000000\",\"2015-11-24T00:00:00.000000000\",\"2015-11-25T00:00:00.000000000\",\"2015-11-26T00:00:00.000000000\",\"2015-11-27T00:00:00.000000000\",\"2015-11-28T00:00:00.000000000\",\"2015-11-29T00:00:00.000000000\",\"2015-11-30T00:00:00.000000000\",\"2015-12-01T00:00:00.000000000\",\"2015-12-02T00:00:00.000000000\",\"2015-12-03T00:00:00.000000000\",\"2015-12-04T00:00:00.000000000\",\"2015-12-05T00:00:00.000000000\",\"2015-12-06T00:00:00.000000000\",\"2015-12-07T00:00:00.000000000\",\"2015-12-08T00:00:00.000000000\",\"2015-12-09T00:00:00.000000000\",\"2015-12-10T00:00:00.000000000\",\"2015-12-11T00:00:00.000000000\",\"2015-12-12T00:00:00.000000000\",\"2015-12-13T00:00:00.000000000\",\"2015-12-14T00:00:00.000000000\",\"2015-12-15T00:00:00.000000000\",\"2015-12-16T00:00:00.000000000\",\"2015-12-17T00:00:00.000000000\",\"2015-12-18T00:00:00.000000000\",\"2015-12-19T00:00:00.000000000\",\"2015-12-20T00:00:00.000000000\",\"2015-12-21T00:00:00.000000000\",\"2015-12-22T00:00:00.000000000\",\"2015-12-23T00:00:00.000000000\",\"2015-12-24T00:00:00.000000000\",\"2015-12-25T00:00:00.000000000\",\"2015-12-26T00:00:00.000000000\",\"2015-12-27T00:00:00.000000000\",\"2015-12-28T00:00:00.000000000\",\"2015-12-29T00:00:00.000000000\",\"2015-12-30T00:00:00.000000000\",\"2015-12-31T00:00:00.000000000\",\"2016-01-01T00:00:00.000000000\",\"2016-01-02T00:00:00.000000000\",\"2016-01-03T00:00:00.000000000\",\"2016-01-04T00:00:00.000000000\",\"2016-01-05T00:00:00.000000000\",\"2016-01-06T00:00:00.000000000\",\"2016-01-07T00:00:00.000000000\",\"2016-01-08T00:00:00.000000000\",\"2016-01-09T00:00:00.000000000\",\"2016-01-10T00:00:00.000000000\",\"2016-01-11T00:00:00.000000000\",\"2016-01-12T00:00:00.000000000\",\"2016-01-13T00:00:00.000000000\",\"2016-01-14T00:00:00.000000000\",\"2016-01-15T00:00:00.000000000\",\"2016-01-16T00:00:00.000000000\",\"2016-01-17T00:00:00.000000000\",\"2016-01-18T00:00:00.000000000\",\"2016-01-19T00:00:00.000000000\",\"2016-01-20T00:00:00.000000000\",\"2016-01-21T00:00:00.000000000\",\"2016-01-22T00:00:00.000000000\",\"2016-01-23T00:00:00.000000000\",\"2016-01-24T00:00:00.000000000\",\"2016-01-25T00:00:00.000000000\",\"2016-01-26T00:00:00.000000000\",\"2016-01-27T00:00:00.000000000\",\"2016-01-28T00:00:00.000000000\",\"2016-01-29T00:00:00.000000000\",\"2016-01-30T00:00:00.000000000\",\"2016-01-31T00:00:00.000000000\",\"2016-02-01T00:00:00.000000000\",\"2016-02-02T00:00:00.000000000\",\"2016-02-03T00:00:00.000000000\",\"2016-02-04T00:00:00.000000000\",\"2016-02-05T00:00:00.000000000\",\"2016-02-06T00:00:00.000000000\",\"2016-02-07T00:00:00.000000000\",\"2016-02-08T00:00:00.000000000\",\"2016-02-09T00:00:00.000000000\",\"2016-02-10T00:00:00.000000000\",\"2016-02-11T00:00:00.000000000\",\"2016-02-12T00:00:00.000000000\",\"2016-02-13T00:00:00.000000000\",\"2016-02-14T00:00:00.000000000\",\"2016-02-15T00:00:00.000000000\",\"2016-02-16T00:00:00.000000000\",\"2016-02-17T00:00:00.000000000\",\"2016-02-18T00:00:00.000000000\",\"2016-02-19T00:00:00.000000000\",\"2016-02-20T00:00:00.000000000\",\"2016-02-21T00:00:00.000000000\",\"2016-02-22T00:00:00.000000000\",\"2016-02-23T00:00:00.000000000\",\"2016-02-24T00:00:00.000000000\",\"2016-02-25T00:00:00.000000000\",\"2016-02-26T00:00:00.000000000\",\"2016-02-27T00:00:00.000000000\",\"2016-02-28T00:00:00.000000000\",\"2016-02-29T00:00:00.000000000\",\"2016-03-01T00:00:00.000000000\",\"2016-03-02T00:00:00.000000000\",\"2016-03-03T00:00:00.000000000\",\"2016-03-04T00:00:00.000000000\",\"2016-03-05T00:00:00.000000000\",\"2016-03-06T00:00:00.000000000\",\"2016-03-07T00:00:00.000000000\",\"2016-03-08T00:00:00.000000000\",\"2016-03-09T00:00:00.000000000\",\"2016-03-10T00:00:00.000000000\",\"2016-03-11T00:00:00.000000000\",\"2016-03-12T00:00:00.000000000\",\"2016-03-13T00:00:00.000000000\",\"2016-03-14T00:00:00.000000000\",\"2016-03-15T00:00:00.000000000\",\"2016-03-16T00:00:00.000000000\",\"2016-03-17T00:00:00.000000000\",\"2016-03-18T00:00:00.000000000\",\"2016-03-19T00:00:00.000000000\",\"2016-03-20T00:00:00.000000000\",\"2016-03-21T00:00:00.000000000\",\"2016-03-22T00:00:00.000000000\",\"2016-03-23T00:00:00.000000000\",\"2016-03-24T00:00:00.000000000\",\"2016-03-25T00:00:00.000000000\",\"2016-03-26T00:00:00.000000000\",\"2016-03-27T00:00:00.000000000\",\"2016-03-28T00:00:00.000000000\",\"2016-03-29T00:00:00.000000000\",\"2016-03-30T00:00:00.000000000\",\"2016-03-31T00:00:00.000000000\",\"2016-04-01T00:00:00.000000000\",\"2016-04-02T00:00:00.000000000\",\"2016-04-03T00:00:00.000000000\",\"2016-04-04T00:00:00.000000000\",\"2016-04-05T00:00:00.000000000\",\"2016-04-06T00:00:00.000000000\",\"2016-04-07T00:00:00.000000000\",\"2016-04-08T00:00:00.000000000\",\"2016-04-09T00:00:00.000000000\",\"2016-04-10T00:00:00.000000000\",\"2016-04-11T00:00:00.000000000\",\"2016-04-12T00:00:00.000000000\",\"2016-04-13T00:00:00.000000000\",\"2016-04-14T00:00:00.000000000\",\"2016-04-15T00:00:00.000000000\",\"2016-04-16T00:00:00.000000000\",\"2016-04-17T00:00:00.000000000\",\"2016-04-18T00:00:00.000000000\",\"2016-04-19T00:00:00.000000000\",\"2016-04-20T00:00:00.000000000\",\"2016-04-21T00:00:00.000000000\",\"2016-04-22T00:00:00.000000000\",\"2016-04-23T00:00:00.000000000\",\"2016-04-24T00:00:00.000000000\",\"2016-04-25T00:00:00.000000000\",\"2016-04-26T00:00:00.000000000\",\"2016-04-27T00:00:00.000000000\",\"2016-04-28T00:00:00.000000000\",\"2016-04-29T00:00:00.000000000\",\"2016-04-30T00:00:00.000000000\",\"2016-05-01T00:00:00.000000000\",\"2016-05-02T00:00:00.000000000\",\"2016-05-03T00:00:00.000000000\",\"2016-05-04T00:00:00.000000000\",\"2016-05-05T00:00:00.000000000\",\"2016-05-06T00:00:00.000000000\",\"2016-05-07T00:00:00.000000000\",\"2016-05-08T00:00:00.000000000\",\"2016-05-09T00:00:00.000000000\",\"2016-05-10T00:00:00.000000000\",\"2016-05-11T00:00:00.000000000\",\"2016-05-12T00:00:00.000000000\",\"2016-05-13T00:00:00.000000000\",\"2016-05-14T00:00:00.000000000\",\"2016-05-15T00:00:00.000000000\",\"2016-05-16T00:00:00.000000000\",\"2016-05-17T00:00:00.000000000\",\"2016-05-18T00:00:00.000000000\",\"2016-05-19T00:00:00.000000000\",\"2016-05-20T00:00:00.000000000\",\"2016-05-21T00:00:00.000000000\",\"2016-05-22T00:00:00.000000000\",\"2016-05-23T00:00:00.000000000\",\"2016-05-24T00:00:00.000000000\",\"2016-05-25T00:00:00.000000000\",\"2016-05-26T00:00:00.000000000\",\"2016-05-27T00:00:00.000000000\",\"2016-05-28T00:00:00.000000000\",\"2016-05-29T00:00:00.000000000\",\"2016-05-30T00:00:00.000000000\",\"2016-05-31T00:00:00.000000000\",\"2016-06-01T00:00:00.000000000\",\"2016-06-02T00:00:00.000000000\",\"2016-06-03T00:00:00.000000000\",\"2016-06-04T00:00:00.000000000\",\"2016-06-05T00:00:00.000000000\",\"2016-06-06T00:00:00.000000000\",\"2016-06-07T00:00:00.000000000\",\"2016-06-08T00:00:00.000000000\",\"2016-06-09T00:00:00.000000000\",\"2016-06-10T00:00:00.000000000\",\"2016-06-11T00:00:00.000000000\",\"2016-06-12T00:00:00.000000000\",\"2016-06-13T00:00:00.000000000\",\"2016-06-14T00:00:00.000000000\",\"2016-06-15T00:00:00.000000000\",\"2016-06-16T00:00:00.000000000\",\"2016-06-17T00:00:00.000000000\",\"2016-06-18T00:00:00.000000000\",\"2016-06-19T00:00:00.000000000\",\"2016-06-20T00:00:00.000000000\",\"2016-06-21T00:00:00.000000000\",\"2016-06-22T00:00:00.000000000\",\"2016-06-23T00:00:00.000000000\",\"2016-06-24T00:00:00.000000000\",\"2016-06-25T00:00:00.000000000\",\"2016-06-26T00:00:00.000000000\",\"2016-06-27T00:00:00.000000000\",\"2016-06-28T00:00:00.000000000\",\"2016-06-29T00:00:00.000000000\",\"2016-06-30T00:00:00.000000000\",\"2016-07-01T00:00:00.000000000\",\"2016-07-02T00:00:00.000000000\",\"2016-07-03T00:00:00.000000000\",\"2016-07-04T00:00:00.000000000\",\"2016-07-05T00:00:00.000000000\",\"2016-07-06T00:00:00.000000000\",\"2016-07-07T00:00:00.000000000\",\"2016-07-08T00:00:00.000000000\",\"2016-07-09T00:00:00.000000000\",\"2016-07-10T00:00:00.000000000\",\"2016-07-11T00:00:00.000000000\",\"2016-07-12T00:00:00.000000000\",\"2016-07-13T00:00:00.000000000\",\"2016-07-14T00:00:00.000000000\",\"2016-07-15T00:00:00.000000000\",\"2016-07-16T00:00:00.000000000\",\"2016-07-17T00:00:00.000000000\",\"2016-07-18T00:00:00.000000000\",\"2016-07-19T00:00:00.000000000\",\"2016-07-20T00:00:00.000000000\",\"2016-07-21T00:00:00.000000000\",\"2016-07-22T00:00:00.000000000\",\"2016-07-23T00:00:00.000000000\",\"2016-07-24T00:00:00.000000000\",\"2016-07-25T00:00:00.000000000\",\"2016-07-26T00:00:00.000000000\",\"2016-07-27T00:00:00.000000000\",\"2016-07-28T00:00:00.000000000\",\"2016-07-29T00:00:00.000000000\",\"2016-07-30T00:00:00.000000000\",\"2016-07-31T00:00:00.000000000\",\"2016-08-01T00:00:00.000000000\",\"2016-08-02T00:00:00.000000000\",\"2016-08-03T00:00:00.000000000\",\"2016-08-04T00:00:00.000000000\",\"2016-08-05T00:00:00.000000000\",\"2016-08-06T00:00:00.000000000\",\"2016-08-07T00:00:00.000000000\",\"2016-08-08T00:00:00.000000000\",\"2016-08-09T00:00:00.000000000\",\"2016-08-10T00:00:00.000000000\",\"2016-08-11T00:00:00.000000000\",\"2016-08-12T00:00:00.000000000\",\"2016-08-13T00:00:00.000000000\",\"2016-08-14T00:00:00.000000000\",\"2016-08-15T00:00:00.000000000\",\"2016-08-16T00:00:00.000000000\",\"2016-08-17T00:00:00.000000000\",\"2016-08-18T00:00:00.000000000\",\"2016-08-19T00:00:00.000000000\",\"2016-08-20T00:00:00.000000000\",\"2016-08-21T00:00:00.000000000\",\"2016-08-22T00:00:00.000000000\",\"2016-08-23T00:00:00.000000000\",\"2016-08-24T00:00:00.000000000\",\"2016-08-25T00:00:00.000000000\",\"2016-08-26T00:00:00.000000000\",\"2016-08-27T00:00:00.000000000\",\"2016-08-28T00:00:00.000000000\",\"2016-08-29T00:00:00.000000000\",\"2016-08-30T00:00:00.000000000\",\"2016-08-31T00:00:00.000000000\",\"2016-09-01T00:00:00.000000000\",\"2016-09-02T00:00:00.000000000\",\"2016-09-03T00:00:00.000000000\",\"2016-09-04T00:00:00.000000000\",\"2016-09-05T00:00:00.000000000\",\"2016-09-06T00:00:00.000000000\",\"2016-09-07T00:00:00.000000000\",\"2016-09-08T00:00:00.000000000\",\"2016-09-09T00:00:00.000000000\",\"2016-09-10T00:00:00.000000000\",\"2016-09-11T00:00:00.000000000\",\"2016-09-12T00:00:00.000000000\",\"2016-09-13T00:00:00.000000000\",\"2016-09-14T00:00:00.000000000\",\"2016-09-15T00:00:00.000000000\",\"2016-09-16T00:00:00.000000000\",\"2016-09-17T00:00:00.000000000\",\"2016-09-18T00:00:00.000000000\",\"2016-09-19T00:00:00.000000000\",\"2016-09-20T00:00:00.000000000\",\"2016-09-21T00:00:00.000000000\",\"2016-09-22T00:00:00.000000000\",\"2016-09-23T00:00:00.000000000\",\"2016-09-24T00:00:00.000000000\",\"2016-09-25T00:00:00.000000000\",\"2016-09-26T00:00:00.000000000\",\"2016-09-27T00:00:00.000000000\",\"2016-09-28T00:00:00.000000000\",\"2016-09-29T00:00:00.000000000\",\"2016-09-30T00:00:00.000000000\",\"2016-10-01T00:00:00.000000000\",\"2016-10-02T00:00:00.000000000\",\"2016-10-03T00:00:00.000000000\",\"2016-10-04T00:00:00.000000000\",\"2016-10-05T00:00:00.000000000\",\"2016-10-06T00:00:00.000000000\",\"2016-10-07T00:00:00.000000000\",\"2016-10-08T00:00:00.000000000\",\"2016-10-09T00:00:00.000000000\",\"2016-10-10T00:00:00.000000000\",\"2016-10-11T00:00:00.000000000\",\"2016-10-12T00:00:00.000000000\",\"2016-10-13T00:00:00.000000000\",\"2016-10-14T00:00:00.000000000\",\"2016-10-15T00:00:00.000000000\",\"2016-10-16T00:00:00.000000000\",\"2016-10-17T00:00:00.000000000\",\"2016-10-18T00:00:00.000000000\",\"2016-10-19T00:00:00.000000000\",\"2016-10-20T00:00:00.000000000\",\"2016-10-21T00:00:00.000000000\",\"2016-10-22T00:00:00.000000000\",\"2016-10-23T00:00:00.000000000\",\"2016-10-24T00:00:00.000000000\",\"2016-10-25T00:00:00.000000000\",\"2016-10-26T00:00:00.000000000\",\"2016-10-27T00:00:00.000000000\",\"2016-10-28T00:00:00.000000000\",\"2016-10-29T00:00:00.000000000\",\"2016-10-30T00:00:00.000000000\",\"2016-10-31T00:00:00.000000000\",\"2016-11-01T00:00:00.000000000\",\"2016-11-02T00:00:00.000000000\",\"2016-11-03T00:00:00.000000000\",\"2016-11-04T00:00:00.000000000\",\"2016-11-05T00:00:00.000000000\",\"2016-11-06T00:00:00.000000000\",\"2016-11-07T00:00:00.000000000\",\"2016-11-08T00:00:00.000000000\",\"2016-11-09T00:00:00.000000000\",\"2016-11-10T00:00:00.000000000\",\"2016-11-11T00:00:00.000000000\",\"2016-11-12T00:00:00.000000000\",\"2016-11-13T00:00:00.000000000\",\"2016-11-14T00:00:00.000000000\",\"2016-11-15T00:00:00.000000000\",\"2016-11-16T00:00:00.000000000\",\"2016-11-17T00:00:00.000000000\",\"2016-11-18T00:00:00.000000000\",\"2016-11-19T00:00:00.000000000\",\"2016-11-20T00:00:00.000000000\",\"2016-11-21T00:00:00.000000000\",\"2016-11-22T00:00:00.000000000\",\"2016-11-23T00:00:00.000000000\",\"2016-11-24T00:00:00.000000000\",\"2016-11-25T00:00:00.000000000\",\"2016-11-26T00:00:00.000000000\",\"2016-11-27T00:00:00.000000000\",\"2016-11-28T00:00:00.000000000\",\"2016-11-29T00:00:00.000000000\",\"2016-11-30T00:00:00.000000000\",\"2016-12-01T00:00:00.000000000\",\"2016-12-02T00:00:00.000000000\",\"2016-12-03T00:00:00.000000000\",\"2016-12-04T00:00:00.000000000\",\"2016-12-05T00:00:00.000000000\",\"2016-12-06T00:00:00.000000000\",\"2016-12-07T00:00:00.000000000\",\"2016-12-08T00:00:00.000000000\",\"2016-12-09T00:00:00.000000000\",\"2016-12-10T00:00:00.000000000\",\"2016-12-11T00:00:00.000000000\",\"2016-12-12T00:00:00.000000000\",\"2016-12-13T00:00:00.000000000\",\"2016-12-14T00:00:00.000000000\",\"2016-12-15T00:00:00.000000000\",\"2016-12-16T00:00:00.000000000\",\"2016-12-17T00:00:00.000000000\",\"2016-12-18T00:00:00.000000000\",\"2016-12-19T00:00:00.000000000\",\"2016-12-20T00:00:00.000000000\",\"2016-12-21T00:00:00.000000000\",\"2016-12-22T00:00:00.000000000\",\"2016-12-23T00:00:00.000000000\",\"2016-12-24T00:00:00.000000000\",\"2016-12-25T00:00:00.000000000\",\"2016-12-26T00:00:00.000000000\",\"2016-12-27T00:00:00.000000000\",\"2016-12-28T00:00:00.000000000\",\"2016-12-29T00:00:00.000000000\",\"2016-12-30T00:00:00.000000000\",\"2016-12-31T00:00:00.000000000\",\"2017-01-01T00:00:00.000000000\",\"2017-01-02T00:00:00.000000000\",\"2017-01-03T00:00:00.000000000\",\"2017-01-04T00:00:00.000000000\",\"2017-01-05T00:00:00.000000000\",\"2017-01-06T00:00:00.000000000\",\"2017-01-07T00:00:00.000000000\",\"2017-01-08T00:00:00.000000000\",\"2017-01-09T00:00:00.000000000\",\"2017-01-10T00:00:00.000000000\",\"2017-01-11T00:00:00.000000000\",\"2017-01-12T00:00:00.000000000\",\"2017-01-13T00:00:00.000000000\",\"2017-01-14T00:00:00.000000000\",\"2017-01-15T00:00:00.000000000\",\"2017-01-16T00:00:00.000000000\",\"2017-01-17T00:00:00.000000000\",\"2017-01-18T00:00:00.000000000\",\"2017-01-19T00:00:00.000000000\",\"2017-01-20T00:00:00.000000000\",\"2017-01-21T00:00:00.000000000\",\"2017-01-22T00:00:00.000000000\",\"2017-01-23T00:00:00.000000000\",\"2017-01-24T00:00:00.000000000\",\"2017-01-25T00:00:00.000000000\",\"2017-01-26T00:00:00.000000000\",\"2017-01-27T00:00:00.000000000\",\"2017-01-28T00:00:00.000000000\",\"2017-01-29T00:00:00.000000000\",\"2017-01-30T00:00:00.000000000\",\"2017-01-31T00:00:00.000000000\",\"2017-02-01T00:00:00.000000000\",\"2017-02-02T00:00:00.000000000\",\"2017-02-03T00:00:00.000000000\",\"2017-02-04T00:00:00.000000000\",\"2017-02-05T00:00:00.000000000\",\"2017-02-06T00:00:00.000000000\",\"2017-02-07T00:00:00.000000000\",\"2017-02-08T00:00:00.000000000\",\"2017-02-09T00:00:00.000000000\",\"2017-02-10T00:00:00.000000000\",\"2017-02-11T00:00:00.000000000\",\"2017-02-12T00:00:00.000000000\",\"2017-02-13T00:00:00.000000000\",\"2017-02-14T00:00:00.000000000\",\"2017-02-15T00:00:00.000000000\",\"2017-02-16T00:00:00.000000000\",\"2017-02-17T00:00:00.000000000\",\"2017-02-18T00:00:00.000000000\",\"2017-02-19T00:00:00.000000000\",\"2017-02-20T00:00:00.000000000\",\"2017-02-21T00:00:00.000000000\",\"2017-02-22T00:00:00.000000000\",\"2017-02-23T00:00:00.000000000\",\"2017-02-24T00:00:00.000000000\",\"2017-02-25T00:00:00.000000000\",\"2017-02-26T00:00:00.000000000\",\"2017-02-27T00:00:00.000000000\",\"2017-02-28T00:00:00.000000000\",\"2017-03-01T00:00:00.000000000\",\"2017-03-02T00:00:00.000000000\",\"2017-03-03T00:00:00.000000000\",\"2017-03-04T00:00:00.000000000\",\"2017-03-05T00:00:00.000000000\",\"2017-03-06T00:00:00.000000000\",\"2017-03-07T00:00:00.000000000\",\"2017-03-08T00:00:00.000000000\",\"2017-03-09T00:00:00.000000000\",\"2017-03-10T00:00:00.000000000\",\"2017-03-11T00:00:00.000000000\",\"2017-03-12T00:00:00.000000000\",\"2017-03-13T00:00:00.000000000\",\"2017-03-14T00:00:00.000000000\",\"2017-03-15T00:00:00.000000000\",\"2017-03-16T00:00:00.000000000\",\"2017-03-17T00:00:00.000000000\",\"2017-03-18T00:00:00.000000000\",\"2017-03-19T00:00:00.000000000\",\"2017-03-20T00:00:00.000000000\",\"2017-03-21T00:00:00.000000000\",\"2017-03-22T00:00:00.000000000\",\"2017-03-23T00:00:00.000000000\",\"2017-03-24T00:00:00.000000000\",\"2017-03-25T00:00:00.000000000\",\"2017-03-26T00:00:00.000000000\",\"2017-03-27T00:00:00.000000000\",\"2017-03-28T00:00:00.000000000\",\"2017-03-29T00:00:00.000000000\",\"2017-03-30T00:00:00.000000000\",\"2017-03-31T00:00:00.000000000\",\"2017-04-01T00:00:00.000000000\",\"2017-04-02T00:00:00.000000000\",\"2017-04-03T00:00:00.000000000\",\"2017-04-04T00:00:00.000000000\",\"2017-04-05T00:00:00.000000000\",\"2017-04-06T00:00:00.000000000\",\"2017-04-07T00:00:00.000000000\",\"2017-04-08T00:00:00.000000000\",\"2017-04-09T00:00:00.000000000\",\"2017-04-10T00:00:00.000000000\",\"2017-04-11T00:00:00.000000000\",\"2017-04-12T00:00:00.000000000\",\"2017-04-13T00:00:00.000000000\",\"2017-04-14T00:00:00.000000000\",\"2017-04-15T00:00:00.000000000\",\"2017-04-16T00:00:00.000000000\",\"2017-04-17T00:00:00.000000000\",\"2017-04-18T00:00:00.000000000\",\"2017-04-19T00:00:00.000000000\",\"2017-04-20T00:00:00.000000000\",\"2017-04-21T00:00:00.000000000\",\"2017-04-22T00:00:00.000000000\",\"2017-04-23T00:00:00.000000000\",\"2017-04-24T00:00:00.000000000\",\"2017-04-25T00:00:00.000000000\",\"2017-04-26T00:00:00.000000000\",\"2017-04-27T00:00:00.000000000\",\"2017-04-28T00:00:00.000000000\",\"2017-04-29T00:00:00.000000000\",\"2017-04-30T00:00:00.000000000\",\"2017-05-01T00:00:00.000000000\",\"2017-05-02T00:00:00.000000000\",\"2017-05-03T00:00:00.000000000\",\"2017-05-04T00:00:00.000000000\",\"2017-05-05T00:00:00.000000000\",\"2017-05-06T00:00:00.000000000\",\"2017-05-07T00:00:00.000000000\",\"2017-05-08T00:00:00.000000000\",\"2017-05-09T00:00:00.000000000\",\"2017-05-10T00:00:00.000000000\",\"2017-05-11T00:00:00.000000000\",\"2017-05-12T00:00:00.000000000\",\"2017-05-13T00:00:00.000000000\",\"2017-05-14T00:00:00.000000000\",\"2017-05-15T00:00:00.000000000\",\"2017-05-16T00:00:00.000000000\",\"2017-05-17T00:00:00.000000000\",\"2017-05-18T00:00:00.000000000\",\"2017-05-19T00:00:00.000000000\",\"2017-05-20T00:00:00.000000000\",\"2017-05-21T00:00:00.000000000\",\"2017-05-22T00:00:00.000000000\",\"2017-05-23T00:00:00.000000000\",\"2017-05-24T00:00:00.000000000\",\"2017-05-25T00:00:00.000000000\",\"2017-05-26T00:00:00.000000000\",\"2017-05-27T00:00:00.000000000\",\"2017-05-28T00:00:00.000000000\",\"2017-05-29T00:00:00.000000000\",\"2017-05-30T00:00:00.000000000\",\"2017-05-31T00:00:00.000000000\",\"2017-06-01T00:00:00.000000000\",\"2017-06-02T00:00:00.000000000\",\"2017-06-03T00:00:00.000000000\",\"2017-06-04T00:00:00.000000000\",\"2017-06-05T00:00:00.000000000\",\"2017-06-06T00:00:00.000000000\",\"2017-06-07T00:00:00.000000000\",\"2017-06-08T00:00:00.000000000\",\"2017-06-09T00:00:00.000000000\",\"2017-06-10T00:00:00.000000000\",\"2017-06-11T00:00:00.000000000\",\"2017-06-12T00:00:00.000000000\",\"2017-06-13T00:00:00.000000000\",\"2017-06-14T00:00:00.000000000\",\"2017-06-15T00:00:00.000000000\",\"2017-06-16T00:00:00.000000000\",\"2017-06-17T00:00:00.000000000\",\"2017-06-18T00:00:00.000000000\",\"2017-06-19T00:00:00.000000000\",\"2017-06-20T00:00:00.000000000\",\"2017-06-21T00:00:00.000000000\",\"2017-06-22T00:00:00.000000000\",\"2017-06-23T00:00:00.000000000\",\"2017-06-24T00:00:00.000000000\",\"2017-06-25T00:00:00.000000000\",\"2017-06-26T00:00:00.000000000\",\"2017-06-27T00:00:00.000000000\",\"2017-06-28T00:00:00.000000000\",\"2017-06-29T00:00:00.000000000\",\"2017-06-30T00:00:00.000000000\",\"2017-07-01T00:00:00.000000000\",\"2017-07-02T00:00:00.000000000\",\"2017-07-03T00:00:00.000000000\",\"2017-07-04T00:00:00.000000000\",\"2017-07-05T00:00:00.000000000\",\"2017-07-06T00:00:00.000000000\",\"2017-07-07T00:00:00.000000000\",\"2017-07-08T00:00:00.000000000\",\"2017-07-09T00:00:00.000000000\",\"2017-07-10T00:00:00.000000000\",\"2017-07-11T00:00:00.000000000\",\"2017-07-12T00:00:00.000000000\",\"2017-07-13T00:00:00.000000000\",\"2017-07-14T00:00:00.000000000\",\"2017-07-15T00:00:00.000000000\",\"2017-07-16T00:00:00.000000000\",\"2017-07-17T00:00:00.000000000\",\"2017-07-18T00:00:00.000000000\",\"2017-07-19T00:00:00.000000000\",\"2017-07-20T00:00:00.000000000\",\"2017-07-21T00:00:00.000000000\",\"2017-07-22T00:00:00.000000000\",\"2017-07-23T00:00:00.000000000\",\"2017-07-24T00:00:00.000000000\",\"2017-07-25T00:00:00.000000000\",\"2017-07-26T00:00:00.000000000\",\"2017-07-27T00:00:00.000000000\",\"2017-07-28T00:00:00.000000000\",\"2017-07-29T00:00:00.000000000\",\"2017-07-30T00:00:00.000000000\",\"2017-07-31T00:00:00.000000000\",\"2017-08-01T00:00:00.000000000\",\"2017-08-02T00:00:00.000000000\",\"2017-08-03T00:00:00.000000000\",\"2017-08-04T00:00:00.000000000\",\"2017-08-05T00:00:00.000000000\",\"2017-08-06T00:00:00.000000000\",\"2017-08-07T00:00:00.000000000\",\"2017-08-08T00:00:00.000000000\",\"2017-08-09T00:00:00.000000000\",\"2017-08-10T00:00:00.000000000\",\"2017-08-11T00:00:00.000000000\",\"2017-08-12T00:00:00.000000000\",\"2017-08-13T00:00:00.000000000\",\"2017-08-14T00:00:00.000000000\",\"2017-08-15T00:00:00.000000000\",\"2017-08-16T00:00:00.000000000\",\"2017-08-17T00:00:00.000000000\",\"2017-08-18T00:00:00.000000000\",\"2017-08-19T00:00:00.000000000\",\"2017-08-20T00:00:00.000000000\",\"2017-08-21T00:00:00.000000000\",\"2017-08-22T00:00:00.000000000\",\"2017-08-23T00:00:00.000000000\",\"2017-08-24T00:00:00.000000000\",\"2017-08-25T00:00:00.000000000\",\"2017-08-26T00:00:00.000000000\",\"2017-08-27T00:00:00.000000000\",\"2017-08-28T00:00:00.000000000\",\"2017-08-29T00:00:00.000000000\",\"2017-08-30T00:00:00.000000000\",\"2017-08-31T00:00:00.000000000\"],\"xaxis\":\"x\",\"y\":{\"dtype\":\"f8\",\"bdata\":\"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\"},\"yaxis\":\"y\",\"type\":\"scatter\"}],                        {\"template\":{\"data\":{\"histogram2dcontour\":[{\"type\":\"histogram2dcontour\",\"colorbar\":{\"outlinewidth\":0,\"ticks\":\"\"},\"colorscale\":[[0.0,\"#0d0887\"],[0.1111111111111111,\"#46039f\"],[0.2222222222222222,\"#7201a8\"],[0.3333333333333333,\"#9c179e\"],[0.4444444444444444,\"#bd3786\"],[0.5555555555555556,\"#d8576b\"],[0.6666666666666666,\"#ed7953\"],[0.7777777777777778,\"#fb9f3a\"],[0.8888888888888888,\"#fdca26\"],[1.0,\"#f0f921\"]]}],\"choropleth\":[{\"type\":\"choropleth\",\"colorbar\":{\"outlinewidth\":0,\"ticks\":\"\"}}],\"histogram2d\":[{\"type\":\"histogram2d\",\"colorbar\":{\"outlinewidth\":0,\"ticks\":\"\"},\"colorscale\":[[0.0,\"#0d0887\"],[0.1111111111111111,\"#46039f\"],[0.2222222222222222,\"#7201a8\"],[0.3333333333333333,\"#9c179e\"],[0.4444444444444444,\"#bd3786\"],[0.5555555555555556,\"#d8576b\"],[0.6666666666666666,\"#ed7953\"],[0.7777777777777778,\"#fb9f3a\"],[0.8888888888888888,\"#fdca26\"],[1.0,\"#f0f921\"]]}],\"heatmap\":[{\"type\":\"heatmap\",\"colorbar\":{\"outlinewidth\":0,\"ticks\":\"\"},\"colorscale\":[[0.0,\"#0d0887\"],[0.1111111111111111,\"#46039f\"],[0.2222222222222222,\"#7201a8\"],[0.3333333333333333,\"#9c179e\"],[0.4444444444444444,\"#bd3786\"],[0.5555555555555556,\"#d8576b\"],[0.6666666666666666,\"#ed7953\"],[0.7777777777777778,\"#fb9f3a\"],[0.8888888888888888,\"#fdca26\"],[1.0,\"#f0f921\"]]}],\"contourcarpet\":[{\"type\":\"contourcarpet\",\"colorbar\":{\"outlinewidth\":0,\"ticks\":\"\"}}],\"contour\":[{\"type\":\"contour\",\"colorbar\":{\"outlinewidth\":0,\"ticks\":\"\"},\"colorscale\":[[0.0,\"#0d0887\"],[0.1111111111111111,\"#46039f\"],[0.2222222222222222,\"#7201a8\"],[0.3333333333333333,\"#9c179e\"],[0.4444444444444444,\"#bd3786\"],[0.5555555555555556,\"#d8576b\"],[0.6666666666666666,\"#ed7953\"],[0.7777777777777778,\"#fb9f3a\"],[0.8888888888888888,\"#fdca26\"],[1.0,\"#f0f921\"]]}],\"surface\":[{\"type\":\"surface\",\"colorbar\":{\"outlinewidth\":0,\"ticks\":\"\"},\"colorscale\":[[0.0,\"#0d0887\"],[0.1111111111111111,\"#46039f\"],[0.2222222222222222,\"#7201a8\"],[0.3333333333333333,\"#9c179e\"],[0.4444444444444444,\"#bd3786\"],[0.5555555555555556,\"#d8576b\"],[0.6666666666666666,\"#ed7953\"],[0.7777777777777778,\"#fb9f3a\"],[0.8888888888888888,\"#fdca26\"],[1.0,\"#f0f921\"]]}],\"mesh3d\":[{\"type\":\"mesh3d\",\"colorbar\":{\"outlinewidth\":0,\"ticks\":\"\"}}],\"scatter\":[{\"fillpattern\":{\"fillmode\":\"overlay\",\"size\":10,\"solidity\":0.2},\"type\":\"scatter\"}],\"parcoords\":[{\"type\":\"parcoords\",\"line\":{\"colorbar\":{\"outlinewidth\":0,\"ticks\":\"\"}}}],\"scatterpolargl\":[{\"type\":\"scatterpolargl\",\"marker\":{\"colorbar\":{\"outlinewidth\":0,\"ticks\":\"\"}}}],\"bar\":[{\"error_x\":{\"color\":\"#2a3f5f\"},\"error_y\":{\"color\":\"#2a3f5f\"},\"marker\":{\"line\":{\"color\":\"#E5ECF6\",\"width\":0.5},\"pattern\":{\"fillmode\":\"overlay\",\"size\":10,\"solidity\":0.2}},\"type\":\"bar\"}],\"scattergeo\":[{\"type\":\"scattergeo\",\"marker\":{\"colorbar\":{\"outlinewidth\":0,\"ticks\":\"\"}}}],\"scatterpolar\":[{\"type\":\"scatterpolar\",\"marker\":{\"colorbar\":{\"outlinewidth\":0,\"ticks\":\"\"}}}],\"histogram\":[{\"marker\":{\"pattern\":{\"fillmode\":\"overlay\",\"size\":10,\"solidity\":0.2}},\"type\":\"histogram\"}],\"scattergl\":[{\"type\":\"scattergl\",\"marker\":{\"colorbar\":{\"outlinewidth\":0,\"ticks\":\"\"}}}],\"scatter3d\":[{\"type\":\"scatter3d\",\"line\":{\"colorbar\":{\"outlinewidth\":0,\"ticks\":\"\"}},\"marker\":{\"colorbar\":{\"outlinewidth\":0,\"ticks\":\"\"}}}],\"scattermap\":[{\"type\":\"scattermap\",\"marker\":{\"colorbar\":{\"outlinewidth\":0,\"ticks\":\"\"}}}],\"scattermapbox\":[{\"type\":\"scattermapbox\",\"marker\":{\"colorbar\":{\"outlinewidth\":0,\"ticks\":\"\"}}}],\"scatterternary\":[{\"type\":\"scatterternary\",\"marker\":{\"colorbar\":{\"outlinewidth\":0,\"ticks\":\"\"}}}],\"scattercarpet\":[{\"type\":\"scattercarpet\",\"marker\":{\"colorbar\":{\"outlinewidth\":0,\"ticks\":\"\"}}}],\"carpet\":[{\"aaxis\":{\"endlinecolor\":\"#2a3f5f\",\"gridcolor\":\"white\",\"linecolor\":\"white\",\"minorgridcolor\":\"white\",\"startlinecolor\":\"#2a3f5f\"},\"baxis\":{\"endlinecolor\":\"#2a3f5f\",\"gridcolor\":\"white\",\"linecolor\":\"white\",\"minorgridcolor\":\"white\",\"startlinecolor\":\"#2a3f5f\"},\"type\":\"carpet\"}],\"table\":[{\"cells\":{\"fill\":{\"color\":\"#EBF0F8\"},\"line\":{\"color\":\"white\"}},\"header\":{\"fill\":{\"color\":\"#C8D4E3\"},\"line\":{\"color\":\"white\"}},\"type\":\"table\"}],\"barpolar\":[{\"marker\":{\"line\":{\"color\":\"#E5ECF6\",\"width\":0.5},\"pattern\":{\"fillmode\":\"overlay\",\"size\":10,\"solidity\":0.2}},\"type\":\"barpolar\"}],\"pie\":[{\"automargin\":true,\"type\":\"pie\"}]},\"layout\":{\"autotypenumbers\":\"strict\",\"colorway\":[\"#636efa\",\"#EF553B\",\"#00cc96\",\"#ab63fa\",\"#FFA15A\",\"#19d3f3\",\"#FF6692\",\"#B6E880\",\"#FF97FF\",\"#FECB52\"],\"font\":{\"color\":\"#2a3f5f\"},\"hovermode\":\"closest\",\"hoverlabel\":{\"align\":\"left\"},\"paper_bgcolor\":\"white\",\"plot_bgcolor\":\"#E5ECF6\",\"polar\":{\"bgcolor\":\"#E5ECF6\",\"angularaxis\":{\"gridcolor\":\"white\",\"linecolor\":\"white\",\"ticks\":\"\"},\"radialaxis\":{\"gridcolor\":\"white\",\"linecolor\":\"white\",\"ticks\":\"\"}},\"ternary\":{\"bgcolor\":\"#E5ECF6\",\"aaxis\":{\"gridcolor\":\"white\",\"linecolor\":\"white\",\"ticks\":\"\"},\"baxis\":{\"gridcolor\":\"white\",\"linecolor\":\"white\",\"ticks\":\"\"},\"caxis\":{\"gridcolor\":\"white\",\"linecolor\":\"white\",\"ticks\":\"\"}},\"coloraxis\":{\"colorbar\":{\"outlinewidth\":0,\"ticks\":\"\"}},\"colorscale\":{\"sequential\":[[0.0,\"#0d0887\"],[0.1111111111111111,\"#46039f\"],[0.2222222222222222,\"#7201a8\"],[0.3333333333333333,\"#9c179e\"],[0.4444444444444444,\"#bd3786\"],[0.5555555555555556,\"#d8576b\"],[0.6666666666666666,\"#ed7953\"],[0.7777777777777778,\"#fb9f3a\"],[0.8888888888888888,\"#fdca26\"],[1.0,\"#f0f921\"]],\"sequentialminus\":[[0.0,\"#0d0887\"],[0.1111111111111111,\"#46039f\"],[0.2222222222222222,\"#7201a8\"],[0.3333333333333333,\"#9c179e\"],[0.4444444444444444,\"#bd3786\"],[0.5555555555555556,\"#d8576b\"],[0.6666666666666666,\"#ed7953\"],[0.7777777777777778,\"#fb9f3a\"],[0.8888888888888888,\"#fdca26\"],[1.0,\"#f0f921\"]],\"diverging\":[[0,\"#8e0152\"],[0.1,\"#c51b7d\"],[0.2,\"#de77ae\"],[0.3,\"#f1b6da\"],[0.4,\"#fde0ef\"],[0.5,\"#f7f7f7\"],[0.6,\"#e6f5d0\"],[0.7,\"#b8e186\"],[0.8,\"#7fbc41\"],[0.9,\"#4d9221\"],[1,\"#276419\"]]},\"xaxis\":{\"gridcolor\":\"white\",\"linecolor\":\"white\",\"ticks\":\"\",\"title\":{\"standoff\":15},\"zerolinecolor\":\"white\",\"automargin\":true,\"zerolinewidth\":2},\"yaxis\":{\"gridcolor\":\"white\",\"linecolor\":\"white\",\"ticks\":\"\",\"title\":{\"standoff\":15},\"zerolinecolor\":\"white\",\"automargin\":true,\"zerolinewidth\":2},\"scene\":{\"xaxis\":{\"backgroundcolor\":\"#E5ECF6\",\"gridcolor\":\"white\",\"linecolor\":\"white\",\"showbackground\":true,\"ticks\":\"\",\"zerolinecolor\":\"white\",\"gridwidth\":2},\"yaxis\":{\"backgroundcolor\":\"#E5ECF6\",\"gridcolor\":\"white\",\"linecolor\":\"white\",\"showbackground\":true,\"ticks\":\"\",\"zerolinecolor\":\"white\",\"gridwidth\":2},\"zaxis\":{\"backgroundcolor\":\"#E5ECF6\",\"gridcolor\":\"white\",\"linecolor\":\"white\",\"showbackground\":true,\"ticks\":\"\",\"zerolinecolor\":\"white\",\"gridwidth\":2}},\"shapedefaults\":{\"line\":{\"color\":\"#2a3f5f\"}},\"annotationdefaults\":{\"arrowcolor\":\"#2a3f5f\",\"arrowhead\":0,\"arrowwidth\":1},\"geo\":{\"bgcolor\":\"white\",\"landcolor\":\"#E5ECF6\",\"subunitcolor\":\"white\",\"showland\":true,\"showlakes\":true,\"lakecolor\":\"white\"},\"title\":{\"x\":0.05},\"mapbox\":{\"style\":\"light\"}}},\"xaxis\":{\"anchor\":\"y\",\"domain\":[0.0,1.0],\"title\":{\"text\":\"arrival_date\"}},\"yaxis\":{\"anchor\":\"x\",\"domain\":[0.0,1.0],\"title\":{\"text\":\"guests\"}},\"legend\":{\"tracegroupgap\":0},\"title\":{\"text\":\"Total Guests Arrival Per Day\"}},                        {\"responsive\": true}                    ).then(function(){\n",
       "                            \n",
       "var gd = document.getElementById('6f365b64-1637-4988-8bf5-07dce4b0de25');\n",
       "var x = new MutationObserver(function (mutations, observer) {{\n",
       "        var display = window.getComputedStyle(gd).display;\n",
       "        if (!display || display === 'none') {{\n",
       "            console.log([gd, 'removed!']);\n",
       "            Plotly.purge(gd);\n",
       "            observer.disconnect();\n",
       "        }}\n",
       "}});\n",
       "\n",
       "// Listen for the removal of the full notebook cells\n",
       "var notebookContainer = gd.closest('#notebook-container');\n",
       "if (notebookContainer) {{\n",
       "    x.observe(notebookContainer, {childList: true});\n",
       "}}\n",
       "\n",
       "// Listen for the clearing of the current output cell\n",
       "var outputEl = gd.closest('.output');\n",
       "if (outputEl) {{\n",
       "    x.observe(outputEl, {childList: true});\n",
       "}}\n",
       "\n",
       "                        })                };            </script>        </div>"
      ]
     },
     "metadata": {},
     "output_type": "display_data"
    }
   ],
   "source": [
    "fig = px.line(sum_guests_per_day, x='arrival_date', y='guests', title='Total Guests Arrival Per Day')\n",
    "fig.show()"
   ]
  },
  {
   "cell_type": "code",
   "execution_count": 72,
   "id": "e18b37ea-bec8-4f48-a3f4-1a342fbda59a",
   "metadata": {},
   "outputs": [],
   "source": [
    "#ANSWER: there is not a clear trend/seasonality"
   ]
  },
  {
   "cell_type": "code",
   "execution_count": 73,
   "id": "1ce85cd7-cc0f-4ba0-aa94-19eea12cd10a",
   "metadata": {},
   "outputs": [],
   "source": [
    "#QUESTION: analyse the distribution of guest arrival"
   ]
  },
  {
   "cell_type": "code",
   "execution_count": 74,
   "id": "f6424a6c-7d69-404e-9c18-20112ba4f104",
   "metadata": {},
   "outputs": [
    {
     "data": {
      "text/plain": [
       "pandas.core.frame.DataFrame"
      ]
     },
     "execution_count": 74,
     "metadata": {},
     "output_type": "execute_result"
    }
   ],
   "source": [
    "type(sum_guests_per_day)"
   ]
  },
  {
   "cell_type": "code",
   "execution_count": 76,
   "id": "196c8c0a-b511-4e18-8acb-2c5b085f8a6a",
   "metadata": {},
   "outputs": [],
   "source": [
    "# building an array with the guest's values"
   ]
  },
  {
   "cell_type": "code",
   "execution_count": 77,
   "id": "f986be16-d210-4d4e-b36c-7ca6f037fbb8",
   "metadata": {},
   "outputs": [
    {
     "data": {
      "text/plain": [
       "array([ 79.,  71.,  67.,  87.,  80.,  87.,  65.,  56.,  58.,  99.,  83.,\n",
       "        86.,  79.,  48.,  53.,  80., 110.,  93.,  70., 109.,  62.,  59.,\n",
       "        80.,  92., 143.,  63., 131.,  61.,  70.,  81., 106., 111.,  90.,\n",
       "       143.,  74., 116.,  88., 125., 160., 149., 237., 171., 114., 113.,\n",
       "       131., 168., 127., 176., 137., 116., 114., 132., 156., 130., 134.,\n",
       "       115., 109.,  88., 122., 148., 100., 124., 167., 115., 164., 175.,\n",
       "       175., 144., 173., 123., 143., 118., 148., 135., 102., 157., 124.,\n",
       "       168., 174., 122., 180., 132., 172., 110., 142., 118., 167., 112.,\n",
       "        83., 102.,  84., 138., 149., 151.,  94., 157., 167., 148., 152.,\n",
       "       121., 158., 167., 123., 186., 115., 110., 197., 118.,  80., 172.,\n",
       "       190., 145., 132., 133., 126.,  99.,  98.,  85.,  77.,  96.,  89.,\n",
       "       111., 165.,  89.,  92.,  93.,  68.,  79., 113., 119.,  66.,  70.,\n",
       "        68.,  69.,  70.,  55.,  58.,  38.,  93.,  88., 107.,  73., 100.,\n",
       "       106.,  49., 138.,  81.,  52.,  64., 122.,  95.,  24.,  48.,  52.,\n",
       "        68.,  87., 137., 323.,  77.,  42.,  38.,  80.,  74.,  76.,  71.,\n",
       "        24.,  54.,  33.,  55.,  64.,  74., 107.,  55.,  65.,  94.,  99.,\n",
       "       131.,  77., 182., 161., 142., 158., 202., 174.,  75., 174.,  87.,\n",
       "        96.,  58.,  73.,  66.,  86.,  77.,  62.,  54.,  81.,  62.,  99.,\n",
       "       130., 101.,  56.,  64., 126.,  82.,  81.,  87., 115.,  54.,  91.,\n",
       "        80.,  90., 112., 123.,  87.,  52.,  69.,  67., 107., 127., 190.,\n",
       "       249., 155., 141.,  85., 109., 129., 269., 297., 152., 130., 104.,\n",
       "       121., 118., 164., 170., 102., 143.,  95., 118., 167., 231., 252.,\n",
       "       106.,  83., 136., 166., 144., 240., 169., 108., 143., 142., 170.,\n",
       "       155., 210., 198., 143., 154., 143., 145., 188., 190., 235., 242.,\n",
       "       243., 166., 190., 313., 215., 128., 142., 251., 179., 174., 219.,\n",
       "       142., 122., 135., 198., 145., 156., 164., 219., 198., 133., 234.,\n",
       "       153., 183., 140., 177., 206., 186., 211., 109., 168., 172., 206.,\n",
       "       229., 161., 174., 193., 148., 217., 230., 222., 122., 246.,  96.,\n",
       "       155., 206., 163., 170., 180., 202., 126., 155., 220., 170., 152.,\n",
       "       201., 217., 179., 146., 254., 158., 227., 204., 150., 141., 150.,\n",
       "       193.,  98., 104., 219., 236., 192., 153., 215., 198., 153., 102.,\n",
       "       202., 105., 141., 183., 193., 152., 196., 186., 117., 139., 149.,\n",
       "       243., 163., 174., 221., 183., 114., 137., 117., 108., 315., 214.,\n",
       "       188., 131., 208., 196., 187., 185., 215., 188., 202., 164., 193.,\n",
       "       208., 196., 227., 187., 210., 204., 210., 235., 188., 263., 161.,\n",
       "       180., 193., 155., 319., 201., 239., 182., 183., 208., 190., 224.,\n",
       "       180., 321., 208., 207., 237., 192., 230., 209., 312., 182., 177.,\n",
       "       223., 238., 284., 209., 255., 231., 201., 180., 203., 286., 244.,\n",
       "       269., 171., 195., 180., 223., 177., 262., 227., 192., 183., 233.,\n",
       "       205., 196., 158., 239., 145., 120., 149., 192., 180., 242., 213.,\n",
       "       155., 136., 283., 195., 140., 230., 225., 195., 152., 168., 169.,\n",
       "       127., 199., 218., 152., 131., 157., 170., 116., 204., 240., 177.,\n",
       "       168., 226., 197., 131., 217., 195., 147., 188., 165., 104., 112.,\n",
       "       235., 189., 143., 143., 221., 199., 136., 185., 191., 217., 170.,\n",
       "       162., 267., 287., 238., 232., 159., 183., 143., 186., 159., 126.,\n",
       "       175., 112.,  98., 178., 236., 170., 161., 181., 111., 150., 164.,\n",
       "       241., 188., 100., 184.,  92., 109., 124., 229., 156.,  83., 109.,\n",
       "       108.,  71., 141., 183., 197., 100., 141., 104., 131., 250., 122.,\n",
       "       145.,  45.,  80.,  95.,  86.,  78., 130., 143.,  92., 117.,  94.,\n",
       "       113., 128., 154., 162., 112., 152., 255., 164., 162., 252., 107.,\n",
       "       128., 237., 149., 118., 117., 152., 126.,  96.,  96., 105.,  75.,\n",
       "       129., 115., 156.,  82., 131.,  80., 118., 152., 102., 151., 105.,\n",
       "       109.,  94., 123., 136., 194., 157.,  97., 132.,  87.,  73., 141.,\n",
       "       153., 203., 103., 121., 101., 103., 182., 214., 180., 205., 220.,\n",
       "       185., 121., 156., 216., 199., 190., 199., 126., 144., 144., 171.,\n",
       "       256., 253., 203., 128., 161., 235., 167., 117., 184., 152., 146.,\n",
       "       110., 170., 184., 172., 108., 179., 158., 146., 179., 188., 177.,\n",
       "       182., 151., 106., 103., 129., 129., 170., 152., 138., 114., 217.,\n",
       "       198., 216., 183., 133., 192., 113., 223., 176., 171., 191., 277.,\n",
       "       249., 201., 173., 261., 221., 190., 168., 229., 143., 136., 136.,\n",
       "       167., 160., 174., 147., 116., 117., 181., 253., 303., 167., 212.,\n",
       "       211., 151., 187., 229., 183., 151., 206., 201., 132., 188., 164.,\n",
       "       193., 187., 196., 158., 170., 201., 156., 191., 188., 185., 187.,\n",
       "       208., 326., 191., 111., 252., 212., 149., 144., 218., 257., 210.,\n",
       "       179., 209., 157., 135., 217., 182., 185., 250., 198., 152., 144.,\n",
       "       224., 155., 191., 176., 203., 184., 157., 180., 164., 198., 136.,\n",
       "       175., 185., 180., 189., 236., 211., 202., 231., 167., 127., 250.,\n",
       "       205., 215., 260., 264., 230., 211., 182., 179., 307., 222., 251.,\n",
       "       208., 160., 205., 214., 168., 206., 297., 189., 161., 196., 172.,\n",
       "       233., 195., 250., 222., 193., 218., 216., 205., 199., 287., 191.,\n",
       "       185., 181., 155., 249., 209., 223., 208., 227., 255., 235., 240.,\n",
       "       225., 228., 159., 180., 197., 189., 168., 249., 189., 146., 125.,\n",
       "       160.])"
      ]
     },
     "execution_count": 77,
     "metadata": {},
     "output_type": "execute_result"
    }
   ],
   "source": [
    "guests = sum_guests_per_day['guests'].values\n",
    "guests"
   ]
  },
  {
   "cell_type": "code",
   "execution_count": 82,
   "id": "19356932-f619-4d0d-b169-a0fe953ab045",
   "metadata": {},
   "outputs": [
    {
     "data": {
      "text/plain": [
       "<seaborn.axisgrid.FacetGrid at 0x2e1a5b5a870>"
      ]
     },
     "execution_count": 82,
     "metadata": {},
     "output_type": "execute_result"
    },
    {
     "data": {
      "image/png": "[encoded data removed]",
      "text/plain": [
       "<Figure size 500x500 with 1 Axes>"
      ]
     },
     "metadata": {},
     "output_type": "display_data"
    }
   ],
   "source": [
    "sns.displot(guests, kind='kde')"
   ]
  },
  {
   "cell_type": "code",
   "execution_count": 83,
   "id": "e58c547c-ac23-43c7-ab08-bcd365511727",
   "metadata": {},
   "outputs": [],
   "source": [
    "#ANSWER: the most likely amount of guests for any given day is somewhere between 175-200"
   ]
  },
  {
   "cell_type": "code",
   "execution_count": null,
   "id": "8b4ac8f6-5c63-49bb-a21c-047f2458799e",
   "metadata": {},
   "outputs": [],
   "source": []
  }
 ],
 "metadata": {
  "kernelspec": {
   "display_name": "Python 3 (ipykernel)",
   "language": "python",
   "name": "python3"
  },
  "language_info": {
   "codemirror_mode": {
    "name": "ipython",
    "version": 3
   },
   "file_extension": ".py",
   "mimetype": "text/x-python",
   "name": "python",
   "nbconvert_exporter": "python",
   "pygments_lexer": "ipython3",
   "version": "3.12.3"
  }
 },
 "nbformat": 4,
 "nbformat_minor": 5
}
